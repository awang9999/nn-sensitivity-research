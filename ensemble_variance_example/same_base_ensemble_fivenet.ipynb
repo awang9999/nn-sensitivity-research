{
 "cells": [
  {
   "cell_type": "code",
   "execution_count": 6,
   "id": "b9c3a4af-5b71-425c-8464-db80c7a8567c",
   "metadata": {},
   "outputs": [],
   "source": [
    "import torch\n",
    "import numpy as np\n",
    "import matplotlib.pyplot as plt\n",
    "from torch import nn,optim\n",
    "from torch.utils.data import Dataset, DataLoader\n",
    "\n",
    "import copy\n",
    "\n",
    "from sklearn.model_selection import train_test_split\n",
    "from sklearn.preprocessing import StandardScaler\n",
    "\n",
    "from scipy.stats import mode\n",
    "\n",
    "from generic_data import GenericDataset\n",
    "from SimpleNNs import TwoNetBC, FiveNetBC\n",
    "from model_helper import train_epoch, eval_model, eval_ensemble"
   ]
  },
  {
   "cell_type": "code",
   "execution_count": 7,
   "id": "15d0575b-aa9f-4f4a-93c8-28bfe9d53cf4",
   "metadata": {},
   "outputs": [],
   "source": [
    "Xtrain = np.load(\"./data/Xtrain.npy\")\n",
    "Ytrain = np.load(\"./data/Ytrain.npy\")\n",
    "Xtest = np.load(\"./data/Xtest.npy\")\n",
    "Ytest = np.load(\"./data/Ytest.npy\")"
   ]
  },
  {
   "cell_type": "code",
   "execution_count": 8,
   "id": "d07b180d-3e58-444f-9632-1c6c9e27818a",
   "metadata": {},
   "outputs": [],
   "source": [
    "train_dataset = GenericDataset(Xtrain, Ytrain)\n",
    "test_dataset = GenericDataset(Xtest, Ytest)"
   ]
  },
  {
   "cell_type": "code",
   "execution_count": 9,
   "id": "dde513fd-a70c-43aa-9127-2cae1c281f44",
   "metadata": {},
   "outputs": [],
   "source": [
    "# Define model parameters\n",
    "input_size = 4\n",
    "output_size = 1\n",
    "hidden_size = 4\n",
    "shuffle = True\n",
    "\n",
    "# Define training parameters\n",
    "epochs = 100\n",
    "epochs_fine_tune = 100\n",
    "lr = 0.01\n",
    "batch_size = 64\n",
    "\n",
    "# Device parameters\n",
    "device = \"cuda\"\n",
    "\n",
    "# Ensemble parameters\n",
    "num_models = 50"
   ]
  },
  {
   "cell_type": "code",
   "execution_count": 10,
   "id": "a51b462a-5fec-45f8-bd3b-ea796721bce4",
   "metadata": {},
   "outputs": [],
   "source": [
    "base_model=FiveNetBC(input_size, output_size, hidden_size)\n",
    "optimizer = optim.SGD(base_model.parameters(), lr=lr, momentum=0.99)\n",
    "criterion = nn.BCELoss()\n",
    "train_loader=DataLoader(dataset=train_dataset,batch_size=batch_size,shuffle=shuffle)\n",
    "base_model.to(device)\n",
    "    \n",
    "e_losses = []\n",
    "    \n",
    "# Train model\n",
    "for epoch in range(epochs):\n",
    "    loss = train_epoch(base_model, optimizer, criterion, train_loader, device, batch_size)\n",
    "    e_losses.append(loss)\n",
    "        \n",
    "# Evaluate model\n",
    "test_loader = DataLoader(dataset=test_dataset,batch_size=batch_size,shuffle=shuffle)\n",
    "base_acc, _, _ = eval_model(base_model, test_loader)"
   ]
  },
  {
   "cell_type": "code",
   "execution_count": 11,
   "id": "d9c2a073-67ff-4ae4-8231-4a7fafaa8c11",
   "metadata": {},
   "outputs": [
    {
     "data": {
      "text/plain": [
       "0.7625"
      ]
     },
     "execution_count": 11,
     "metadata": {},
     "output_type": "execute_result"
    }
   ],
   "source": [
    "base_acc"
   ]
  },
  {
   "cell_type": "code",
   "execution_count": 12,
   "id": "d5cec210-4bd3-4038-bee4-44a11acfa379",
   "metadata": {},
   "outputs": [
    {
     "data": {
      "text/plain": [
       "0.5143161"
      ]
     },
     "execution_count": 12,
     "metadata": {},
     "output_type": "execute_result"
    }
   ],
   "source": [
    "e_losses[-1]"
   ]
  },
  {
   "cell_type": "code",
   "execution_count": 13,
   "id": "371c005f-61ac-43b9-8777-87e91c6959c0",
   "metadata": {},
   "outputs": [],
   "source": [
    "list_of_models = []\n",
    "accs = []"
   ]
  },
  {
   "cell_type": "code",
   "execution_count": 14,
   "id": "07a8aca1-6f48-449b-9c8b-afab0e7f073e",
   "metadata": {},
   "outputs": [
    {
     "name": "stdout",
     "output_type": "stream",
     "text": [
      "Model 0: Final Loss (0.480990), Test Acc (0.7700)\n",
      "Model 1: Final Loss (0.505502), Test Acc (0.7775)\n",
      "Model 2: Final Loss (0.484219), Test Acc (0.7800)\n",
      "Model 3: Final Loss (0.536309), Test Acc (0.7775)\n",
      "Model 4: Final Loss (0.488528), Test Acc (0.7825)\n",
      "Model 5: Final Loss (0.501102), Test Acc (0.7525)\n",
      "Model 6: Final Loss (0.530058), Test Acc (0.7400)\n",
      "Model 7: Final Loss (0.489457), Test Acc (0.7975)\n",
      "Model 8: Final Loss (0.478218), Test Acc (0.7600)\n",
      "Model 9: Final Loss (0.475631), Test Acc (0.7925)\n",
      "Model 10: Final Loss (0.519090), Test Acc (0.7600)\n",
      "Model 11: Final Loss (0.492226), Test Acc (0.7875)\n",
      "Model 12: Final Loss (0.466467), Test Acc (0.7800)\n",
      "Model 13: Final Loss (0.457221), Test Acc (0.7900)\n",
      "Model 14: Final Loss (0.465747), Test Acc (0.8050)\n",
      "Model 15: Final Loss (0.482070), Test Acc (0.7900)\n",
      "Model 16: Final Loss (0.608706), Test Acc (0.6925)\n",
      "Model 17: Final Loss (0.512939), Test Acc (0.7925)\n",
      "Model 18: Final Loss (0.479403), Test Acc (0.7650)\n",
      "Model 19: Final Loss (0.483059), Test Acc (0.7750)\n",
      "Model 20: Final Loss (0.479723), Test Acc (0.8050)\n",
      "Model 21: Final Loss (0.506224), Test Acc (0.7400)\n",
      "Model 22: Final Loss (0.471447), Test Acc (0.7900)\n",
      "Model 23: Final Loss (0.446769), Test Acc (0.8100)\n",
      "Model 24: Final Loss (0.510960), Test Acc (0.7700)\n",
      "Model 25: Final Loss (0.522857), Test Acc (0.7425)\n",
      "Model 26: Final Loss (0.456027), Test Acc (0.8475)\n",
      "Model 27: Final Loss (0.481846), Test Acc (0.7650)\n",
      "Model 28: Final Loss (0.478337), Test Acc (0.7900)\n",
      "Model 29: Final Loss (0.477211), Test Acc (0.8050)\n",
      "Model 30: Final Loss (0.480735), Test Acc (0.8225)\n",
      "Model 31: Final Loss (0.498789), Test Acc (0.8000)\n",
      "Model 32: Final Loss (0.475641), Test Acc (0.7975)\n",
      "Model 33: Final Loss (0.508663), Test Acc (0.7875)\n",
      "Model 34: Final Loss (0.472067), Test Acc (0.7875)\n",
      "Model 35: Final Loss (0.510944), Test Acc (0.7825)\n",
      "Model 36: Final Loss (0.481868), Test Acc (0.7650)\n",
      "Model 37: Final Loss (0.480647), Test Acc (0.7800)\n",
      "Model 38: Final Loss (0.475061), Test Acc (0.7925)\n",
      "Model 39: Final Loss (0.482102), Test Acc (0.7825)\n",
      "Model 40: Final Loss (0.475355), Test Acc (0.7975)\n",
      "Model 41: Final Loss (0.539820), Test Acc (0.7325)\n",
      "Model 42: Final Loss (0.481388), Test Acc (0.7875)\n",
      "Model 43: Final Loss (0.480930), Test Acc (0.8000)\n",
      "Model 44: Final Loss (0.495126), Test Acc (0.7875)\n",
      "Model 45: Final Loss (0.467297), Test Acc (0.7625)\n",
      "Model 46: Final Loss (0.470806), Test Acc (0.7850)\n",
      "Model 47: Final Loss (0.475371), Test Acc (0.7725)\n",
      "Model 48: Final Loss (0.490860), Test Acc (0.7950)\n",
      "Model 49: Final Loss (0.499011), Test Acc (0.7725)\n"
     ]
    }
   ],
   "source": [
    "# Fine tune 20 models starting from base\n",
    "for i in range(num_models):\n",
    "    # Initialize new model\n",
    "    model = copy.deepcopy(base_model)\n",
    "    # Perturb model first layer weights\n",
    "    model_state = model.state_dict()\n",
    "    epsilon = 1e-3\n",
    "    layer = 'linear_relu_stack.0.weight'\n",
    "    layer_shape = torch.Tensor.size(model_state[layer])\n",
    "    perturbation_tensor = 1 + torch.rand(layer_shape).cuda() * epsilon\n",
    "    perturbation_tensor = perturbation_tensor.to(device)\n",
    "    model_state[layer] *= perturbation_tensor\n",
    "    # Load perturbed weights\n",
    "    model.load_state_dict(model_state)\n",
    "    \n",
    "    optimizer = optim.SGD(model.parameters(), lr=lr, momentum=0.99)    \n",
    "    criterion = nn.BCELoss()\n",
    "    train_loader=DataLoader(dataset=train_dataset,batch_size=batch_size,shuffle=shuffle)\n",
    "    model.to(device)\n",
    "    \n",
    "    e_losses = []\n",
    "    \n",
    "    # Train model\n",
    "    for epoch in range(epochs_fine_tune):\n",
    "        loss = train_epoch(model, optimizer, criterion, train_loader, device, batch_size)\n",
    "        e_losses.append(loss)\n",
    "        \n",
    "    # Evaluate model\n",
    "    test_loader = DataLoader(dataset=test_dataset,batch_size=batch_size,shuffle=shuffle)\n",
    "    acc, _, _ = eval_model(model, test_loader)\n",
    "    \n",
    "    # Add model to list\n",
    "    list_of_models.append(model)\n",
    "    accs.append(acc)\n",
    "    \n",
    "    print(f\"Model {i}: Final Loss ({e_losses[-1]:.6f}), Test Acc ({acc:.4f})\")\n",
    "    "
   ]
  },
  {
   "cell_type": "code",
   "execution_count": 15,
   "id": "0592b45d-8114-44cb-a7bc-2dea9b1741ad",
   "metadata": {},
   "outputs": [],
   "source": [
    "test_loader = DataLoader(dataset=test_dataset,batch_size=batch_size,shuffle=False)\n",
    "ensemble_acc, ensemble_preds, ensemble_labels = eval_ensemble(list_of_models, test_loader)"
   ]
  },
  {
   "cell_type": "code",
   "execution_count": 16,
   "id": "471d0d66-1f5b-428d-930d-c8be1128223a",
   "metadata": {},
   "outputs": [
    {
     "data": {
      "text/plain": [
       "0.8025"
      ]
     },
     "execution_count": 16,
     "metadata": {},
     "output_type": "execute_result"
    }
   ],
   "source": [
    "ensemble_acc"
   ]
  },
  {
   "cell_type": "code",
   "execution_count": 17,
   "id": "3ee35abe-daae-45ed-9e40-240ee062c02c",
   "metadata": {},
   "outputs": [],
   "source": [
    "running_ensemble_acc = []\n",
    "running_ensemble_acc.append(accs[0])"
   ]
  },
  {
   "cell_type": "code",
   "execution_count": 18,
   "id": "1393d06e-ee0d-4344-83d2-cf48772e6838",
   "metadata": {},
   "outputs": [],
   "source": [
    "running_avg_acc = []\n",
    "running_avg_acc.append(accs[0])"
   ]
  },
  {
   "cell_type": "code",
   "execution_count": 19,
   "id": "170b7a0f-3642-4db9-a1a9-87c980622aed",
   "metadata": {},
   "outputs": [],
   "source": [
    "for i in range(1,num_models):\n",
    "    test_loader = DataLoader(dataset=test_dataset,batch_size=batch_size,shuffle=False)\n",
    "    subset_ensemble_acc, _, _ = eval_ensemble(list_of_models[0:i], test_loader)\n",
    "    running_ensemble_acc.append(subset_ensemble_acc)"
   ]
  },
  {
   "cell_type": "code",
   "execution_count": 20,
   "id": "347eabb6-731c-43bd-9100-2cc51e44da0e",
   "metadata": {},
   "outputs": [],
   "source": [
    "for i in range(1, num_models):\n",
    "    running_avg_acc.append( (running_avg_acc[i-1]*i + accs[i]) / (i+1) )"
   ]
  },
  {
   "cell_type": "code",
   "execution_count": 21,
   "id": "e4f6d305-9423-47b6-9627-0c5841aa5b4e",
   "metadata": {},
   "outputs": [
    {
     "data": {
      "text/plain": [
       "<matplotlib.legend.Legend at 0x7f96d01c7dc0>"
      ]
     },
     "execution_count": 21,
     "metadata": {},
     "output_type": "execute_result"
    },
    {
     "data": {
      "image/png": "[encoded data removed]",
      "text/plain": [
       "<Figure size 640x480 with 1 Axes>"
      ]
     },
     "metadata": {},
     "output_type": "display_data"
    }
   ],
   "source": [
    "plt.plot(running_avg_acc, label=\"running avg acc\")\n",
    "plt.plot(running_ensemble_acc, label=\"running ensemble acc\")\n",
    "plt.legend()"
   ]
  },
  {
   "cell_type": "code",
   "execution_count": null,
   "id": "30e13c75-743c-46ac-a747-ae9d30f10daf",
   "metadata": {},
   "outputs": [],
   "source": []
  }
 ],
 "metadata": {
  "kernelspec": {
   "display_name": "pytorch",
   "language": "python",
   "name": "pytorch"
  },
  "language_info": {
   "codemirror_mode": {
    "name": "ipython",
    "version": 3
   },
   "file_extension": ".py",
   "mimetype": "text/x-python",
   "name": "python",
   "nbconvert_exporter": "python",
   "pygments_lexer": "ipython3",
   "version": "3.9.5"
  }
 },
 "nbformat": 4,
 "nbformat_minor": 5
}
