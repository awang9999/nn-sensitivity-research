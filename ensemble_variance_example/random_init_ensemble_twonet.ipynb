{
 "cells": [
  {
   "cell_type": "code",
   "execution_count": 1,
   "id": "070afc08-922f-4b61-a01c-5509fb3b3663",
   "metadata": {},
   "outputs": [],
   "source": [
    "import torch\n",
    "import numpy as np\n",
    "import matplotlib.pyplot as plt\n",
    "from torch import nn,optim\n",
    "from torch.utils.data import Dataset, DataLoader\n",
    "\n",
    "from sklearn.model_selection import train_test_split\n",
    "from sklearn.preprocessing import StandardScaler\n",
    "\n",
    "from scipy.stats import mode\n",
    "\n",
    "from generic_data import GenericDataset\n",
    "from SimpleNNs import TwoNetBC, FiveNetBC\n",
    "from model_helper import train_epoch, eval_model, eval_ensemble"
   ]
  },
  {
   "cell_type": "code",
   "execution_count": 2,
   "id": "57e47abd-6cd5-4404-87b2-9a1e1e1f0daa",
   "metadata": {},
   "outputs": [],
   "source": [
    "Xtrain = np.load(\"./data/Xtrain.npy\")\n",
    "Ytrain = np.load(\"./data/Ytrain.npy\")\n",
    "Xtest = np.load(\"./data/Xtest.npy\")\n",
    "Ytest = np.load(\"./data/Ytest.npy\")"
   ]
  },
  {
   "cell_type": "code",
   "execution_count": 3,
   "id": "417aa8f6-1e44-4dbc-bca3-09fad5844232",
   "metadata": {},
   "outputs": [],
   "source": [
    "train_dataset = GenericDataset(Xtrain, Ytrain)\n",
    "test_dataset = GenericDataset(Xtest, Ytest)"
   ]
  },
  {
   "cell_type": "code",
   "execution_count": 4,
   "id": "a5129f34-924d-4221-99d2-7f457ceec56c",
   "metadata": {},
   "outputs": [],
   "source": [
    "# Define model parameters\n",
    "input_size = 4\n",
    "output_size = 1\n",
    "hidden_size = 4\n",
    "shuffle = True\n",
    "\n",
    "# Define training parameters\n",
    "epochs = 200\n",
    "lr = 0.01\n",
    "batch_size = 64\n",
    "\n",
    "# Device parameters\n",
    "device = \"cuda\"\n",
    "\n",
    "# Ensemble parameters\n",
    "num_models = 50"
   ]
  },
  {
   "cell_type": "code",
   "execution_count": 5,
   "id": "61430043-02a6-4fec-931c-0a39148fe4f4",
   "metadata": {},
   "outputs": [],
   "source": [
    "list_of_models = []\n",
    "accs = []"
   ]
  },
  {
   "cell_type": "code",
   "execution_count": 6,
   "id": "37813d47-0994-40cf-b33d-3901b5c89503",
   "metadata": {},
   "outputs": [
    {
     "name": "stdout",
     "output_type": "stream",
     "text": [
      "Model 0: Final Loss (0.573354), Test Acc (0.7200)\n",
      "Model 1: Final Loss (0.545879), Test Acc (0.7175)\n",
      "Model 2: Final Loss (0.580320), Test Acc (0.7200)\n",
      "Model 3: Final Loss (0.469355), Test Acc (0.8050)\n",
      "Model 4: Final Loss (0.568867), Test Acc (0.7150)\n",
      "Model 5: Final Loss (0.441518), Test Acc (0.8150)\n",
      "Model 6: Final Loss (0.569504), Test Acc (0.6975)\n",
      "Model 7: Final Loss (0.436381), Test Acc (0.8325)\n",
      "Model 8: Final Loss (0.451914), Test Acc (0.8300)\n",
      "Model 9: Final Loss (0.606642), Test Acc (0.7025)\n",
      "Model 10: Final Loss (0.466292), Test Acc (0.8200)\n",
      "Model 11: Final Loss (0.528136), Test Acc (0.7750)\n",
      "Model 12: Final Loss (0.564231), Test Acc (0.6625)\n",
      "Model 13: Final Loss (0.515050), Test Acc (0.7500)\n",
      "Model 14: Final Loss (0.503866), Test Acc (0.7575)\n",
      "Model 15: Final Loss (0.463722), Test Acc (0.8325)\n",
      "Model 16: Final Loss (0.435033), Test Acc (0.8375)\n",
      "Model 17: Final Loss (0.545581), Test Acc (0.6850)\n",
      "Model 18: Final Loss (0.425297), Test Acc (0.8200)\n",
      "Model 19: Final Loss (0.490421), Test Acc (0.7625)\n",
      "Model 20: Final Loss (0.498211), Test Acc (0.7125)\n",
      "Model 21: Final Loss (0.504232), Test Acc (0.7425)\n",
      "Model 22: Final Loss (0.476591), Test Acc (0.7500)\n",
      "Model 23: Final Loss (0.458061), Test Acc (0.7525)\n",
      "Model 24: Final Loss (0.532608), Test Acc (0.6975)\n",
      "Model 25: Final Loss (0.534657), Test Acc (0.6900)\n",
      "Model 26: Final Loss (0.477142), Test Acc (0.7550)\n",
      "Model 27: Final Loss (0.474112), Test Acc (0.7975)\n",
      "Model 28: Final Loss (0.495890), Test Acc (0.7025)\n",
      "Model 29: Final Loss (0.693299), Test Acc (0.5075)\n",
      "Model 30: Final Loss (0.553708), Test Acc (0.7125)\n",
      "Model 31: Final Loss (0.480971), Test Acc (0.8025)\n",
      "Model 32: Final Loss (0.450880), Test Acc (0.7850)\n",
      "Model 33: Final Loss (0.591310), Test Acc (0.6425)\n",
      "Model 34: Final Loss (0.469361), Test Acc (0.7475)\n",
      "Model 35: Final Loss (0.417106), Test Acc (0.8050)\n",
      "Model 36: Final Loss (0.582891), Test Acc (0.7450)\n",
      "Model 37: Final Loss (0.518337), Test Acc (0.8000)\n",
      "Model 38: Final Loss (0.482504), Test Acc (0.7950)\n",
      "Model 39: Final Loss (0.575937), Test Acc (0.6975)\n",
      "Model 40: Final Loss (0.513360), Test Acc (0.7575)\n",
      "Model 41: Final Loss (0.431118), Test Acc (0.8175)\n",
      "Model 42: Final Loss (0.441883), Test Acc (0.7575)\n",
      "Model 43: Final Loss (0.514143), Test Acc (0.7375)\n",
      "Model 44: Final Loss (0.525135), Test Acc (0.7250)\n",
      "Model 45: Final Loss (0.411249), Test Acc (0.8075)\n",
      "Model 46: Final Loss (0.485166), Test Acc (0.7675)\n",
      "Model 47: Final Loss (0.518260), Test Acc (0.7200)\n",
      "Model 48: Final Loss (0.474080), Test Acc (0.8150)\n",
      "Model 49: Final Loss (0.545041), Test Acc (0.7200)\n"
     ]
    }
   ],
   "source": [
    "for i in range(num_models):\n",
    "    # Initialize new model\n",
    "    model=TwoNetBC(input_size, output_size, hidden_size)\n",
    "    #optimizer = optim.Adam(model.parameters(), lr=lr, betas=(0.9, 0.999))\n",
    "    optimizer = optim.SGD(model.parameters(), lr=lr, momentum=0.99)\n",
    "    criterion = nn.BCELoss()\n",
    "    train_loader=DataLoader(dataset=train_dataset,batch_size=batch_size,shuffle=shuffle)\n",
    "    model.to(device)\n",
    "    \n",
    "    e_losses = []\n",
    "    \n",
    "    # Train model\n",
    "    for epoch in range(epochs):\n",
    "        loss = train_epoch(model, optimizer, criterion, train_loader, device, batch_size)\n",
    "        e_losses.append(loss)\n",
    "        \n",
    "    # Evaluate model\n",
    "    test_loader = DataLoader(dataset=test_dataset,batch_size=batch_size,shuffle=shuffle)\n",
    "    acc, _, _ = eval_model(model, test_loader)\n",
    "    \n",
    "    # Add model to list\n",
    "    list_of_models.append(model)\n",
    "    accs.append(acc)\n",
    "    \n",
    "    print(f\"Model {i}: Final Loss ({e_losses[-1]:.6f}), Test Acc ({acc:.4f})\")\n",
    "    "
   ]
  },
  {
   "cell_type": "code",
   "execution_count": 7,
   "id": "5142d679-fa9f-4763-bae6-fc6587b373c4",
   "metadata": {},
   "outputs": [],
   "source": [
    "test_loader = DataLoader(dataset=test_dataset,batch_size=batch_size,shuffle=False)\n",
    "ensemble_acc, ensemble_preds, ensemble_labels = eval_ensemble(list_of_models, test_loader)"
   ]
  },
  {
   "cell_type": "code",
   "execution_count": 8,
   "id": "9579fbdd-4f5d-4ab8-b429-1fcbfd85b07f",
   "metadata": {},
   "outputs": [
    {
     "data": {
      "text/plain": [
       "0.87"
      ]
     },
     "execution_count": 8,
     "metadata": {},
     "output_type": "execute_result"
    }
   ],
   "source": [
    "ensemble_acc"
   ]
  },
  {
   "cell_type": "code",
   "execution_count": 9,
   "id": "21e79da9-a340-497d-8166-487a3c4eda6e",
   "metadata": {},
   "outputs": [],
   "source": [
    "running_ensemble_acc = []\n",
    "running_ensemble_acc.append(accs[0])"
   ]
  },
  {
   "cell_type": "code",
   "execution_count": 10,
   "id": "9b27684d-f336-450e-84fe-c346a2a31c69",
   "metadata": {},
   "outputs": [],
   "source": [
    "running_avg_acc = []\n",
    "running_avg_acc.append(accs[0])"
   ]
  },
  {
   "cell_type": "code",
   "execution_count": 11,
   "id": "b6bf2c9b-db84-41f2-bfa4-fb5fc97a08e6",
   "metadata": {},
   "outputs": [],
   "source": [
    "for i in range(1,num_models):\n",
    "    test_loader = DataLoader(dataset=test_dataset,batch_size=batch_size,shuffle=False)\n",
    "    subset_ensemble_acc, _, _ = eval_ensemble(list_of_models[0:i], test_loader)\n",
    "    running_ensemble_acc.append(subset_ensemble_acc)"
   ]
  },
  {
   "cell_type": "code",
   "execution_count": 12,
   "id": "02ca4f03-f0e0-4cb1-8897-0a71b4e1fe8c",
   "metadata": {},
   "outputs": [],
   "source": [
    "for i in range(1, num_models):\n",
    "    running_avg_acc.append( (running_avg_acc[i-1]*i + accs[i]) / (i+1) )"
   ]
  },
  {
   "cell_type": "code",
   "execution_count": 13,
   "id": "320682f4-3ec9-4952-a189-4565819208c8",
   "metadata": {},
   "outputs": [
    {
     "data": {
      "text/plain": [
       "<matplotlib.legend.Legend at 0x7fc670105fd0>"
      ]
     },
     "execution_count": 13,
     "metadata": {},
     "output_type": "execute_result"
    },
    {
     "data": {
      "image/png": "[encoded data removed]",
      "text/plain": [
       "<Figure size 640x480 with 1 Axes>"
      ]
     },
     "metadata": {},
     "output_type": "display_data"
    }
   ],
   "source": [
    "plt.plot(running_avg_acc, label=\"running avg acc\")\n",
    "plt.plot(running_ensemble_acc, label=\"running ensemble acc\")\n",
    "plt.legend()"
   ]
  },
  {
   "cell_type": "code",
   "execution_count": null,
   "id": "6f0327eb-51b5-488e-a57b-6a97628f6420",
   "metadata": {},
   "outputs": [],
   "source": []
  }
 ],
 "metadata": {
  "kernelspec": {
   "display_name": "pytorch",
   "language": "python",
   "name": "pytorch"
  },
  "language_info": {
   "codemirror_mode": {
    "name": "ipython",
    "version": 3
   },
   "file_extension": ".py",
   "mimetype": "text/x-python",
   "name": "python",
   "nbconvert_exporter": "python",
   "pygments_lexer": "ipython3",
   "version": "3.9.5"
  }
 },
 "nbformat": 4,
 "nbformat_minor": 5
}
