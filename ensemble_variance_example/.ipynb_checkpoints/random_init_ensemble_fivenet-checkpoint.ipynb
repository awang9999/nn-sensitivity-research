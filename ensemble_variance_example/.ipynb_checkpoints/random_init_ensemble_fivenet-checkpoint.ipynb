{
 "cells": [
  {
   "cell_type": "code",
   "execution_count": 1,
   "id": "070afc08-922f-4b61-a01c-5509fb3b3663",
   "metadata": {},
   "outputs": [],
   "source": [
    "import torch\n",
    "import numpy as np\n",
    "import matplotlib.pyplot as plt\n",
    "from torch import nn,optim\n",
    "from torch.utils.data import Dataset, DataLoader\n",
    "\n",
    "from sklearn.model_selection import train_test_split\n",
    "from sklearn.preprocessing import StandardScaler\n",
    "\n",
    "from scipy.stats import mode\n",
    "\n",
    "from generic_data import GenericDataset\n",
    "from SimpleNNs import TwoNetBC, FiveNetBC\n",
    "from model_helper import train_epoch, eval_model, eval_ensemble"
   ]
  },
  {
   "cell_type": "code",
   "execution_count": 2,
   "id": "57e47abd-6cd5-4404-87b2-9a1e1e1f0daa",
   "metadata": {},
   "outputs": [],
   "source": [
    "Xtrain = np.load(\"./data/Xtrain.npy\")\n",
    "Ytrain = np.load(\"./data/Ytrain.npy\")\n",
    "Xtest = np.load(\"./data/Xtest.npy\")\n",
    "Ytest = np.load(\"./data/Ytest.npy\")"
   ]
  },
  {
   "cell_type": "code",
   "execution_count": 3,
   "id": "417aa8f6-1e44-4dbc-bca3-09fad5844232",
   "metadata": {},
   "outputs": [],
   "source": [
    "train_dataset = GenericDataset(Xtrain, Ytrain)\n",
    "test_dataset = GenericDataset(Xtest, Ytest)"
   ]
  },
  {
   "cell_type": "code",
   "execution_count": 4,
   "id": "a5129f34-924d-4221-99d2-7f457ceec56c",
   "metadata": {},
   "outputs": [],
   "source": [
    "# Define model parameters\n",
    "input_size = 4\n",
    "output_size = 1\n",
    "hidden_size = 4\n",
    "shuffle = True\n",
    "\n",
    "# Define training parameters\n",
    "epochs = 200\n",
    "lr = 0.01\n",
    "batch_size = 64\n",
    "\n",
    "# Device parameters\n",
    "device = \"cuda\"\n",
    "\n",
    "# Ensemble parameters\n",
    "num_models = 20"
   ]
  },
  {
   "cell_type": "code",
   "execution_count": 5,
   "id": "61430043-02a6-4fec-931c-0a39148fe4f4",
   "metadata": {},
   "outputs": [],
   "source": [
    "list_of_models = []\n",
    "accs = []"
   ]
  },
  {
   "cell_type": "code",
   "execution_count": 6,
   "id": "37813d47-0994-40cf-b33d-3901b5c89503",
   "metadata": {},
   "outputs": [
    {
     "name": "stdout",
     "output_type": "stream",
     "text": [
      "Model 0: Final Loss (0.510812), Test Acc (0.6950)\n",
      "Model 1: Final Loss (0.469540), Test Acc (0.7500)\n",
      "Model 2: Final Loss (0.442827), Test Acc (0.8025)\n",
      "Model 3: Final Loss (0.482488), Test Acc (0.7350)\n",
      "Model 4: Final Loss (0.476082), Test Acc (0.8125)\n",
      "Model 5: Final Loss (0.545293), Test Acc (0.7025)\n",
      "Model 6: Final Loss (0.567737), Test Acc (0.7075)\n",
      "Model 7: Final Loss (0.460972), Test Acc (0.8000)\n",
      "Model 8: Final Loss (0.550649), Test Acc (0.7550)\n",
      "Model 9: Final Loss (0.502892), Test Acc (0.7725)\n",
      "Model 10: Final Loss (0.523134), Test Acc (0.7450)\n",
      "Model 11: Final Loss (0.489961), Test Acc (0.7750)\n",
      "Model 12: Final Loss (0.500033), Test Acc (0.7800)\n",
      "Model 13: Final Loss (0.693341), Test Acc (0.4925)\n",
      "Model 14: Final Loss (0.584261), Test Acc (0.6750)\n",
      "Model 15: Final Loss (0.559500), Test Acc (0.6625)\n",
      "Model 16: Final Loss (0.630108), Test Acc (0.6275)\n",
      "Model 17: Final Loss (0.511240), Test Acc (0.7400)\n",
      "Model 18: Final Loss (0.542176), Test Acc (0.7275)\n",
      "Model 19: Final Loss (0.590435), Test Acc (0.6550)\n"
     ]
    }
   ],
   "source": [
    "for i in range(num_models):\n",
    "    # Initialize new model\n",
    "    model=FiveNetBC(input_size, output_size, hidden_size)\n",
    "    #optimizer = optim.Adam(model.parameters(), lr=lr, betas=(0.9, 0.999))\n",
    "    optimizer = optim.SGD(model.parameters(), lr=lr, momentum=0.99)\n",
    "    criterion = nn.BCELoss()\n",
    "    train_loader=DataLoader(dataset=train_dataset,batch_size=batch_size,shuffle=shuffle)\n",
    "    model.to(device)\n",
    "    \n",
    "    e_losses = []\n",
    "    \n",
    "    # Train model\n",
    "    for epoch in range(epochs):\n",
    "        loss = train_epoch(model, optimizer, criterion, train_loader, device, batch_size)\n",
    "        e_losses.append(loss)\n",
    "        \n",
    "    # Evaluate model\n",
    "    test_loader = DataLoader(dataset=test_dataset,batch_size=batch_size,shuffle=shuffle)\n",
    "    acc, _, _ = eval_model(model, test_loader)\n",
    "    \n",
    "    # Add model to list\n",
    "    list_of_models.append(model)\n",
    "    accs.append(acc)\n",
    "    \n",
    "    print(f\"Model {i}: Final Loss ({e_losses[-1]:.6f}), Test Acc ({acc:.4f})\")\n",
    "    "
   ]
  },
  {
   "cell_type": "code",
   "execution_count": 7,
   "id": "5142d679-fa9f-4763-bae6-fc6587b373c4",
   "metadata": {},
   "outputs": [],
   "source": [
    "test_loader = DataLoader(dataset=test_dataset,batch_size=batch_size,shuffle=False)\n",
    "ensemble_acc, ensemble_preds, ensemble_labels = eval_ensemble(list_of_models, test_loader)"
   ]
  },
  {
   "cell_type": "code",
   "execution_count": 8,
   "id": "9579fbdd-4f5d-4ab8-b429-1fcbfd85b07f",
   "metadata": {},
   "outputs": [
    {
     "data": {
      "text/plain": [
       "0.835"
      ]
     },
     "execution_count": 8,
     "metadata": {},
     "output_type": "execute_result"
    }
   ],
   "source": [
    "ensemble_acc"
   ]
  },
  {
   "cell_type": "code",
   "execution_count": null,
   "id": "21e79da9-a340-497d-8166-487a3c4eda6e",
   "metadata": {},
   "outputs": [],
   "source": []
  }
 ],
 "metadata": {
  "kernelspec": {
   "display_name": "pytorch",
   "language": "python",
   "name": "pytorch"
  },
  "language_info": {
   "codemirror_mode": {
    "name": "ipython",
    "version": 3
   },
   "file_extension": ".py",
   "mimetype": "text/x-python",
   "name": "python",
   "nbconvert_exporter": "python",
   "pygments_lexer": "ipython3",
   "version": "3.9.5"
  }
 },
 "nbformat": 4,
 "nbformat_minor": 5
}
