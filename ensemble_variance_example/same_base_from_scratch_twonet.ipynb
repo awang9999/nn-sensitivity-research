{
 "cells": [
  {
   "cell_type": "code",
   "execution_count": 1,
   "id": "f04dc6ae-1f42-43ce-8ea8-e3fc467195db",
   "metadata": {},
   "outputs": [],
   "source": [
    "import torch\n",
    "import numpy as np\n",
    "import matplotlib.pyplot as plt\n",
    "from torch import nn,optim\n",
    "from torch.utils.data import Dataset, DataLoader\n",
    "\n",
    "import copy\n",
    "\n",
    "from sklearn.model_selection import train_test_split\n",
    "from sklearn.preprocessing import StandardScaler\n",
    "\n",
    "from scipy.stats import mode\n",
    "\n",
    "from generic_data import GenericDataset\n",
    "from SimpleNNs import TwoNetBC, FiveNetBC\n",
    "from model_helper import train_epoch, eval_model, eval_ensemble"
   ]
  },
  {
   "cell_type": "code",
   "execution_count": 2,
   "id": "4bdcf6a5-619a-45b3-b20a-995cf96aae6a",
   "metadata": {},
   "outputs": [],
   "source": [
    "Xtrain = np.load(\"./data/Xtrain.npy\")\n",
    "Ytrain = np.load(\"./data/Ytrain.npy\")\n",
    "Xtest = np.load(\"./data/Xtest.npy\")\n",
    "Ytest = np.load(\"./data/Ytest.npy\")"
   ]
  },
  {
   "cell_type": "code",
   "execution_count": 3,
   "id": "eb9643eb-f523-44da-9601-a7341e5141e2",
   "metadata": {},
   "outputs": [],
   "source": [
    "train_dataset = GenericDataset(Xtrain, Ytrain)\n",
    "test_dataset = GenericDataset(Xtest, Ytest)"
   ]
  },
  {
   "cell_type": "code",
   "execution_count": 4,
   "id": "b87eb799-bdb4-4538-a4c6-a9f7379dd19b",
   "metadata": {},
   "outputs": [],
   "source": [
    "# Define model parameters\n",
    "input_size = 4\n",
    "output_size = 1\n",
    "hidden_size = 4\n",
    "shuffle = True\n",
    "\n",
    "# Define training parameters\n",
    "epochs = 200\n",
    "lr = 0.01\n",
    "batch_size = 64\n",
    "\n",
    "# Device parameters\n",
    "device = \"cuda\"\n",
    "\n",
    "# Ensemble parameters\n",
    "num_models = 50"
   ]
  },
  {
   "cell_type": "code",
   "execution_count": 5,
   "id": "70a0f02e-070c-4ec1-9bfa-218eb20ef0d8",
   "metadata": {},
   "outputs": [
    {
     "data": {
      "text/plain": [
       "TwoNetBC(\n",
       "  (flatten): Flatten(start_dim=1, end_dim=-1)\n",
       "  (linear_relu_stack): Sequential(\n",
       "    (0): Linear(in_features=4, out_features=4, bias=True)\n",
       "    (1): ReLU()\n",
       "    (2): Linear(in_features=4, out_features=4, bias=True)\n",
       "    (3): ReLU()\n",
       "    (4): Linear(in_features=4, out_features=1, bias=True)\n",
       "    (5): Sigmoid()\n",
       "  )\n",
       ")"
      ]
     },
     "execution_count": 5,
     "metadata": {},
     "output_type": "execute_result"
    }
   ],
   "source": [
    "base_model=TwoNetBC(input_size, output_size, hidden_size)\n",
    "optimizer = optim.SGD(base_model.parameters(), lr=lr, momentum=0.99)\n",
    "criterion = nn.BCELoss()\n",
    "train_loader=DataLoader(dataset=train_dataset,batch_size=batch_size,shuffle=shuffle)\n",
    "base_model.to(device)"
   ]
  },
  {
   "cell_type": "code",
   "execution_count": 6,
   "id": "74d4f60d-a788-4505-8413-b1129990c820",
   "metadata": {},
   "outputs": [],
   "source": [
    "list_of_models = []\n",
    "accs = []"
   ]
  },
  {
   "cell_type": "code",
   "execution_count": 7,
   "id": "c2a0de89-274d-4759-a9c5-d3747e43eaec",
   "metadata": {},
   "outputs": [
    {
     "name": "stdout",
     "output_type": "stream",
     "text": [
      "Model 0: Final Loss (0.455501), Test Acc (0.7950)\n",
      "Model 1: Final Loss (0.432342), Test Acc (0.8275)\n",
      "Model 2: Final Loss (0.426499), Test Acc (0.8175)\n",
      "Model 3: Final Loss (0.442730), Test Acc (0.8275)\n",
      "Model 4: Final Loss (0.456668), Test Acc (0.8200)\n",
      "Model 5: Final Loss (0.434902), Test Acc (0.8275)\n",
      "Model 6: Final Loss (0.432973), Test Acc (0.8275)\n",
      "Model 7: Final Loss (0.442292), Test Acc (0.8200)\n",
      "Model 8: Final Loss (0.435803), Test Acc (0.8400)\n",
      "Model 9: Final Loss (0.461046), Test Acc (0.7475)\n",
      "Model 10: Final Loss (0.433327), Test Acc (0.8400)\n",
      "Model 11: Final Loss (0.433017), Test Acc (0.8225)\n",
      "Model 12: Final Loss (0.430928), Test Acc (0.8300)\n",
      "Model 13: Final Loss (0.460421), Test Acc (0.7750)\n",
      "Model 14: Final Loss (0.420092), Test Acc (0.8200)\n",
      "Model 15: Final Loss (0.442090), Test Acc (0.8225)\n",
      "Model 16: Final Loss (0.424410), Test Acc (0.8425)\n",
      "Model 17: Final Loss (0.420782), Test Acc (0.8300)\n",
      "Model 18: Final Loss (0.430617), Test Acc (0.8200)\n",
      "Model 19: Final Loss (0.448354), Test Acc (0.8025)\n",
      "Model 20: Final Loss (0.437437), Test Acc (0.8375)\n",
      "Model 21: Final Loss (0.443941), Test Acc (0.8350)\n",
      "Model 22: Final Loss (0.440742), Test Acc (0.8250)\n",
      "Model 23: Final Loss (0.440730), Test Acc (0.8275)\n",
      "Model 24: Final Loss (0.414563), Test Acc (0.8175)\n",
      "Model 25: Final Loss (0.447398), Test Acc (0.7725)\n",
      "Model 26: Final Loss (0.437208), Test Acc (0.8050)\n",
      "Model 27: Final Loss (0.449399), Test Acc (0.8150)\n",
      "Model 28: Final Loss (0.450476), Test Acc (0.7825)\n",
      "Model 29: Final Loss (0.472816), Test Acc (0.8025)\n",
      "Model 30: Final Loss (0.438224), Test Acc (0.8275)\n",
      "Model 31: Final Loss (0.421794), Test Acc (0.8400)\n",
      "Model 32: Final Loss (0.437048), Test Acc (0.8275)\n",
      "Model 33: Final Loss (0.422372), Test Acc (0.8300)\n",
      "Model 34: Final Loss (0.441465), Test Acc (0.7950)\n",
      "Model 35: Final Loss (0.492911), Test Acc (0.8050)\n",
      "Model 36: Final Loss (0.428659), Test Acc (0.8250)\n",
      "Model 37: Final Loss (0.438108), Test Acc (0.8200)\n",
      "Model 38: Final Loss (0.430736), Test Acc (0.8050)\n",
      "Model 39: Final Loss (0.437919), Test Acc (0.7875)\n",
      "Model 40: Final Loss (0.447027), Test Acc (0.7825)\n",
      "Model 41: Final Loss (0.424591), Test Acc (0.8400)\n",
      "Model 42: Final Loss (0.432377), Test Acc (0.8375)\n",
      "Model 43: Final Loss (0.432971), Test Acc (0.8325)\n",
      "Model 44: Final Loss (0.426212), Test Acc (0.8375)\n",
      "Model 45: Final Loss (0.467937), Test Acc (0.7700)\n",
      "Model 46: Final Loss (0.447374), Test Acc (0.8275)\n",
      "Model 47: Final Loss (0.439835), Test Acc (0.8225)\n",
      "Model 48: Final Loss (0.422346), Test Acc (0.8250)\n",
      "Model 49: Final Loss (0.440310), Test Acc (0.8050)\n"
     ]
    }
   ],
   "source": [
    "# Fine tune 20 models starting from base\n",
    "for i in range(num_models):\n",
    "    # Initialize new model\n",
    "    model = copy.deepcopy(base_model)\n",
    "    # Perturb model first layer weights\n",
    "    model_state = model.state_dict()\n",
    "    epsilon = 1e-3\n",
    "    layer = 'linear_relu_stack.0.weight'\n",
    "    layer_shape = torch.Tensor.size(model_state[layer])\n",
    "    perturbation_tensor = 1 + torch.rand(layer_shape).cuda() * epsilon\n",
    "    perturbation_tensor = perturbation_tensor.to(device)\n",
    "    model_state[layer] *= perturbation_tensor\n",
    "    \n",
    "    layer = 'linear_relu_stack.2.weight'\n",
    "    layer_shape = torch.Tensor.size(model_state[layer])\n",
    "    perturbation_tensor = 1 + torch.rand(layer_shape).cuda() * epsilon\n",
    "    perturbation_tensor = perturbation_tensor.to(device)\n",
    "    model_state[layer] *= perturbation_tensor\n",
    "    # Load perturbed weights\n",
    "    model.load_state_dict(model_state)\n",
    "    \n",
    "    optimizer = optim.SGD(model.parameters(), lr=lr, momentum=0.99)    \n",
    "    criterion = nn.BCELoss()\n",
    "    train_loader=DataLoader(dataset=train_dataset,batch_size=batch_size,shuffle=shuffle)\n",
    "    model.to(device)\n",
    "    \n",
    "    e_losses = []\n",
    "    \n",
    "    # Train model\n",
    "    for epoch in range(epochs):\n",
    "        loss = train_epoch(model, optimizer, criterion, train_loader, device, batch_size)\n",
    "        e_losses.append(loss)\n",
    "        \n",
    "    # Evaluate model\n",
    "    test_loader = DataLoader(dataset=test_dataset,batch_size=batch_size,shuffle=shuffle)\n",
    "    acc, _, _ = eval_model(model, test_loader)\n",
    "    \n",
    "    # Add model to list\n",
    "    list_of_models.append(model)\n",
    "    accs.append(acc)\n",
    "    \n",
    "    print(f\"Model {i}: Final Loss ({e_losses[-1]:.6f}), Test Acc ({acc:.4f})\")"
   ]
  },
  {
   "cell_type": "code",
   "execution_count": 8,
   "id": "714258e9-03df-41bb-9325-87bd08989521",
   "metadata": {},
   "outputs": [],
   "source": [
    "test_loader = DataLoader(dataset=test_dataset,batch_size=batch_size,shuffle=False)\n",
    "ensemble_acc, ensemble_preds, ensemble_labels = eval_ensemble(list_of_models, test_loader)"
   ]
  },
  {
   "cell_type": "code",
   "execution_count": 9,
   "id": "ee9192f7-92bc-42e7-8194-6ecc19a6069b",
   "metadata": {},
   "outputs": [
    {
     "data": {
      "text/plain": [
       "0.845"
      ]
     },
     "execution_count": 9,
     "metadata": {},
     "output_type": "execute_result"
    }
   ],
   "source": [
    "ensemble_acc"
   ]
  },
  {
   "cell_type": "code",
   "execution_count": 10,
   "id": "a1c07f1b-80c8-429c-97df-29ff67f41fc4",
   "metadata": {},
   "outputs": [],
   "source": [
    "running_ensemble_acc = []\n",
    "running_ensemble_acc.append(accs[0])"
   ]
  },
  {
   "cell_type": "code",
   "execution_count": 11,
   "id": "7f71f398-5c6f-4b09-a665-9a369433a9ce",
   "metadata": {},
   "outputs": [],
   "source": [
    "running_avg_acc = []\n",
    "running_avg_acc.append(accs[0])"
   ]
  },
  {
   "cell_type": "code",
   "execution_count": 12,
   "id": "4338ee46-99f5-4c58-9782-53cff0d4290d",
   "metadata": {},
   "outputs": [],
   "source": [
    "for i in range(1,num_models):\n",
    "    test_loader = DataLoader(dataset=test_dataset,batch_size=batch_size,shuffle=False)\n",
    "    subset_ensemble_acc, _, _ = eval_ensemble(list_of_models[0:i], test_loader)\n",
    "    running_ensemble_acc.append(subset_ensemble_acc)"
   ]
  },
  {
   "cell_type": "code",
   "execution_count": 13,
   "id": "979ce180-443e-4afe-ae0b-3492303f14bc",
   "metadata": {},
   "outputs": [],
   "source": [
    "for i in range(1, num_models):\n",
    "    running_avg_acc.append( (running_avg_acc[i-1]*i + accs[i]) / (i+1) )"
   ]
  },
  {
   "cell_type": "code",
   "execution_count": 14,
   "id": "2e780dfc-45ef-4d90-bf58-aadffaf3708f",
   "metadata": {},
   "outputs": [
    {
     "data": {
      "text/plain": [
       "<matplotlib.legend.Legend at 0x7fa225fa2e80>"
      ]
     },
     "execution_count": 14,
     "metadata": {},
     "output_type": "execute_result"
    },
    {
     "data": {
      "image/png": "[encoded data removed]",
      "text/plain": [
       "<Figure size 640x480 with 1 Axes>"
      ]
     },
     "metadata": {},
     "output_type": "display_data"
    }
   ],
   "source": [
    "plt.plot(running_avg_acc, label=\"running avg acc\")\n",
    "plt.plot(running_ensemble_acc, label=\"running ensemble acc\")\n",
    "plt.legend()"
   ]
  },
  {
   "cell_type": "code",
   "execution_count": null,
   "id": "3ddc8e26-05e9-49fb-b4c0-416a7cad636a",
   "metadata": {},
   "outputs": [],
   "source": []
  },
  {
   "cell_type": "code",
   "execution_count": null,
   "id": "4b2419df-11af-40e4-94dc-4ec8b6137a04",
   "metadata": {},
   "outputs": [],
   "source": []
  }
 ],
 "metadata": {
  "kernelspec": {
   "display_name": "pytorch",
   "language": "python",
   "name": "pytorch"
  },
  "language_info": {
   "codemirror_mode": {
    "name": "ipython",
    "version": 3
   },
   "file_extension": ".py",
   "mimetype": "text/x-python",
   "name": "python",
   "nbconvert_exporter": "python",
   "pygments_lexer": "ipython3",
   "version": "3.9.5"
  }
 },
 "nbformat": 4,
 "nbformat_minor": 5
}
