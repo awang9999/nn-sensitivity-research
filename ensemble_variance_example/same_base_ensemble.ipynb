{
 "cells": [
  {
   "cell_type": "code",
   "execution_count": 1,
   "id": "b9c3a4af-5b71-425c-8464-db80c7a8567c",
   "metadata": {},
   "outputs": [],
   "source": [
    "import torch\n",
    "import numpy as np\n",
    "import matplotlib.pyplot as plt\n",
    "from torch import nn,optim\n",
    "from torch.utils.data import Dataset, DataLoader\n",
    "\n",
    "import copy\n",
    "\n",
    "from sklearn.model_selection import train_test_split\n",
    "from sklearn.preprocessing import StandardScaler\n",
    "\n",
    "from scipy.stats import mode\n",
    "\n",
    "from generic_data import GenericDataset\n",
    "from SimpleNNs import TwoNetBC\n",
    "from model_helper import train_epoch, eval_model, eval_ensemble"
   ]
  },
  {
   "cell_type": "code",
   "execution_count": 2,
   "id": "15d0575b-aa9f-4f4a-93c8-28bfe9d53cf4",
   "metadata": {},
   "outputs": [],
   "source": [
    "Xtrain = np.load(\"./data/Xtrain.npy\")\n",
    "Ytrain = np.load(\"./data/Ytrain.npy\")\n",
    "Xtest = np.load(\"./data/Xtest.npy\")\n",
    "Ytest = np.load(\"./data/Ytest.npy\")"
   ]
  },
  {
   "cell_type": "code",
   "execution_count": 3,
   "id": "d07b180d-3e58-444f-9632-1c6c9e27818a",
   "metadata": {},
   "outputs": [],
   "source": [
    "train_dataset = GenericDataset(Xtrain, Ytrain)\n",
    "test_dataset = GenericDataset(Xtest, Ytest)"
   ]
  },
  {
   "cell_type": "code",
   "execution_count": 4,
   "id": "dde513fd-a70c-43aa-9127-2cae1c281f44",
   "metadata": {},
   "outputs": [],
   "source": [
    "# Define model parameters\n",
    "input_size = 4\n",
    "output_size = 1\n",
    "hidden_size = 4\n",
    "shuffle = True\n",
    "\n",
    "# Define training parameters\n",
    "epochs = 100\n",
    "epochs_fine_tune = 100\n",
    "lr = 0.01\n",
    "batch_size = 64\n",
    "\n",
    "# Device parameters\n",
    "device = \"cuda\"\n",
    "\n",
    "# Ensemble parameters\n",
    "num_models = 20"
   ]
  },
  {
   "cell_type": "code",
   "execution_count": 5,
   "id": "a51b462a-5fec-45f8-bd3b-ea796721bce4",
   "metadata": {},
   "outputs": [],
   "source": [
    "base_model=TwoNetBC(input_size, output_size, hidden_size)\n",
    "optimizer = optim.Adam(base_model.parameters(), lr=lr, betas=(0.9, 0.999))\n",
    "criterion = nn.BCELoss()\n",
    "train_loader=DataLoader(dataset=train_dataset,batch_size=batch_size,shuffle=shuffle)\n",
    "base_model.to(device)\n",
    "    \n",
    "e_losses = []\n",
    "    \n",
    "# Train model\n",
    "for epoch in range(epochs):\n",
    "    loss = train_epoch(base_model, optimizer, criterion, train_loader, device, batch_size)\n",
    "    e_losses.append(loss)\n",
    "        \n",
    "# Evaluate model\n",
    "test_loader = DataLoader(dataset=test_dataset,batch_size=batch_size,shuffle=shuffle)\n",
    "base_acc, _, _ = eval_model(base_model, test_loader)"
   ]
  },
  {
   "cell_type": "code",
   "execution_count": 6,
   "id": "d9c2a073-67ff-4ae4-8231-4a7fafaa8c11",
   "metadata": {},
   "outputs": [
    {
     "data": {
      "text/plain": [
       "0.8025"
      ]
     },
     "execution_count": 6,
     "metadata": {},
     "output_type": "execute_result"
    }
   ],
   "source": [
    "base_acc"
   ]
  },
  {
   "cell_type": "code",
   "execution_count": 7,
   "id": "d5cec210-4bd3-4038-bee4-44a11acfa379",
   "metadata": {},
   "outputs": [
    {
     "data": {
      "text/plain": [
       "0.44323885"
      ]
     },
     "execution_count": 7,
     "metadata": {},
     "output_type": "execute_result"
    }
   ],
   "source": [
    "e_losses[-1]"
   ]
  },
  {
   "cell_type": "code",
   "execution_count": 8,
   "id": "371c005f-61ac-43b9-8777-87e91c6959c0",
   "metadata": {},
   "outputs": [],
   "source": [
    "list_of_models = []"
   ]
  },
  {
   "cell_type": "code",
   "execution_count": 9,
   "id": "07a8aca1-6f48-449b-9c8b-afab0e7f073e",
   "metadata": {},
   "outputs": [
    {
     "name": "stdout",
     "output_type": "stream",
     "text": [
      "Model 0: Final Loss (0.431512), Test Acc (0.7975)\n",
      "Model 1: Final Loss (0.438742), Test Acc (0.8100)\n",
      "Model 2: Final Loss (0.435259), Test Acc (0.8225)\n",
      "Model 3: Final Loss (0.433974), Test Acc (0.8025)\n",
      "Model 4: Final Loss (0.432003), Test Acc (0.8050)\n",
      "Model 5: Final Loss (0.436409), Test Acc (0.8100)\n",
      "Model 6: Final Loss (0.436230), Test Acc (0.8100)\n",
      "Model 7: Final Loss (0.434158), Test Acc (0.8100)\n",
      "Model 8: Final Loss (0.433661), Test Acc (0.7975)\n",
      "Model 9: Final Loss (0.434789), Test Acc (0.8175)\n",
      "Model 10: Final Loss (0.437999), Test Acc (0.8100)\n",
      "Model 11: Final Loss (0.445013), Test Acc (0.8025)\n",
      "Model 12: Final Loss (0.441832), Test Acc (0.7975)\n",
      "Model 13: Final Loss (0.435737), Test Acc (0.7925)\n",
      "Model 14: Final Loss (0.432838), Test Acc (0.8000)\n",
      "Model 15: Final Loss (0.435175), Test Acc (0.8075)\n",
      "Model 16: Final Loss (0.437639), Test Acc (0.8100)\n",
      "Model 17: Final Loss (0.434472), Test Acc (0.8100)\n",
      "Model 18: Final Loss (0.438728), Test Acc (0.8075)\n",
      "Model 19: Final Loss (0.439798), Test Acc (0.8025)\n"
     ]
    }
   ],
   "source": [
    "# Fine tune 20 models starting from base\n",
    "for i in range(num_models):\n",
    "    # Initialize new model\n",
    "    model = copy.deepcopy(base_model)\n",
    "    # Perturb model first layer weights\n",
    "    model_state = model.state_dict()\n",
    "    epsilon = 1e-3\n",
    "    layer = 'linear_relu_stack.0.weight'\n",
    "    layer_shape = torch.Tensor.size(model_state[layer])\n",
    "    perturbation_tensor = 1 + torch.rand(layer_shape).cuda() * epsilon\n",
    "    perturbation_tensor = perturbation_tensor.to(device)\n",
    "    model_state[layer] *= perturbation_tensor\n",
    "    # Load perturbed weights\n",
    "    model.load_state_dict(model_state)\n",
    "    \n",
    "    optimizer = optim.Adam(model.parameters(), lr=lr, betas=(0.9, 0.999))\n",
    "    criterion = nn.BCELoss()\n",
    "    train_loader=DataLoader(dataset=train_dataset,batch_size=batch_size,shuffle=shuffle)\n",
    "    model.to(device)\n",
    "    \n",
    "    e_losses = []\n",
    "    \n",
    "    # Train model\n",
    "    for epoch in range(epochs_fine_tune):\n",
    "        loss = train_epoch(model, optimizer, criterion, train_loader, device, batch_size)\n",
    "        e_losses.append(loss)\n",
    "        \n",
    "    # Evaluate model\n",
    "    test_loader = DataLoader(dataset=test_dataset,batch_size=batch_size,shuffle=shuffle)\n",
    "    acc, _, _ = eval_model(model, test_loader)\n",
    "    \n",
    "    # Add model to list\n",
    "    list_of_models.append(model)\n",
    "    print(f\"Model {i}: Final Loss ({e_losses[-1]:.6f}), Test Acc ({acc:.4f})\")\n",
    "    "
   ]
  },
  {
   "cell_type": "code",
   "execution_count": 10,
   "id": "0592b45d-8114-44cb-a7bc-2dea9b1741ad",
   "metadata": {},
   "outputs": [],
   "source": [
    "test_loader = DataLoader(dataset=test_dataset,batch_size=batch_size,shuffle=False)\n",
    "ensemble_acc, ensemble_preds, ensemble_labels = eval_ensemble(list_of_models, test_loader)"
   ]
  },
  {
   "cell_type": "code",
   "execution_count": 11,
   "id": "471d0d66-1f5b-428d-930d-c8be1128223a",
   "metadata": {},
   "outputs": [
    {
     "data": {
      "text/plain": [
       "0.8"
      ]
     },
     "execution_count": 11,
     "metadata": {},
     "output_type": "execute_result"
    }
   ],
   "source": [
    "ensemble_acc"
   ]
  },
  {
   "cell_type": "code",
   "execution_count": 12,
   "id": "02299920-d998-4d1b-8ab9-4ee8ca14c07d",
   "metadata": {},
   "outputs": [],
   "source": [
    "# without best model\n",
    "list_of_models2 = [list_of_models[i] for i in range(20) if i != 18]"
   ]
  },
  {
   "cell_type": "code",
   "execution_count": 13,
   "id": "a01dddcb-82b0-4d7d-986b-0a884ea52c67",
   "metadata": {},
   "outputs": [],
   "source": [
    "test_loader = DataLoader(dataset=test_dataset,batch_size=batch_size,shuffle=False)\n",
    "ensemble_acc, ensemble_preds, ensemble_labels = eval_ensemble(list_of_models2, test_loader)"
   ]
  },
  {
   "cell_type": "code",
   "execution_count": 14,
   "id": "819fb1a0-1f04-441e-a29b-93dc2c3a5594",
   "metadata": {},
   "outputs": [
    {
     "data": {
      "text/plain": [
       "0.8025"
      ]
     },
     "execution_count": 14,
     "metadata": {},
     "output_type": "execute_result"
    }
   ],
   "source": [
    "ensemble_acc"
   ]
  },
  {
   "cell_type": "code",
   "execution_count": null,
   "id": "3ee35abe-daae-45ed-9e40-240ee062c02c",
   "metadata": {},
   "outputs": [],
   "source": []
  }
 ],
 "metadata": {
  "kernelspec": {
   "display_name": "pytorch",
   "language": "python",
   "name": "pytorch"
  },
  "language_info": {
   "codemirror_mode": {
    "name": "ipython",
    "version": 3
   },
   "file_extension": ".py",
   "mimetype": "text/x-python",
   "name": "python",
   "nbconvert_exporter": "python",
   "pygments_lexer": "ipython3",
   "version": "3.9.5"
  }
 },
 "nbformat": 4,
 "nbformat_minor": 5
}
