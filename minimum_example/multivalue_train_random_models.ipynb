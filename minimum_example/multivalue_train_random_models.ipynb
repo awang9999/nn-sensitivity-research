{
 "cells": [
  {
   "cell_type": "code",
   "execution_count": 1,
   "id": "66cf3074-8ccd-4a36-ac1c-bbf2f5b3c6d6",
   "metadata": {},
   "outputs": [],
   "source": [
    "import torch\n",
    "import numpy as np\n",
    "import matplotlib.pyplot as plt\n",
    "from torch import nn,optim\n",
    "from torch.utils.data import Dataset, DataLoader\n",
    "\n",
    "from generic_data import GenericDataset\n",
    "from SimpleNNs import TwoNet"
   ]
  },
  {
   "cell_type": "code",
   "execution_count": 2,
   "id": "38448fcb-88d0-45ae-a5d7-a9dcf975d1d3",
   "metadata": {},
   "outputs": [
    {
     "data": {
      "text/plain": [
       "<torch._C.Generator at 0x7fd0c43c5290>"
      ]
     },
     "execution_count": 2,
     "metadata": {},
     "output_type": "execute_result"
    }
   ],
   "source": [
    "seed = 0\n",
    "np.random.seed(seed)\n",
    "torch.manual_seed(seed)"
   ]
  },
  {
   "cell_type": "code",
   "execution_count": 3,
   "id": "bd27e0cb-f96c-4f2c-a22d-a8907ffa3e5b",
   "metadata": {},
   "outputs": [],
   "source": [
    "def target(x):\n",
    "    shift = np.pi / 8.0 # np.pi / 4.0\n",
    "    #f1 = (np.sin(8 * x) / (4 * np.cos(2 * x))).reshape(-1,1)\n",
    "    f1 = (np.sin(8 * (x+ 2*shift)) / (4 * np.cos(2 * (x + 2*shift)))).reshape(-1,1)\n",
    "    f2 = (np.sin(8 * (x+shift)) / (4 * np.cos(2 * (x+shift)))).reshape(-1,1)\n",
    "    return np.hstack((f1,f2))"
   ]
  },
  {
   "cell_type": "code",
   "execution_count": 4,
   "id": "2f57530c-a9ee-4bae-81e3-490a9a861e4f",
   "metadata": {},
   "outputs": [],
   "source": [
    "permutation = np.array([ 37, 726, 846, 295, 924, 658, 682, 286, 880, 272, 137, 954, 515,\n",
    "       788, 860, 640, 737, 683, 412,  71, 213,  67, 231, 856, 197, 639,\n",
    "       376, 192,  99, 678, 650, 223, 205, 748, 462, 146,  20, 897, 546,\n",
    "       646, 687, 935, 821, 553, 589, 370, 596, 886, 794, 913,  15, 757,\n",
    "       444, 330, 871, 984, 543, 525, 164, 863, 182, 927, 101, 578, 185,\n",
    "        68, 615, 549, 338, 322, 279, 288, 251, 908, 236, 508, 716, 931,\n",
    "       230, 621, 727, 232, 832, 409, 797, 143, 906, 599, 199,  65, 179,\n",
    "       280, 830, 742, 463, 158, 715, 881, 824, 518, 653, 258, 951, 396,\n",
    "       557, 834, 432, 426, 522, 504, 732, 698,   7, 912, 580, 193, 691,\n",
    "       556, 685, 840, 411, 465, 974, 664, 267, 212, 887, 423, 293, 827,\n",
    "       815, 812, 612, 869, 652,  89, 141, 418, 310, 733, 481, 239,  70,\n",
    "       375, 312, 398, 455, 363, 828, 848, 614, 929, 397, 445, 414, 379,\n",
    "       291,  74, 226, 486, 333,  84, 480, 694, 284, 209, 142, 250, 925,\n",
    "       355, 576, 388, 535, 829, 464,   1, 183, 109, 160, 937, 811, 431,\n",
    "       391, 901, 172, 128, 802, 798, 779, 169, 484, 451, 577,  77, 575,\n",
    "       839, 810, 930, 616, 809, 175, 818, 677, 952, 200, 532, 311, 552,\n",
    "       526, 895, 399, 705, 309, 152, 833, 273, 819, 878, 374,  91, 957,\n",
    "       452, 933, 365, 973, 318,  62,  18, 976, 982, 749, 744, 347, 617,\n",
    "       675,  22, 660, 706, 510, 188, 235, 419, 739, 699, 542, 944, 315,\n",
    "       227, 241, 490, 673, 107, 898, 441, 439, 717, 436, 343, 473,  80,\n",
    "       696, 979, 946,  30,  10, 890, 524, 795, 157, 346, 752, 257, 317,\n",
    "       496,   4, 710, 198, 116, 204, 692, 174, 701, 202, 756, 920, 119,\n",
    "       177, 275, 862,  13, 248, 909, 345, 941, 384, 894, 540, 567, 641,\n",
    "       129,  90, 305, 126, 963, 163, 111, 702, 859, 868, 453, 719, 728,\n",
    "       327, 502,  72,   2, 573, 825, 620,  12, 803, 883, 688, 427, 108,\n",
    "       740, 969, 181, 923, 948, 335, 308, 753, 304, 781, 530,  42, 356,\n",
    "       633, 791, 437, 771, 471, 294, 600, 867, 558, 854, 593, 777, 438,\n",
    "       340,  55, 786, 874, 344, 216, 460,  40, 642, 989, 899, 711, 178,\n",
    "       176, 492,  58, 457, 476,  16, 458, 700, 440, 686, 889, 459, 822,\n",
    "       877, 637, 659, 519, 417,  29, 955, 400, 669, 783, 429, 488, 203,\n",
    "       371,  32, 513, 996, 967, 156, 572, 826, 334, 382, 529, 372, 891,\n",
    "       579, 601,   3, 663, 747, 130, 626, 624, 342, 835,  41, 321, 222,\n",
    "       328, 916, 511, 113,  48, 289,  76, 206, 978, 447, 285, 936, 386,\n",
    "       225, 707, 120, 990, 512, 456, 387, 595, 221, 268, 171, 773, 768,\n",
    "       684, 544, 884, 864, 765, 123, 915, 180, 161, 704, 265, 734, 117,\n",
    "       844, 962, 763, 521, 672, 998, 468, 597, 240, 134, 155, 353, 139,\n",
    "       932, 965,  60, 352, 643, 165, 960, 879, 300, 214, 407, 882, 297,\n",
    "       394, 131, 314, 911, 738, 731, 416, 565,  38, 470, 249, 505, 402,\n",
    "        53, 194, 136, 581, 662, 671, 281,  35, 968, 813, 743, 378, 644,\n",
    "        66, 571, 681, 536,  52, 377, 712, 851, 959, 246, 940, 425, 666,\n",
    "        28, 907, 244, 103, 276, 393, 110, 159, 112, 568, 551, 329, 262,\n",
    "       858, 654, 167, 905, 154, 949,  24, 857, 443, 150,  94, 217, 381,\n",
    "        23, 292, 173, 100,  25, 755, 636, 489, 865, 354, 645, 242, 999,\n",
    "        73, 559, 964, 118, 114, 520,   5, 475, 656, 986,  69,  14, 991,\n",
    "       618, 369,  78, 479, 724,  54, 467, 266, 787, 514, 537, 872, 503,\n",
    "       606, 166, 690, 331, 876, 247, 373, 632, 472, 499, 638, 608, 563,\n",
    "       977, 307, 793, 799, 566, 501, 234, 775, 430, 629, 191, 151, 435,\n",
    "       256, 910, 667, 778, 541, 569, 582, 383, 145, 850, 928, 533, 215,\n",
    "       842, 900, 665, 196, 843, 495, 591,  17, 776,  27, 277, 631, 395,\n",
    "       228, 320, 147, 721, 950, 494, 598, 449, 713, 106, 350, 523, 389,\n",
    "       448,  93, 259, 554, 888, 170, 254, 602, 252, 306, 547, 796, 953,\n",
    "       428, 186, 269, 630, 162, 413, 774, 789,  98,   6, 801, 852, 611,\n",
    "       229, 264, 368, 695, 861, 845, 896, 403, 947, 610, 189, 332, 303,\n",
    "       260, 144, 627, 283, 853,  11, 814, 594, 693, 531, 469, 127, 735,\n",
    "        57,  33, 237, 921, 282, 586, 362, 243, 603,  92, 210, 337, 729,\n",
    "       668, 301,  85, 190,  39, 500, 623, 507, 634, 516, 723, 104, 806,\n",
    "       233, 676, 105, 341, 926, 253, 408, 422, 208, 980, 770,  82, 497,\n",
    "       919, 583, 780,  87,  64, 270, 605, 274, 985, 870, 792, 893, 153,\n",
    "       613, 782, 410, 866, 517,  44, 625, 390, 220, 140, 349, 357, 722,\n",
    "       133, 261, 278,  79, 975, 115, 816, 836, 718, 380, 934, 184, 790,\n",
    "       358,  36, 339, 837, 754, 420, 149,   9,  45,  95, 902, 995, 548,\n",
    "       560, 298, 290, 415, 313, 421, 657, 122, 841, 817, 361, 336, 135,\n",
    "       849, 709, 769, 651, 367, 961, 914, 619,   8,  97, 970, 348, 509,\n",
    "       956, 703, 746,  21, 482, 966, 405, 784, 917, 987, 847, 478, 590,\n",
    "       491,  46, 364, 296,  49, 487, 224, 750, 219, 945, 761, 988, 647,\n",
    "       201, 562, 622, 992,  63, 804, 604, 245, 442, 971, 574,   0, 539,\n",
    "       767, 762, 689, 187, 406, 148, 751, 983, 943,  26, 461, 670, 655,\n",
    "       785,  59, 714, 326, 424, 720, 477,  43, 661, 635, 823, 528, 736,\n",
    "       483, 218, 741, 820, 994, 855, 922, 609, 485, 125, 903,  61,  81,\n",
    "       680, 324, 385, 993,  56,  19, 958,  86, 838, 758, 649, 316,  34,\n",
    "       808, 138, 766, 588, 904, 498, 538, 800, 555,  96,  83, 446, 474,\n",
    "       764, 366, 873, 697, 585, 885, 972, 760, 918, 401, 759, 392, 939,\n",
    "       745, 271, 506, 997, 434, 648, 942, 807, 561, 207, 319, 981, 132,\n",
    "        50, 238, 564, 592, 450,  31, 121, 211, 351, 454, 302, 708,  88,\n",
    "       325, 323, 255, 892, 570, 545, 550, 359,  51, 875, 938, 772, 102,\n",
    "       195, 679, 805, 628, 124, 404, 730, 287, 831,  47, 725, 587, 607,\n",
    "       433, 674, 263, 360,  75, 466, 299, 534, 584, 493, 527, 168])"
   ]
  },
  {
   "cell_type": "code",
   "execution_count": 5,
   "id": "c941e23b-8271-4ea8-b7c4-5918e09fc5db",
   "metadata": {},
   "outputs": [],
   "source": [
    "# define range\n",
    "low = -2\n",
    "high = 2"
   ]
  },
  {
   "cell_type": "code",
   "execution_count": 6,
   "id": "575b9a8c-268a-46d4-90c6-4da458d01b57",
   "metadata": {},
   "outputs": [],
   "source": [
    "# Generates training dataset\n",
    "Xtrain = np.linspace(low, high, 1000)[permutation]\n",
    "Ytrain = target(Xtrain)"
   ]
  },
  {
   "cell_type": "code",
   "execution_count": 7,
   "id": "1e547323-17e0-4c9f-abf4-704a0b313fda",
   "metadata": {},
   "outputs": [],
   "source": [
    "# # Xtest = np.linspace(low, high, 100)\n",
    "# Xtest = np.sort(np.random.uniform(low, high, 100))\n",
    "# Ytest = target(Xtest)"
   ]
  },
  {
   "cell_type": "code",
   "execution_count": 8,
   "id": "24b68009-585a-415a-820d-a53a6979e80d",
   "metadata": {},
   "outputs": [],
   "source": [
    "train_dataset = GenericDataset(Xtrain.reshape(-1,1), Ytrain)\n",
    "# test_dataset = GenericDataset(Xtest.reshape(-1,1), Ytest)"
   ]
  },
  {
   "cell_type": "code",
   "execution_count": 9,
   "id": "7539d4da-8dd6-4102-8ff0-defbbf29a69d",
   "metadata": {},
   "outputs": [],
   "source": [
    "# Define model parameters\n",
    "input_size = 1\n",
    "output_size = 2\n",
    "hidden_size = 20\n",
    "shuffle=False\n",
    "\n",
    "# Define training parameters\n",
    "epochs = 200\n",
    "milestones = [80]\n",
    "lr = 0.01\n",
    "batch_size = 64\n",
    "decreaselr = False\n",
    "\n",
    "# Device parameters\n",
    "device = \"cuda\""
   ]
  },
  {
   "cell_type": "code",
   "execution_count": 10,
   "id": "8ec38433-a674-4529-b296-c2e0fa8c4859",
   "metadata": {},
   "outputs": [],
   "source": [
    "criterion = nn.MSELoss()\n",
    "train_loader=DataLoader(dataset=train_dataset,batch_size=batch_size,shuffle=shuffle)"
   ]
  },
  {
   "cell_type": "code",
   "execution_count": 11,
   "id": "72434fe5-f6ab-4d08-b940-af6c641e2f03",
   "metadata": {},
   "outputs": [],
   "source": [
    "model_folder=\"multi_random_init0\""
   ]
  },
  {
   "cell_type": "code",
   "execution_count": 12,
   "id": "6e63ff2e-d79a-46cd-82fc-9156695c4588",
   "metadata": {},
   "outputs": [
    {
     "name": "stdout",
     "output_type": "stream",
     "text": [
      "Trained 0 models\n",
      "Trained 1 models\n",
      "Trained 2 models\n",
      "Trained 3 models\n",
      "Trained 4 models\n",
      "Trained 5 models\n",
      "Trained 6 models\n",
      "Trained 7 models\n",
      "Trained 8 models\n",
      "Trained 9 models\n",
      "Trained 10 models\n",
      "Trained 11 models\n",
      "Trained 12 models\n",
      "Trained 13 models\n",
      "Trained 14 models\n",
      "Trained 15 models\n",
      "Trained 16 models\n",
      "Trained 17 models\n",
      "Trained 18 models\n",
      "Trained 19 models\n"
     ]
    }
   ],
   "source": [
    "# Train TwoNet\n",
    "for i in range (20):\n",
    "    model=TwoNet(input_size, output_size, hidden_size)\n",
    "    model = model.double()\n",
    "    model.to(device)\n",
    "    optimizer = optim.Adam(model.parameters(), lr=lr)\n",
    "    \n",
    "    for epoch in range(epochs):\n",
    "        if decreaselr and (epoch in milestones):\n",
    "                lr = lr*0.1\n",
    "                optimizer = optim.Adam(model.parameters(), lr=lr)\n",
    "\n",
    "        for x,y in train_loader:\n",
    "            x = x.to(device)\n",
    "            y = y.to(device)\n",
    "            #make a prediction\n",
    "            yhat=model(x)\n",
    "            #calculate the loss\n",
    "            loss=criterion(yhat,y)\n",
    "            #clear gradient \n",
    "            optimizer.zero_grad()\n",
    "            #Backward pass: compute gradient of the loss with respect to all the learnable parameters\n",
    "            loss.backward()\n",
    "            #the step function on an Optimizer makes an update to its parameters\n",
    "            optimizer.step()\n",
    "    \n",
    "    torch.save(model, f'./models/{model_folder}/model_{i:02d}.pt')\n",
    "    print(f'Trained {i} models')"
   ]
  },
  {
   "cell_type": "code",
   "execution_count": null,
   "id": "c9f931bd-7278-4a92-8871-cd74c1478e94",
   "metadata": {},
   "outputs": [],
   "source": []
  },
  {
   "cell_type": "code",
   "execution_count": null,
   "id": "45636bb6-c231-42ee-b93f-55395fa96cb0",
   "metadata": {},
   "outputs": [],
   "source": []
  }
 ],
 "metadata": {
  "kernelspec": {
   "display_name": "pytorch",
   "language": "python",
   "name": "pytorch"
  },
  "language_info": {
   "codemirror_mode": {
    "name": "ipython",
    "version": 3
   },
   "file_extension": ".py",
   "mimetype": "text/x-python",
   "name": "python",
   "nbconvert_exporter": "python",
   "pygments_lexer": "ipython3",
   "version": "3.9.5"
  }
 },
 "nbformat": 4,
 "nbformat_minor": 5
}
