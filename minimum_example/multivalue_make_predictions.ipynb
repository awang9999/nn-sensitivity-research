{
 "cells": [
  {
   "cell_type": "code",
   "execution_count": 1,
   "id": "1a3b0ae4-829e-4b8c-8a69-ba7c2aee7099",
   "metadata": {},
   "outputs": [],
   "source": [
    "import torch\n",
    "import numpy as np\n",
    "import matplotlib.pyplot as plt\n",
    "from torch import nn,optim\n",
    "from torch.utils.data import Dataset, DataLoader\n",
    "\n",
    "from generic_data import GenericDataset\n",
    "from SimpleNNs import TwoNet"
   ]
  },
  {
   "cell_type": "code",
   "execution_count": 2,
   "id": "b3cd48ae-a7fb-4d4d-8f16-22a04e0c0166",
   "metadata": {},
   "outputs": [
    {
     "data": {
      "text/plain": [
       "<torch._C.Generator at 0x7fe3c81c0290>"
      ]
     },
     "execution_count": 2,
     "metadata": {},
     "output_type": "execute_result"
    }
   ],
   "source": [
    "seed = 0\n",
    "np.random.seed(seed)\n",
    "torch.manual_seed(seed)"
   ]
  },
  {
   "cell_type": "code",
   "execution_count": 3,
   "id": "3ec63f5a-61d5-439b-b4d4-d9f1f648e1b1",
   "metadata": {},
   "outputs": [],
   "source": [
    "def target(x):\n",
    "    shift = np.pi / 8.0 # np.pi / 4.0\n",
    "    #f1 = (np.sin(8 * x) / (4 * np.cos(2 * x))).reshape(-1,1)\n",
    "    f1 = (np.sin(8 * (x+ 2*shift)) / (4 * np.cos(2 * (x + 2*shift)))).reshape(-1,1)\n",
    "    f2 = (np.sin(8 * (x+shift)) / (4 * np.cos(2 * (x+shift)))).reshape(-1,1)\n",
    "    return np.hstack((f1,f2))"
   ]
  },
  {
   "cell_type": "code",
   "execution_count": 4,
   "id": "a4cbe61a-22a8-4da6-8494-e2b5ca59aa20",
   "metadata": {},
   "outputs": [],
   "source": [
    "# define range\n",
    "low = -2\n",
    "high = 2"
   ]
  },
  {
   "cell_type": "code",
   "execution_count": 5,
   "id": "c211fa30-42a9-401a-9754-7df46819ffe5",
   "metadata": {},
   "outputs": [],
   "source": [
    "# generate test set\n",
    "Xtest = np.linspace(low,high,100)#np.sort(np.random.uniform(low, high, 100))\n",
    "Ytest = target(Xtest)"
   ]
  },
  {
   "cell_type": "code",
   "execution_count": 6,
   "id": "b028dd01-bdb2-44a6-a6a1-4313e8bf49b8",
   "metadata": {},
   "outputs": [],
   "source": [
    "test_dataset = GenericDataset(Xtest.reshape(-1,1), Ytest)"
   ]
  },
  {
   "cell_type": "code",
   "execution_count": 7,
   "id": "70562a8c-386d-4e78-af5f-9f840962ccf9",
   "metadata": {},
   "outputs": [],
   "source": [
    "subfolder = \"multi_random_init0\"\n",
    "paths = [f'./models/{subfolder}/model_{i:02d}.pt' for i in range(20)]"
   ]
  },
  {
   "cell_type": "code",
   "execution_count": 8,
   "id": "478f574d-4c72-4acf-b949-19f6a8b3f46d",
   "metadata": {},
   "outputs": [],
   "source": [
    "all_preds = []\n",
    "all_labels = []\n",
    "all_mses = []"
   ]
  },
  {
   "cell_type": "code",
   "execution_count": 9,
   "id": "6b3b12b3-83eb-4f33-beab-c2661c7e5c29",
   "metadata": {},
   "outputs": [],
   "source": [
    "device=\"cuda\""
   ]
  },
  {
   "cell_type": "code",
   "execution_count": 10,
   "id": "3ae6d4c2-0515-4d97-9622-e79bd613288e",
   "metadata": {},
   "outputs": [],
   "source": [
    "test_loader = DataLoader(dataset=test_dataset,batch_size=64,shuffle=False)"
   ]
  },
  {
   "cell_type": "code",
   "execution_count": 11,
   "id": "e46b0086-4562-40a4-9237-f646c859b7c8",
   "metadata": {},
   "outputs": [
    {
     "name": "stdout",
     "output_type": "stream",
     "text": [
      "./models/multi_random_init0/model_00.pt\n",
      "f1 MSE: 0.0425, f2 MSE: 0.0385. Model 1/20\n",
      "./models/multi_random_init0/model_01.pt\n",
      "f1 MSE: 0.0016, f2 MSE: 0.0026. Model 2/20\n",
      "./models/multi_random_init0/model_02.pt\n",
      "f1 MSE: 0.0020, f2 MSE: 0.0013. Model 3/20\n",
      "./models/multi_random_init0/model_03.pt\n",
      "f1 MSE: 0.0028, f2 MSE: 0.0015. Model 4/20\n",
      "./models/multi_random_init0/model_04.pt\n",
      "f1 MSE: 0.0019, f2 MSE: 0.0033. Model 5/20\n",
      "./models/multi_random_init0/model_05.pt\n",
      "f1 MSE: 0.0020, f2 MSE: 0.0025. Model 6/20\n",
      "./models/multi_random_init0/model_06.pt\n",
      "f1 MSE: 0.0072, f2 MSE: 0.0123. Model 7/20\n",
      "./models/multi_random_init0/model_07.pt\n",
      "f1 MSE: 0.0031, f2 MSE: 0.0019. Model 8/20\n",
      "./models/multi_random_init0/model_08.pt\n",
      "f1 MSE: 0.0025, f2 MSE: 0.0024. Model 9/20\n",
      "./models/multi_random_init0/model_09.pt\n",
      "f1 MSE: 0.0020, f2 MSE: 0.0016. Model 10/20\n",
      "./models/multi_random_init0/model_10.pt\n",
      "f1 MSE: 0.0025, f2 MSE: 0.0042. Model 11/20\n",
      "./models/multi_random_init0/model_11.pt\n",
      "f1 MSE: 0.0025, f2 MSE: 0.0027. Model 12/20\n",
      "./models/multi_random_init0/model_12.pt\n",
      "f1 MSE: 0.0024, f2 MSE: 0.0032. Model 13/20\n",
      "./models/multi_random_init0/model_13.pt\n",
      "f1 MSE: 0.0018, f2 MSE: 0.0031. Model 14/20\n",
      "./models/multi_random_init0/model_14.pt\n",
      "f1 MSE: 0.0019, f2 MSE: 0.0023. Model 15/20\n",
      "./models/multi_random_init0/model_15.pt\n",
      "f1 MSE: 0.0040, f2 MSE: 0.0047. Model 16/20\n",
      "./models/multi_random_init0/model_16.pt\n",
      "f1 MSE: 0.0024, f2 MSE: 0.0015. Model 17/20\n",
      "./models/multi_random_init0/model_17.pt\n",
      "f1 MSE: 0.0035, f2 MSE: 0.0029. Model 18/20\n",
      "./models/multi_random_init0/model_18.pt\n",
      "f1 MSE: 0.0036, f2 MSE: 0.0038. Model 19/20\n",
      "./models/multi_random_init0/model_19.pt\n",
      "f1 MSE: 0.0035, f2 MSE: 0.0028. Model 20/20\n"
     ]
    }
   ],
   "source": [
    "num_models = len(paths)\n",
    "cnt = 1\n",
    "\n",
    "for path in paths:\n",
    "    model = torch.load(path)\n",
    "    model.to(device)\n",
    "    model.eval()\n",
    "    \n",
    "    preds = []\n",
    "    labels = []\n",
    "    \n",
    "    for batch_vec, batch_labels in iter(test_loader):\n",
    "        batch_vec = batch_vec.to(device)\n",
    "        batch_outputs = model(batch_vec)\n",
    "        batch_preds = batch_outputs.cpu().detach().numpy()\n",
    "        batch_labels = batch_labels.numpy()\n",
    "        preds.append(batch_preds)\n",
    "        labels.append(batch_labels)\n",
    "    \n",
    "    preds = np.concatenate(preds)\n",
    "    labels = np.concatenate(labels)\n",
    "        \n",
    "    regression_mse_f1 = np.square(np.subtract(preds[:,0], labels[:,0])).mean()\n",
    "    regression_mse_f2 = np.square(np.subtract(preds[:,1], labels[:,1])).mean()\n",
    "    \n",
    "    mse = np.array([regression_mse_f1, regression_mse_f2])\n",
    "    \n",
    "    print(path)\n",
    "    print(f'f1 MSE: {regression_mse_f1:.4f}, f2 MSE: {regression_mse_f2:.4f}. Model {cnt}/{num_models}')\n",
    "    \n",
    "    all_preds.append(preds)\n",
    "    all_labels.append(labels)\n",
    "    all_mses.append(mse)\n",
    "    \n",
    "    cnt += 1"
   ]
  },
  {
   "cell_type": "code",
   "execution_count": 12,
   "id": "de7fbbf8-2702-45c0-bd65-cc35bf9bd178",
   "metadata": {},
   "outputs": [],
   "source": [
    "all_preds = np.array(all_preds)\n",
    "all_labels = np.array(all_labels)\n",
    "all_mses = np.array(all_mses)"
   ]
  },
  {
   "cell_type": "code",
   "execution_count": 13,
   "id": "c387d2f7-2fc8-43ae-bfee-7cd83fed5074",
   "metadata": {},
   "outputs": [],
   "source": [
    "np.save(f'./models/{subfolder}/xs', Xtest)\n",
    "np.save(f'./models/{subfolder}/predictions', all_preds)\n",
    "np.save(f'./models/{subfolder}/true_labels', all_labels[0])\n",
    "np.save(f'./models/{subfolder}/mses', all_mses)"
   ]
  }
 ],
 "metadata": {
  "kernelspec": {
   "display_name": "pytorch",
   "language": "python",
   "name": "pytorch"
  },
  "language_info": {
   "codemirror_mode": {
    "name": "ipython",
    "version": 3
   },
   "file_extension": ".py",
   "mimetype": "text/x-python",
   "name": "python",
   "nbconvert_exporter": "python",
   "pygments_lexer": "ipython3",
   "version": "3.9.5"
  }
 },
 "nbformat": 4,
 "nbformat_minor": 5
}
