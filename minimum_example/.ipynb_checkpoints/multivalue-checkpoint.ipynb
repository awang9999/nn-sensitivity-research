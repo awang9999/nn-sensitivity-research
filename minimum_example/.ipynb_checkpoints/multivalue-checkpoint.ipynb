{
 "cells": [
  {
   "cell_type": "code",
   "execution_count": 1,
   "id": "441687c8-a760-4b1a-9b80-dd14baad5b79",
   "metadata": {},
   "outputs": [],
   "source": [
    "import torch\n",
    "import numpy as np\n",
    "import matplotlib.pyplot as plt\n",
    "from torch import nn, optim\n",
    "from torch.utils.data import Dataset, DataLoader\n",
    "\n",
    "from generic_data import GenericDataset\n",
    "from SimpleNNs import OneNet, TwoNet"
   ]
  },
  {
   "cell_type": "code",
   "execution_count": 2,
   "id": "da0d348f-0e08-47f4-be0f-d96e2cfae078",
   "metadata": {},
   "outputs": [
    {
     "data": {
      "text/plain": [
       "<torch._C.Generator at 0x7fd26af7b270>"
      ]
     },
     "execution_count": 2,
     "metadata": {},
     "output_type": "execute_result"
    }
   ],
   "source": [
    "# Seeds that perform better on...\n",
    "# f1: 0, 1, 2, 4, 5, 6, 7, 8, 9, 10, 11, 12, 13\n",
    "# f2: 3\n",
    "\n",
    "# Post double shift experiment\n",
    "# f1: 0, 1, 3\n",
    "# f2: 2\n",
    "\n",
    "seed = 3\n",
    "np.random.seed(seed)\n",
    "torch.manual_seed(seed)"
   ]
  },
  {
   "cell_type": "code",
   "execution_count": 3,
   "id": "dbc4ce2c-f335-4ca0-a84a-24b0e30711ee",
   "metadata": {},
   "outputs": [],
   "source": [
    "def target(x):\n",
    "    shift = np.pi / 6.0 # np.pi / 4.0\n",
    "    #f1 = (np.sin(8 * x) / (4 * np.cos(2 * x))).reshape(-1,1)\n",
    "    f1 = (np.sin(8 * (x-shift)) / (4 * np.cos(2 * (x-shift)))).reshape(-1,1)\n",
    "    f2 = (np.sin(8 * (x+shift)) / (4 * np.cos(2 * (x+shift)))).reshape(-1,1)\n",
    "    return np.hstack((f1,f2))"
   ]
  },
  {
   "cell_type": "code",
   "execution_count": 4,
   "id": "dcd4a31e-8a16-4b3d-ab12-185ce691fcc5",
   "metadata": {},
   "outputs": [],
   "source": [
    "#np.random.permutation(np.arange(1000))"
   ]
  },
  {
   "cell_type": "code",
   "execution_count": 5,
   "id": "c39b1ebe-106d-4910-aaeb-37365363f768",
   "metadata": {},
   "outputs": [],
   "source": [
    "# permutation = np.array([118,  88,  39,  61, 207,  46,  14,  29, 295,  79,  40,  92,  48,\n",
    "#        124,  41,  18, 200,  20, 263,  89, 165, 249, 219, 175, 181,  36,\n",
    "#         72, 239,  93, 266, 222, 234, 147,  30, 109, 106,  43, 111, 245,\n",
    "#         51, 100, 211, 101, 136,  28, 243, 259, 264, 153, 112,  17, 173,\n",
    "#         56,  35, 230, 250, 233, 115, 171, 214,  34, 257, 174, 131, 168,\n",
    "#        110,  76, 148,  80, 151, 108, 256,  78,  50, 253, 193, 180, 192,\n",
    "#         87,  26, 238, 205, 145, 260, 167,  66, 204, 297, 218, 272, 199,\n",
    "#        188,  45, 252,  37, 231, 176, 212,   6,  23,   2, 202, 265, 149,\n",
    "#         25, 236,  64, 294, 292, 248, 201,   7, 235, 226, 189, 132,  67,\n",
    "#        274,  53, 157, 283,  32,  85, 246, 227, 126, 121, 154, 254, 271,\n",
    "#          1, 185,   4, 198, 240, 152, 210,  33, 208, 282, 170, 116,  31,\n",
    "#          0, 139, 183,  58, 133,  74,  19, 130, 284, 105,  62, 286,  27,\n",
    "#         16,  22,  49, 196, 242, 280,  81, 177, 163, 125, 184, 142, 216,\n",
    "#         63, 223, 123,  94,  42,  75, 117, 273, 160, 275,  77, 107,  99,\n",
    "#         60, 278, 144,  55,   5, 213,  70, 159, 261,   9, 220,  65, 155,\n",
    "#        187,  12, 141, 169,   8, 162, 270,  84, 120, 232, 158, 237, 262,\n",
    "#        114, 229, 255, 228,  59,  98, 268, 224,  52, 182,  90, 267, 146,\n",
    "#        104, 247, 143,  86, 122, 191, 217, 128, 287, 244, 102, 277, 197,\n",
    "#         83,  91,  69,  57, 298, 156, 113, 164, 296, 178, 241, 179, 215,\n",
    "#         95, 172, 291, 140, 194, 206, 276, 103, 288, 135, 166,  38, 127,\n",
    "#        285,  21, 150, 293, 209, 186, 251, 195, 129,  54, 258, 119,  11,\n",
    "#        281, 138, 225, 190,  13,  71,  96, 221,  82,  24,  47,  10, 203,\n",
    "#        137, 290, 279,   3, 161, 134,  15,  68,  73,  44, 289, 269, 299,\n",
    "#         97])\n",
    "\n",
    "# 300 "
   ]
  },
  {
   "cell_type": "code",
   "execution_count": 6,
   "id": "244d2054-1c34-42d3-9486-66d128ae5810",
   "metadata": {},
   "outputs": [],
   "source": [
    "permutation = np.array([ 37, 726, 846, 295, 924, 658, 682, 286, 880, 272, 137, 954, 515,\n",
    "       788, 860, 640, 737, 683, 412,  71, 213,  67, 231, 856, 197, 639,\n",
    "       376, 192,  99, 678, 650, 223, 205, 748, 462, 146,  20, 897, 546,\n",
    "       646, 687, 935, 821, 553, 589, 370, 596, 886, 794, 913,  15, 757,\n",
    "       444, 330, 871, 984, 543, 525, 164, 863, 182, 927, 101, 578, 185,\n",
    "        68, 615, 549, 338, 322, 279, 288, 251, 908, 236, 508, 716, 931,\n",
    "       230, 621, 727, 232, 832, 409, 797, 143, 906, 599, 199,  65, 179,\n",
    "       280, 830, 742, 463, 158, 715, 881, 824, 518, 653, 258, 951, 396,\n",
    "       557, 834, 432, 426, 522, 504, 732, 698,   7, 912, 580, 193, 691,\n",
    "       556, 685, 840, 411, 465, 974, 664, 267, 212, 887, 423, 293, 827,\n",
    "       815, 812, 612, 869, 652,  89, 141, 418, 310, 733, 481, 239,  70,\n",
    "       375, 312, 398, 455, 363, 828, 848, 614, 929, 397, 445, 414, 379,\n",
    "       291,  74, 226, 486, 333,  84, 480, 694, 284, 209, 142, 250, 925,\n",
    "       355, 576, 388, 535, 829, 464,   1, 183, 109, 160, 937, 811, 431,\n",
    "       391, 901, 172, 128, 802, 798, 779, 169, 484, 451, 577,  77, 575,\n",
    "       839, 810, 930, 616, 809, 175, 818, 677, 952, 200, 532, 311, 552,\n",
    "       526, 895, 399, 705, 309, 152, 833, 273, 819, 878, 374,  91, 957,\n",
    "       452, 933, 365, 973, 318,  62,  18, 976, 982, 749, 744, 347, 617,\n",
    "       675,  22, 660, 706, 510, 188, 235, 419, 739, 699, 542, 944, 315,\n",
    "       227, 241, 490, 673, 107, 898, 441, 439, 717, 436, 343, 473,  80,\n",
    "       696, 979, 946,  30,  10, 890, 524, 795, 157, 346, 752, 257, 317,\n",
    "       496,   4, 710, 198, 116, 204, 692, 174, 701, 202, 756, 920, 119,\n",
    "       177, 275, 862,  13, 248, 909, 345, 941, 384, 894, 540, 567, 641,\n",
    "       129,  90, 305, 126, 963, 163, 111, 702, 859, 868, 453, 719, 728,\n",
    "       327, 502,  72,   2, 573, 825, 620,  12, 803, 883, 688, 427, 108,\n",
    "       740, 969, 181, 923, 948, 335, 308, 753, 304, 781, 530,  42, 356,\n",
    "       633, 791, 437, 771, 471, 294, 600, 867, 558, 854, 593, 777, 438,\n",
    "       340,  55, 786, 874, 344, 216, 460,  40, 642, 989, 899, 711, 178,\n",
    "       176, 492,  58, 457, 476,  16, 458, 700, 440, 686, 889, 459, 822,\n",
    "       877, 637, 659, 519, 417,  29, 955, 400, 669, 783, 429, 488, 203,\n",
    "       371,  32, 513, 996, 967, 156, 572, 826, 334, 382, 529, 372, 891,\n",
    "       579, 601,   3, 663, 747, 130, 626, 624, 342, 835,  41, 321, 222,\n",
    "       328, 916, 511, 113,  48, 289,  76, 206, 978, 447, 285, 936, 386,\n",
    "       225, 707, 120, 990, 512, 456, 387, 595, 221, 268, 171, 773, 768,\n",
    "       684, 544, 884, 864, 765, 123, 915, 180, 161, 704, 265, 734, 117,\n",
    "       844, 962, 763, 521, 672, 998, 468, 597, 240, 134, 155, 353, 139,\n",
    "       932, 965,  60, 352, 643, 165, 960, 879, 300, 214, 407, 882, 297,\n",
    "       394, 131, 314, 911, 738, 731, 416, 565,  38, 470, 249, 505, 402,\n",
    "        53, 194, 136, 581, 662, 671, 281,  35, 968, 813, 743, 378, 644,\n",
    "        66, 571, 681, 536,  52, 377, 712, 851, 959, 246, 940, 425, 666,\n",
    "        28, 907, 244, 103, 276, 393, 110, 159, 112, 568, 551, 329, 262,\n",
    "       858, 654, 167, 905, 154, 949,  24, 857, 443, 150,  94, 217, 381,\n",
    "        23, 292, 173, 100,  25, 755, 636, 489, 865, 354, 645, 242, 999,\n",
    "        73, 559, 964, 118, 114, 520,   5, 475, 656, 986,  69,  14, 991,\n",
    "       618, 369,  78, 479, 724,  54, 467, 266, 787, 514, 537, 872, 503,\n",
    "       606, 166, 690, 331, 876, 247, 373, 632, 472, 499, 638, 608, 563,\n",
    "       977, 307, 793, 799, 566, 501, 234, 775, 430, 629, 191, 151, 435,\n",
    "       256, 910, 667, 778, 541, 569, 582, 383, 145, 850, 928, 533, 215,\n",
    "       842, 900, 665, 196, 843, 495, 591,  17, 776,  27, 277, 631, 395,\n",
    "       228, 320, 147, 721, 950, 494, 598, 449, 713, 106, 350, 523, 389,\n",
    "       448,  93, 259, 554, 888, 170, 254, 602, 252, 306, 547, 796, 953,\n",
    "       428, 186, 269, 630, 162, 413, 774, 789,  98,   6, 801, 852, 611,\n",
    "       229, 264, 368, 695, 861, 845, 896, 403, 947, 610, 189, 332, 303,\n",
    "       260, 144, 627, 283, 853,  11, 814, 594, 693, 531, 469, 127, 735,\n",
    "        57,  33, 237, 921, 282, 586, 362, 243, 603,  92, 210, 337, 729,\n",
    "       668, 301,  85, 190,  39, 500, 623, 507, 634, 516, 723, 104, 806,\n",
    "       233, 676, 105, 341, 926, 253, 408, 422, 208, 980, 770,  82, 497,\n",
    "       919, 583, 780,  87,  64, 270, 605, 274, 985, 870, 792, 893, 153,\n",
    "       613, 782, 410, 866, 517,  44, 625, 390, 220, 140, 349, 357, 722,\n",
    "       133, 261, 278,  79, 975, 115, 816, 836, 718, 380, 934, 184, 790,\n",
    "       358,  36, 339, 837, 754, 420, 149,   9,  45,  95, 902, 995, 548,\n",
    "       560, 298, 290, 415, 313, 421, 657, 122, 841, 817, 361, 336, 135,\n",
    "       849, 709, 769, 651, 367, 961, 914, 619,   8,  97, 970, 348, 509,\n",
    "       956, 703, 746,  21, 482, 966, 405, 784, 917, 987, 847, 478, 590,\n",
    "       491,  46, 364, 296,  49, 487, 224, 750, 219, 945, 761, 988, 647,\n",
    "       201, 562, 622, 992,  63, 804, 604, 245, 442, 971, 574,   0, 539,\n",
    "       767, 762, 689, 187, 406, 148, 751, 983, 943,  26, 461, 670, 655,\n",
    "       785,  59, 714, 326, 424, 720, 477,  43, 661, 635, 823, 528, 736,\n",
    "       483, 218, 741, 820, 994, 855, 922, 609, 485, 125, 903,  61,  81,\n",
    "       680, 324, 385, 993,  56,  19, 958,  86, 838, 758, 649, 316,  34,\n",
    "       808, 138, 766, 588, 904, 498, 538, 800, 555,  96,  83, 446, 474,\n",
    "       764, 366, 873, 697, 585, 885, 972, 760, 918, 401, 759, 392, 939,\n",
    "       745, 271, 506, 997, 434, 648, 942, 807, 561, 207, 319, 981, 132,\n",
    "        50, 238, 564, 592, 450,  31, 121, 211, 351, 454, 302, 708,  88,\n",
    "       325, 323, 255, 892, 570, 545, 550, 359,  51, 875, 938, 772, 102,\n",
    "       195, 679, 805, 628, 124, 404, 730, 287, 831,  47, 725, 587, 607,\n",
    "       433, 674, 263, 360,  75, 466, 299, 534, 584, 493, 527, 168])"
   ]
  },
  {
   "cell_type": "code",
   "execution_count": 7,
   "id": "5b470222-6055-409a-9da4-9a5b8c69a4f3",
   "metadata": {},
   "outputs": [],
   "source": [
    "# define range\n",
    "low = -2\n",
    "high = 2"
   ]
  },
  {
   "cell_type": "code",
   "execution_count": 8,
   "id": "568dba65-37ac-4922-84c4-c62aabd691da",
   "metadata": {},
   "outputs": [],
   "source": [
    "# Generates training dataset\n",
    "Xtrain = np.linspace(low, high, 1000)[permutation] #np.random.uniform(low, high, 300)\n",
    "Ytrain = target(Xtrain)"
   ]
  },
  {
   "cell_type": "code",
   "execution_count": 9,
   "id": "0797ebe0-3555-4c5f-872e-6e991e248323",
   "metadata": {},
   "outputs": [],
   "source": [
    "# generate test set\n",
    "Xtest = np.linspace(low, high, 100) #np.sort(np.random.uniform(low, high, 100))\n",
    "Ytest = target(Xtest)"
   ]
  },
  {
   "cell_type": "code",
   "execution_count": 10,
   "id": "03b92d17-2956-4702-b2fd-ad63d72cd126",
   "metadata": {},
   "outputs": [],
   "source": [
    "# plt.scatter(Xtrain, Ytrain[:,0], s=10)\n",
    "# plt.scatter(Xtrain, Ytrain[:,1], s=10)\n",
    "# plt.title(\"Training Dataset\")\n",
    "# plt.show()"
   ]
  },
  {
   "cell_type": "code",
   "execution_count": 11,
   "id": "8bf6cd0b-be97-4750-b5e4-7819c0cb673d",
   "metadata": {},
   "outputs": [],
   "source": [
    "# plt.scatter(Xtest, Ytest[:,0], s=10)\n",
    "# plt.scatter(Xtest, Ytest[:,1], s=10)\n",
    "# plt.title(\"Testing Dataset\")\n",
    "# plt.show()"
   ]
  },
  {
   "cell_type": "code",
   "execution_count": 12,
   "id": "a05dfe04-dca5-4ced-b66a-9add2f1aebc9",
   "metadata": {},
   "outputs": [],
   "source": [
    "train_dataset = GenericDataset(Xtrain.reshape(-1,1), Ytrain)\n",
    "test_dataset = GenericDataset(Xtest.reshape(-1,1), Ytest)"
   ]
  },
  {
   "cell_type": "code",
   "execution_count": 13,
   "id": "406b0c01-123d-41df-96b9-4a0f78e5e998",
   "metadata": {},
   "outputs": [],
   "source": [
    "# Define model parameters\n",
    "input_size = 1\n",
    "output_size = 2\n",
    "hidden_size = 10\n",
    "shuffle=False\n",
    "\n",
    "# Define training parameters\n",
    "epochs = 200\n",
    "milestones = [80]\n",
    "lr = 0.01\n",
    "momentum = 0.9\n",
    "batch_size = 64\n",
    "decreaselr = False\n",
    "\n",
    "# Device parameters\n",
    "device = \"cuda\""
   ]
  },
  {
   "cell_type": "code",
   "execution_count": 14,
   "id": "8e3d6312-c5d6-44e3-b819-b4dbfd11a738",
   "metadata": {},
   "outputs": [],
   "source": [
    "# Declare TwoNet\n",
    "model=TwoNet(input_size, output_size, hidden_size)"
   ]
  },
  {
   "cell_type": "code",
   "execution_count": 15,
   "id": "36dac34e-9e76-4605-8923-11a51436ccae",
   "metadata": {},
   "outputs": [],
   "source": [
    "# Train TwoNet\n",
    "optimizer = optim.SGD(model.parameters(), lr=lr, momentum=momentum)\n",
    "criterion = nn.MSELoss()\n",
    "train_loader=DataLoader(dataset=train_dataset,batch_size=batch_size,shuffle=shuffle)"
   ]
  },
  {
   "cell_type": "code",
   "execution_count": 16,
   "id": "269f73e5-ea69-4d72-a9ba-04af5d0315eb",
   "metadata": {},
   "outputs": [],
   "source": [
    "LOSS=[]\n",
    "\n",
    "model = model.double()\n",
    "model.to(device)\n",
    "\n",
    "for epoch in range(epochs):\n",
    "    if decreaselr and (epoch in milestones):\n",
    "            lr = lr*0.1\n",
    "            optimizer = optim.SGD(model.parameters(), lr=lr, momentum=momentum)\n",
    "    \n",
    "    cnt = 0\n",
    "    loss_sum = 0.0\n",
    "    \n",
    "    for x,y in train_loader:\n",
    "        cnt += 1\n",
    "        x = x.to(device)\n",
    "        y = y.to(device)\n",
    "            \n",
    "        #make a prediction \n",
    "        yhat=model(x)\n",
    "        #calculate the loss\n",
    "        loss=criterion(yhat,y)\n",
    "        #store loss/cost \n",
    "        loss_sum += loss.item()\n",
    "        #clear gradient \n",
    "        optimizer.zero_grad()\n",
    "        #Backward pass: compute gradient of the loss with respect to all the learnable parameters\n",
    "        loss.backward()\n",
    "        #the step function on an Optimizer makes an update to its parameters\n",
    "        optimizer.step()\n",
    "    \n",
    "    loss_avg = loss_sum / cnt\n",
    "    LOSS.append(loss_avg)"
   ]
  },
  {
   "cell_type": "code",
   "execution_count": 17,
   "id": "f3dfe622-8346-41f6-848b-571e76438bb8",
   "metadata": {},
   "outputs": [
    {
     "data": {
      "image/png": "[encoded data removed]",
      "text/plain": [
       "<Figure size 640x480 with 1 Axes>"
      ]
     },
     "metadata": {},
     "output_type": "display_data"
    }
   ],
   "source": [
    "plt.plot(LOSS)\n",
    "plt.title(\"Training Loss\")\n",
    "plt.xlabel(\"Epochs\")\n",
    "plt.ylabel(\"Cost/total loss \")\n",
    "plt.show()"
   ]
  },
  {
   "cell_type": "code",
   "execution_count": 18,
   "id": "4b976670-f9ad-4d08-a1b3-0d057a99f55b",
   "metadata": {},
   "outputs": [],
   "source": [
    "model.eval()\n",
    "test_loader = DataLoader(dataset=test_dataset,batch_size=batch_size,shuffle=shuffle)\n",
    "\n",
    "preds = []\n",
    "labels = []\n",
    "    \n",
    "for batch_vec, batch_labels in iter(test_loader):\n",
    "    batch_vec = batch_vec.to(device)\n",
    "    \n",
    "    batch_outputs = model(batch_vec)\n",
    "    batch_preds = batch_outputs.cpu().detach().numpy()\n",
    "    batch_labels = batch_labels.numpy()\n",
    "    preds.append(batch_preds)\n",
    "    labels.append(batch_labels)\n",
    "\n",
    "preds = np.concatenate(preds)\n",
    "labels = np.concatenate(labels)"
   ]
  },
  {
   "cell_type": "code",
   "execution_count": 19,
   "id": "44b25ebc-5450-4ff0-85ba-100d52deea5f",
   "metadata": {},
   "outputs": [
    {
     "data": {
      "text/plain": [
       "(0.010864162692646619, 0.01475913246320945)"
      ]
     },
     "execution_count": 19,
     "metadata": {},
     "output_type": "execute_result"
    }
   ],
   "source": [
    "# Compute regression error\n",
    "regression_mse_f1 = np.square(np.subtract(preds[:,0], labels[:,0])).mean()\n",
    "regression_mse_f2 = np.square(np.subtract(preds[:,1], labels[:,1])).mean()\n",
    "\n",
    "regression_mse_f1, regression_mse_f2"
   ]
  },
  {
   "cell_type": "code",
   "execution_count": 20,
   "id": "58433b26-c6b7-434b-8f9d-4050dc56c0c3",
   "metadata": {},
   "outputs": [
    {
     "data": {
      "image/png": "[encoded data removed]",
      "text/plain": [
       "<Figure size 640x480 with 1 Axes>"
      ]
     },
     "metadata": {},
     "output_type": "display_data"
    }
   ],
   "source": [
    "fig, ax = plt.subplots()\n",
    "\n",
    "ax.scatter(Xtest, preds[:,0], label='pred', s=5)\n",
    "ax.scatter(Xtest, Ytest[:,0], label='true', s=5)\n",
    "ax.legend()\n",
    "plt.show()"
   ]
  },
  {
   "cell_type": "code",
   "execution_count": 21,
   "id": "d2b787cd-acb1-4a59-acf2-175525c0cde7",
   "metadata": {},
   "outputs": [
    {
     "data": {
      "image/png": "[encoded data removed]",
      "text/plain": [
       "<Figure size 640x480 with 1 Axes>"
      ]
     },
     "metadata": {},
     "output_type": "display_data"
    }
   ],
   "source": [
    "fig, ax = plt.subplots()\n",
    "\n",
    "ax.scatter(Xtest, preds[:,1], label='pred', s=5)\n",
    "ax.scatter(Xtest, Ytest[:,1], label='true', s=5)\n",
    "ax.legend()\n",
    "plt.show()"
   ]
  },
  {
   "cell_type": "code",
   "execution_count": 22,
   "id": "d4343b9e-d48c-4a6d-a54b-1b564af03b2e",
   "metadata": {},
   "outputs": [
    {
     "name": "stdout",
     "output_type": "stream",
     "text": [
      "Seed: 3 learns f1 better. f1 MSE: 0.0109, f2 MSE: 0.0148\n"
     ]
    }
   ],
   "source": [
    "if (regression_mse_f1 < regression_mse_f2):\n",
    "    print(f'Seed: {seed} learns f1 better. f1 MSE: {regression_mse_f1:.4f}, f2 MSE: {regression_mse_f2:.4f}')\n",
    "else:\n",
    "    print(f'Seed: {seed} learns f2 better. f1 MSE: {regression_mse_f1:.4f}, f2 MSE: {regression_mse_f2:.4f}')"
   ]
  },
  {
   "cell_type": "code",
   "execution_count": null,
   "id": "473402d3-5632-4a8d-a64b-13e2ef7dd13b",
   "metadata": {},
   "outputs": [],
   "source": []
  },
  {
   "cell_type": "code",
   "execution_count": null,
   "id": "88d262aa-e685-4670-8dea-0a3b8e682cdf",
   "metadata": {},
   "outputs": [],
   "source": []
  }
 ],
 "metadata": {
  "kernelspec": {
   "display_name": "pytorch",
   "language": "python",
   "name": "pytorch"
  },
  "language_info": {
   "codemirror_mode": {
    "name": "ipython",
    "version": 3
   },
   "file_extension": ".py",
   "mimetype": "text/x-python",
   "name": "python",
   "nbconvert_exporter": "python",
   "pygments_lexer": "ipython3",
   "version": "3.9.5"
  }
 },
 "nbformat": 4,
 "nbformat_minor": 5
}
