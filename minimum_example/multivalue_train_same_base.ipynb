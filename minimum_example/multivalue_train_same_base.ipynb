{
 "cells": [
  {
   "cell_type": "code",
   "execution_count": null,
   "id": "e407e8c3-bd6a-4c10-af81-f4f49da42deb",
   "metadata": {},
   "outputs": [],
   "source": [
    "import torch\n",
    "import numpy as np\n",
    "import matplotlib.pyplot as plt\n",
    "from torch import nn,optim\n",
    "from torch.utils.data import Dataset, DataLoader\n",
    "\n",
    "from generic_data import GenericDataset\n",
    "from SimpleNNs import TwoNet"
   ]
  },
  {
   "cell_type": "code",
   "execution_count": null,
   "id": "414a2ea6-a627-4894-a514-3e335e85784e",
   "metadata": {},
   "outputs": [],
   "source": [
    "seed = 123\n",
    "np.random.seed(seed)\n",
    "torch.manual_seed(seed)"
   ]
  },
  {
   "cell_type": "code",
   "execution_count": null,
   "id": "839963bc-6f39-4e65-b2f1-84a38bffad39",
   "metadata": {},
   "outputs": [],
   "source": [
    "def target(x):\n",
    "    shift = np.pi / 8.0 # np.pi / 4.0\n",
    "    #f1 = (np.sin(8 * x) / (4 * np.cos(2 * x))).reshape(-1,1)\n",
    "    f1 = (np.sin(8 * (x-shift)) / (4 * np.cos(2 * (x-shift)))).reshape(-1,1)\n",
    "    f2 = (np.sin(8 * (x+shift)) / (4 * np.cos(2 * (x+shift)))).reshape(-1,1)\n",
    "    return np.hstack((f1,f2))"
   ]
  }
 ],
 "metadata": {
  "kernelspec": {
   "display_name": "pytorch",
   "language": "python",
   "name": "pytorch"
  },
  "language_info": {
   "codemirror_mode": {
    "name": "ipython",
    "version": 3
   },
   "file_extension": ".py",
   "mimetype": "text/x-python",
   "name": "python",
   "nbconvert_exporter": "python",
   "pygments_lexer": "ipython3",
   "version": "3.9.5"
  }
 },
 "nbformat": 4,
 "nbformat_minor": 5
}
