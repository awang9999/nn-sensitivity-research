{
 "cells": [
  {
   "cell_type": "markdown",
   "id": "385a12a5",
   "metadata": {},
   "source": [
    "# Learning the Game of Life\n",
    "\n",
    "This notebook contains an exploration on using convolutional neural networks to learn the simulation rules of Conway's Game of Life. Furthermore, I hope to exemplify in this notebook a situation where neural networks can be made to diverge from each other quickly during fine tuning.\n",
    "\n",
    "## The Game of Life\n",
    "\n",
    "Conway's Game of Life is commonly referred to as a zero player game set on an infinite field of cells. The term zero player refers to the fact that once the initial state of the infinite field of cells is set, no more human interaction is required. The game is played out by the following iteration rules. Applying them to the entire field is commonly called a step in the game of life.\n",
    "\n",
    "1) Any live cell with fewer than two live neighbours dies, as if by underpopulation.\n",
    "2) Any live cell with two or three live neighbours lives on to the next generation.\n",
    "3) Any live cell with more than three live neighbours dies, as if by overpopulation.\n",
    "4) Any dead cell with exactly three live neighbours becomes a live cell, as if by reproduction.\n",
    "\n",
    "These rules are taken from the Wikipedia article [2]. When the Game of Life is played on a finite field, one common assumption made to simplify simulation is to assume that all cells beyond the finite field to be dead cells. This assumption was made by Kenyon and Springer during their analysis of learning the Game of Life using CNNs. However, this is found to be problematic since the behavior cannot be represented by the fundamental rules above. That is, the status of cells end up dependent on their distance from the edges. Hence, we propose a different scenario that involves periodic boundary conditions.\n",
    "\n",
    "## Periodic Boundary Conditions\n",
    "\n",
    "What we mean by periodic boundary conditions is that the edges and corners of the finite field effectively wrap around to the opposite edge/corner. For instance, the leftmost column acts as the column to the right of the rightmost column and vice versa. Likewise for the top and bottom rows. The top left corner is included in the step evaluation for the bottom right corner and vice versa. And similar behavior is seen for the other corners. This effectively changes the game of life to run on a torus surface."
   ]
  },
  {
   "cell_type": "code",
   "execution_count": 1,
   "id": "6834b27c",
   "metadata": {},
   "outputs": [],
   "source": [
    "import numpy as np\n",
    "from GameOfLife import StandardEngine, ConvEngine, GameOfLife"
   ]
  },
  {
   "cell_type": "code",
   "execution_count": 2,
   "id": "32a20953",
   "metadata": {},
   "outputs": [],
   "source": [
    "# Creates a 32x32 field to play Life on and populates it with a glider pattern\n",
    "glider = np.zeros((32,32))\n",
    "glider[1,3]=1\n",
    "glider[2,3]=1\n",
    "glider[3,3]=1\n",
    "glider[3,2]=1\n",
    "glider[2,1]=1\n",
    "# Creates a 32x32 field to play Life on and populates it with a pulsar pattern\n",
    "pulsar = np.zeros((32,32))\n",
    "pulsar[7,6] = pulsar[8,6] = pulsar[9,6] = pulsar[13,6] = pulsar[14,6] = pulsar[15,6] = 1\n",
    "pulsar[7,11] = pulsar[8,11] = pulsar[9,11] = pulsar[13,11] = pulsar[14,11] = pulsar[15,11] = 1\n",
    "pulsar[7,13] = pulsar[8,13] = pulsar[9,13] = pulsar[13,13] = pulsar[14,13] = pulsar[15,13] = 1\n",
    "pulsar[7,18] = pulsar[8,18] = pulsar[9,18] = pulsar[13,18] = pulsar[14,18] = pulsar[15,18] = 1\n",
    "pulsar[5,8] = pulsar[5,9] = pulsar[5,10] = pulsar[5,14] = pulsar[5,15] = pulsar[5,16] = 1\n",
    "pulsar[10,8] = pulsar[10,9] = pulsar[10,10] = pulsar[10,14] = pulsar[10,15] = pulsar[10,16] = 1\n",
    "pulsar[12,8] = pulsar[12,9] = pulsar[12,10] = pulsar[12,14] = pulsar[12,15] = pulsar[12,16] = 1\n",
    "pulsar[17,8] = pulsar[17,9] = pulsar[17,10] = pulsar[17,14] = pulsar[17,15] = pulsar[17,16] = 1"
   ]
  },
  {
   "cell_type": "code",
   "execution_count": null,
   "id": "6a6d0ae1",
   "metadata": {},
   "outputs": [],
   "source": [
    "random = np.randn(64,64) > 0.0"
   ]
  },
  {
   "cell_type": "markdown",
   "id": "660edaa3",
   "metadata": {},
   "source": [
    "## Standard Implementation\n",
    "\n",
    "A simulation of Life can be implemented on a toroid by padding the finite game field and programming the four rules listed above directly. I provide an implementation of the rules in this way in the associated file, `GameOfLife.py`, under the `StandardEngine` class."
   ]
  },
  {
   "cell_type": "code",
   "execution_count": 3,
   "id": "f7b73c84",
   "metadata": {},
   "outputs": [
    {
     "data": {
      "application/vnd.jupyter.widget-view+json": {
       "model_id": "c1e5b223f16644798e75e76d11dae5ea",
       "version_major": 2,
       "version_minor": 0
      },
      "text/plain": [
       "MultiCanvas(height=640, width=640)"
      ]
     },
     "metadata": {},
     "output_type": "display_data"
    },
    {
     "data": {
      "application/vnd.jupyter.widget-view+json": {
       "model_id": "98c9da4a712747f39185eb42fb82da75",
       "version_major": 2,
       "version_minor": 0
      },
      "text/plain": [
       "GridspecLayout(children=(Button(description='Reset', layout=Layout(grid_area='widget001'), style=ButtonStyle()…"
      ]
     },
     "metadata": {},
     "output_type": "display_data"
    },
    {
     "data": {
      "application/vnd.jupyter.widget-view+json": {
       "model_id": "31a863f853714bd5986e400623fe6ece",
       "version_major": 2,
       "version_minor": 0
      },
      "text/plain": [
       "Output()"
      ]
     },
     "metadata": {},
     "output_type": "display_data"
    }
   ],
   "source": [
    "std_engine = StandardEngine(glider)\n",
    "gol = GameOfLife(std_engine, c_width=640, c_height=640)"
   ]
  },
  {
   "cell_type": "markdown",
   "id": "807b898f",
   "metadata": {},
   "source": [
    "## CNN Implementation\n",
    "\n",
    "Since the rules of Life are applied locally around each cell, it naturally lends itself to be represented as a convolution. Kenyon and Springer propose a convolutional neural network that is capable of simulating one step of Life in their paper [1]. I provide a PyTorch implementation of their proposed network to simulate one step of Life in `MinimumSolution.py` and connect it to the visualization through the `ConvEngine` class inside `GameOfLife.py`."
   ]
  },
  {
   "cell_type": "code",
   "execution_count": 7,
   "id": "19a80d91",
   "metadata": {},
   "outputs": [
    {
     "data": {
      "application/vnd.jupyter.widget-view+json": {
       "model_id": "c31ead4216004428ab069cab49e6285b",
       "version_major": 2,
       "version_minor": 0
      },
      "text/plain": [
       "MultiCanvas(height=640, width=640)"
      ]
     },
     "metadata": {},
     "output_type": "display_data"
    },
    {
     "data": {
      "application/vnd.jupyter.widget-view+json": {
       "model_id": "c47bd91bdea84bd8bc2e1f5c71f07dfc",
       "version_major": 2,
       "version_minor": 0
      },
      "text/plain": [
       "GridspecLayout(children=(Button(description='Reset', layout=Layout(grid_area='widget001'), style=ButtonStyle()…"
      ]
     },
     "metadata": {},
     "output_type": "display_data"
    },
    {
     "data": {
      "application/vnd.jupyter.widget-view+json": {
       "model_id": "0db7e9e2d63e43db8e2a312e43a57f40",
       "version_major": 2,
       "version_minor": 0
      },
      "text/plain": [
       "Output()"
      ]
     },
     "metadata": {},
     "output_type": "display_data"
    }
   ],
   "source": [
    "conv_engine = ConvEngine(glider)\n",
    "gol = GameOfLife(conv_engine, c_width=640, c_height=640)"
   ]
  },
  {
   "cell_type": "markdown",
   "id": "09e257c0",
   "metadata": {},
   "source": [
    "# Bibliography\n",
    "    \n",
    "1. Springer, Jacob M., and Garrett T. Kenyon. \"It's Hard for Neural Networks To Learn the Game of Life\". CoRR, vol. abs/2009.01398, 2020, https://arxiv.org/abs/2009.01398.\n",
    "\n",
    "2. https://en.wikipedia.org/wiki/Conway%27s_Game_of_Life"
   ]
  }
 ],
 "metadata": {
  "kernelspec": {
   "display_name": "gol_venv",
   "language": "python",
   "name": "gol_venv"
  },
  "language_info": {
   "codemirror_mode": {
    "name": "ipython",
    "version": 3
   },
   "file_extension": ".py",
   "mimetype": "text/x-python",
   "name": "python",
   "nbconvert_exporter": "python",
   "pygments_lexer": "ipython3",
   "version": "3.9.16"
  }
 },
 "nbformat": 4,
 "nbformat_minor": 5
}
