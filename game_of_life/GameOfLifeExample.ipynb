{
 "cells": [
  {
   "cell_type": "markdown",
   "id": "385a12a5",
   "metadata": {},
   "source": [
    "# Learning the Game of Life\n",
    "\n",
    "This notebook contains an exploration on using convolutional neural networks to learn the simulation rules of Conway's Game of Life. Furthermore, I hope to exemplify in this notebook a situation where neural networks can be made to diverge from each other quickly during fine tuning.\n",
    "\n",
    "## The Game of Life\n",
    "\n",
    "Conway's Game of Life is commonly referred to as a zero player game set on an infinite field of cells. The term zero player refers to the fact that once the initial state of the infinite field of cells is set, no more human interaction is required. The game is played out by the following iteration rules. Applying them to the entire field is commonly called a step in the game of life.\n",
    "\n",
    "1) Any live cell with fewer than two live neighbours dies, as if by underpopulation.\n",
    "2) Any live cell with two or three live neighbours lives on to the next generation.\n",
    "3) Any live cell with more than three live neighbours dies, as if by overpopulation.\n",
    "4) Any dead cell with exactly three live neighbours becomes a live cell, as if by reproduction.\n",
    "\n",
    "These rules are taken from the Wikipedia article [2]. When the Game of Life is played on a finite field, one common assumption made to simplify simulation is to assume that all cells beyond the finite field to be dead cells. This assumption was made by Kenyon and Springer during their analysis of learning the Game of Life using CNNs. However, this is found to be problematic since the behavior cannot be represented by the fundamental rules above. That is, the status of cells end up dependent on their distance from the edges. Hence, we propose a different scenario that involves periodic boundary conditions.\n",
    "\n",
    "## Periodic Boundary Conditions\n",
    "\n",
    "What we mean by periodic boundary conditions is that the edges and corners of the finite field effectively wrap around to the opposite edge/corner. For instance, the leftmost column acts as the column to the right of the rightmost column and vice versa. Likewise for the top and bottom rows. The top left corner is included in the step evaluation for the bottom right corner and vice versa. And similar behavior is seen for the other corners. This effectively changes the game of life to run on a torus surface."
   ]
  },
  {
   "cell_type": "code",
   "execution_count": 1,
   "id": "6834b27c",
   "metadata": {},
   "outputs": [],
   "source": [
    "import numpy as np\n",
    "import time"
   ]
  },
  {
   "cell_type": "code",
   "execution_count": 2,
   "id": "32a20953",
   "metadata": {},
   "outputs": [],
   "source": [
    "initial_state = np.array(\n",
    "[[0, 0, 0, 0, 0, 0, 0, 0, 0, 0, 0, 0, 0, 0, 0, 0],\n",
    " [0, 0, 0, 0, 0, 0, 0, 0, 0, 0, 0, 0, 0, 0, 0, 0],\n",
    " [0, 0, 0, 0, 0, 0, 0, 0, 0, 0, 0, 0, 0, 0, 0, 0],\n",
    " [0, 0, 0, 0, 0, 1, 0, 0, 0, 0, 0, 0, 0, 0, 0, 0],\n",
    " [0, 0, 0, 0, 0, 0, 1, 0, 0, 0, 0, 0, 0, 0, 0, 0],\n",
    " [0, 0, 0, 0, 1, 1, 1, 0, 0, 0, 0, 0, 0, 0, 0, 0],\n",
    " [0, 0, 0, 0, 0, 0, 0, 0, 0, 0, 0, 0, 0, 0, 0, 0],\n",
    " [0, 0, 0, 0, 0, 0, 0, 0, 0, 0, 0, 0, 0, 0, 0, 0],\n",
    " [0, 0, 0, 0, 0, 0, 0, 0, 0, 0, 0, 0, 0, 0, 0, 0],\n",
    " [0, 0, 0, 0, 0, 0, 0, 0, 0, 0, 0, 0, 0, 0, 0, 0],\n",
    " [0, 0, 0, 0, 0, 0, 0, 0, 0, 0, 0, 0, 0, 0, 0, 0],\n",
    " [0, 0, 0, 0, 0, 0, 0, 0, 0, 0, 0, 0, 0, 0, 0, 0],\n",
    " [0, 0, 0, 0, 0, 0, 0, 0, 0, 0, 0, 0, 0, 0, 0, 0],\n",
    " [0, 0, 0, 0, 0, 0, 0, 0, 0, 0, 0, 0, 0, 0, 0, 0],\n",
    " [0, 0, 0, 0, 0, 0, 0, 0, 0, 0, 0, 0, 0, 0, 0, 0],\n",
    " [0, 0, 0, 0, 0, 0, 0, 0, 0, 0, 0, 0, 0, 0, 0, 0]])"
   ]
  },
  {
   "cell_type": "code",
   "execution_count": 3,
   "id": "120ab6e5",
   "metadata": {},
   "outputs": [],
   "source": [
    "\"\"\"\n",
    "Parameters: A m by n binary matrix representing live (1) and dead (0) cells\n",
    "            in the field.\n",
    "Output: A m by n binary matrix representing the state of the field of cells\n",
    "        after one step of the game of life. The step is evaluated on the\n",
    "        input according to the periodic boundary conditions\n",
    "\"\"\"\n",
    "def step(game_state):\n",
    "    m, n = np.shape(game_state)\n",
    "    next_state = np.zeros((m, n), dtype=int)\n",
    "    for i in range(m):\n",
    "        for j in range(n):\n",
    "            live_neighbors = 0\n",
    "            \n",
    "            live_neighbors += game_state[i-1,j-1]\n",
    "            live_neighbors += game_state[i-1,j]\n",
    "            live_neighbors += game_state[i-1,j+1 if j+1 < n else 0]\n",
    "            \n",
    "            live_neighbors += game_state[i,j-1]\n",
    "            live_neighbors += game_state[i,j+1 if j+1 < n else 0]\n",
    "            \n",
    "            live_neighbors += game_state[i+1 if i+1 < m else 0, j-1]\n",
    "            live_neighbors += game_state[i+1 if i+1 < m else 0, j]\n",
    "            live_neighbors += game_state[i+1 if i+1 < m else 0, j+1 if j+1 < n else 0]\n",
    "            \n",
    "            if live_neighbors < 2: # dies by underpopulation (rule 1)\n",
    "                next_state[i,j] = 0 \n",
    "            elif live_neighbors > 3: # dies by overpopulation (rule 3)\n",
    "                next_state[i,j] = 0 \n",
    "            elif game_state[i,j] == 0 and live_neighbors == 3: # reproduction (rule 4)\n",
    "                next_state[i,j] = 1\n",
    "            elif game_state[i,j] == 1 and (live_neighbors == 2 or live_neighbors == 3): # (rule 2)\n",
    "                next_state[i,j] = 1\n",
    "    return next_state\n",
    "\n",
    "def step_n(game_state, n=1):\n",
    "    gs = game_state\n",
    "    for i in range(n):\n",
    "        gs = step(gs)\n",
    "        \n",
    "    return gs"
   ]
  },
  {
   "cell_type": "code",
   "execution_count": 4,
   "id": "7d2fb778",
   "metadata": {},
   "outputs": [],
   "source": [
    "gs = initial_state"
   ]
  },
  {
   "cell_type": "code",
   "execution_count": 5,
   "id": "18783bfe",
   "metadata": {},
   "outputs": [],
   "source": [
    "from ipycanvas import MultiCanvas, hold_canvas\n",
    "\n",
    "w=512\n",
    "h=512\n",
    "\n",
    "multi_canvas = MultiCanvas(2, width=w, height=h)\n",
    "multi_canvas[0].fill_style = '#eceff4'\n",
    "multi_canvas[0].fill_rect(0, 0, multi_canvas.width, multi_canvas.height)"
   ]
  },
  {
   "cell_type": "code",
   "execution_count": 6,
   "id": "6fe0c201",
   "metadata": {},
   "outputs": [],
   "source": [
    "def draw(x, canvas, color='#3b4252'):\n",
    "    with hold_canvas(canvas):\n",
    "        canvas.clear()\n",
    "        canvas.fill_style = color\n",
    "        \n",
    "        m, n = np.shape(x)\n",
    "        pixheight = canvas.height\n",
    "        pixwidth = canvas.width\n",
    "        m_pixels = pixheight / m\n",
    "        n_pixels = pixwidth / n\n",
    "\n",
    "        r = 0\n",
    "        for row in x:\n",
    "            c = 0\n",
    "            for value in row:\n",
    "                if value:\n",
    "                    canvas.fill_rect(r * m_pixels, c * n_pixels, m_pixels, n_pixels)\n",
    "                c += 1\n",
    "            r += 1"
   ]
  },
  {
   "cell_type": "code",
   "execution_count": 7,
   "id": "dad08f72",
   "metadata": {},
   "outputs": [
    {
     "data": {
      "application/vnd.jupyter.widget-view+json": {
       "model_id": "f8331ded46824423acefdd6ee3342fee",
       "version_major": 2,
       "version_minor": 0
      },
      "text/plain": [
       "MultiCanvas(height=512, width=512)"
      ]
     },
     "execution_count": 7,
     "metadata": {},
     "output_type": "execute_result"
    }
   ],
   "source": [
    "multi_canvas"
   ]
  },
  {
   "cell_type": "code",
   "execution_count": 48,
   "id": "95183515",
   "metadata": {},
   "outputs": [],
   "source": [
    "def render_step(a):\n",
    "    next_state = step(prev_state)\n",
    "    draw(next_state, multi_canvas[1])"
   ]
  },
  {
   "cell_type": "code",
   "execution_count": 49,
   "id": "d7c6bf9b",
   "metadata": {},
   "outputs": [],
   "source": [
    "def test(a=None):\n",
    "    print('Hello')"
   ]
  },
  {
   "cell_type": "code",
   "execution_count": 50,
   "id": "70f66817",
   "metadata": {},
   "outputs": [
    {
     "data": {
      "application/vnd.jupyter.widget-view+json": {
       "model_id": "4fc37f29298342c1b4ff0a66944ee4b9",
       "version_major": 2,
       "version_minor": 0
      },
      "text/plain": [
       "Button(description='Step', style=ButtonStyle(), tooltip='Click me')"
      ]
     },
     "execution_count": 50,
     "metadata": {},
     "output_type": "execute_result"
    },
    {
     "ename": "NameError",
     "evalue": "name 'prev_state' is not defined",
     "output_type": "error",
     "traceback": [
      "\u001b[0;31m---------------------------------------------------------------------------\u001b[0m",
      "\u001b[0;31mNameError\u001b[0m                                 Traceback (most recent call last)",
      "Cell \u001b[0;32mIn[48], line 2\u001b[0m, in \u001b[0;36mrender_step\u001b[0;34m(a)\u001b[0m\n\u001b[1;32m      1\u001b[0m \u001b[38;5;28;01mdef\u001b[39;00m \u001b[38;5;21mrender_step\u001b[39m(a):\n\u001b[0;32m----> 2\u001b[0m     next_state \u001b[38;5;241m=\u001b[39m step(\u001b[43mprev_state\u001b[49m)\n\u001b[1;32m      3\u001b[0m     draw(next_state, multi_canvas[\u001b[38;5;241m1\u001b[39m])\n",
      "\u001b[0;31mNameError\u001b[0m: name 'prev_state' is not defined"
     ]
    }
   ],
   "source": [
    "import ipywidgets as widgets\n",
    "\n",
    "button = widgets.Button(\n",
    "    description='Step',\n",
    "    disabled=False,\n",
    "    tooltip='Click me',\n",
    ")\n",
    "\n",
    "button.on_click(render_step)\n",
    "\n",
    "button"
   ]
  },
  {
   "cell_type": "markdown",
   "id": "09e257c0",
   "metadata": {},
   "source": [
    "# Bibliography\n",
    "    \n",
    "1. Springer, Jacob M., and Garrett T. Kenyon. \"It's Hard for Neural Networks To Learn the Game of Life\". CoRR, vol. abs/2009.01398, 2020, https://arxiv.org/abs/2009.01398.\n",
    "\n",
    "2. https://en.wikipedia.org/wiki/Conway%27s_Game_of_Life"
   ]
  },
  {
   "cell_type": "code",
   "execution_count": null,
   "id": "d11ef3a3",
   "metadata": {},
   "outputs": [],
   "source": []
  },
  {
   "cell_type": "code",
   "execution_count": null,
   "id": "8e1bb9f3",
   "metadata": {},
   "outputs": [],
   "source": []
  }
 ],
 "metadata": {
  "kernelspec": {
   "display_name": "gol_venv",
   "language": "python",
   "name": "gol_venv"
  },
  "language_info": {
   "codemirror_mode": {
    "name": "ipython",
    "version": 3
   },
   "file_extension": ".py",
   "mimetype": "text/x-python",
   "name": "python",
   "nbconvert_exporter": "python",
   "pygments_lexer": "ipython3",
   "version": "3.9.16"
  }
 },
 "nbformat": 4,
 "nbformat_minor": 5
}
