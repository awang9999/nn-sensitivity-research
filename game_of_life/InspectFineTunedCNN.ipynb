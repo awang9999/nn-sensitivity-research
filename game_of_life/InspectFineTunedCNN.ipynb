{
 "cells": [
  {
   "cell_type": "code",
   "execution_count": 1,
   "id": "de04823a",
   "metadata": {},
   "outputs": [],
   "source": [
    "import numpy as np\n",
    "import torch\n",
    "\n",
    "from GOLCNNInspector import GOLCNNInspector\n",
    "from MinimalSolution import MinNet\n",
    "from GOLCNN import OPNet"
   ]
  },
  {
   "cell_type": "code",
   "execution_count": 2,
   "id": "3b8508ad",
   "metadata": {},
   "outputs": [],
   "source": [
    "# Creates a 32x32 field to play Life on and populates it with a glider pattern\n",
    "glider = np.zeros((32,32))\n",
    "glider[1,3]=1\n",
    "glider[2,3]=1\n",
    "glider[3,3]=1\n",
    "glider[3,2]=1\n",
    "glider[2,1]=1"
   ]
  },
  {
   "cell_type": "code",
   "execution_count": 3,
   "id": "abf13838",
   "metadata": {},
   "outputs": [],
   "source": [
    "# Creates a 32x32 field to play Life on and populates it with a pulsar pattern\n",
    "pulsar = np.zeros((32,32))\n",
    "pulsar[7,6] = pulsar[8,6] = pulsar[9,6] = pulsar[13,6] = pulsar[14,6] = pulsar[15,6] = 1\n",
    "pulsar[7,11] = pulsar[8,11] = pulsar[9,11] = pulsar[13,11] = pulsar[14,11] = pulsar[15,11] = 1\n",
    "pulsar[7,13] = pulsar[8,13] = pulsar[9,13] = pulsar[13,13] = pulsar[14,13] = pulsar[15,13] = 1\n",
    "pulsar[7,18] = pulsar[8,18] = pulsar[9,18] = pulsar[13,18] = pulsar[14,18] = pulsar[15,18] = 1\n",
    "pulsar[5,8] = pulsar[5,9] = pulsar[5,10] = pulsar[5,14] = pulsar[5,15] = pulsar[5,16] = 1\n",
    "pulsar[10,8] = pulsar[10,9] = pulsar[10,10] = pulsar[10,14] = pulsar[10,15] = pulsar[10,16] = 1\n",
    "pulsar[12,8] = pulsar[12,9] = pulsar[12,10] = pulsar[12,14] = pulsar[12,15] = pulsar[12,16] = 1\n",
    "pulsar[17,8] = pulsar[17,9] = pulsar[17,10] = pulsar[17,14] = pulsar[17,15] = pulsar[17,16] = 1"
   ]
  },
  {
   "cell_type": "code",
   "execution_count": 4,
   "id": "63911115",
   "metadata": {},
   "outputs": [],
   "source": [
    "# Creates a 32x32 field to play Life on and populates it with a random pattern\n",
    "random = np.random.randint(0,2,(32,32))"
   ]
  },
  {
   "cell_type": "code",
   "execution_count": 5,
   "id": "7df7c57f",
   "metadata": {},
   "outputs": [
    {
     "name": "stdout",
     "output_type": "stream",
     "text": [
      "successfully loaded models\n"
     ]
    }
   ],
   "source": [
    "mynet = MinNet(2)\n",
    "\n",
    "ethan = torch.load(f'./models/ethan_m8_n2_checkpoint1500.pt')\n",
    "ethan.to('cpu')\n",
    "\n",
    "irene = torch.load(f'./models/irene_m8_n2_checkpoint1500.pt')\n",
    "irene.to('cpu')\n",
    "\n",
    "jeff = torch.load(f'./models/jeff_m8_n2_checkpoint1500.pt')\n",
    "jeff.to('cpu')\n",
    "\n",
    "karol = torch.load(f'./models/karol_m8_n2_checkpoint1500.pt')\n",
    "karol.to('cpu')\n",
    "\n",
    "print('successfully loaded models')"
   ]
  },
  {
   "cell_type": "code",
   "execution_count": 12,
   "id": "f7f0dc4a",
   "metadata": {},
   "outputs": [],
   "source": [
    "init_state = random"
   ]
  },
  {
   "cell_type": "code",
   "execution_count": 13,
   "id": "b5977b58",
   "metadata": {},
   "outputs": [
    {
     "data": {
      "application/vnd.jupyter.widget-view+json": {
       "model_id": "3b2e9f2904da46febfc4ba5637be1a6c",
       "version_major": 2,
       "version_minor": 0
      },
      "text/plain": [
       "MultiCanvas(height=512, width=512)"
      ]
     },
     "metadata": {},
     "output_type": "display_data"
    },
    {
     "data": {
      "application/vnd.jupyter.widget-view+json": {
       "model_id": "846d96523e4a4f56876e28378d9fc910",
       "version_major": 2,
       "version_minor": 0
      },
      "text/plain": [
       "GridspecLayout(children=(Button(description='Reset', layout=Layout(grid_area='widget001'), style=ButtonStyle()…"
      ]
     },
     "metadata": {},
     "output_type": "display_data"
    },
    {
     "data": {
      "application/vnd.jupyter.widget-view+json": {
       "model_id": "f8e3063c0fb44b96b06e2f09bb3a29fc",
       "version_major": 2,
       "version_minor": 0
      },
      "text/plain": [
       "Output()"
      ]
     },
     "metadata": {},
     "output_type": "display_data"
    }
   ],
   "source": [
    "inspector = GOLCNNInspector(mynet, init_state)"
   ]
  },
  {
   "cell_type": "code",
   "execution_count": 14,
   "id": "e7268984",
   "metadata": {},
   "outputs": [
    {
     "data": {
      "application/vnd.jupyter.widget-view+json": {
       "model_id": "4e8e111441824492bb38b8c44df0f1b0",
       "version_major": 2,
       "version_minor": 0
      },
      "text/plain": [
       "MultiCanvas(height=512, width=512)"
      ]
     },
     "metadata": {},
     "output_type": "display_data"
    },
    {
     "data": {
      "application/vnd.jupyter.widget-view+json": {
       "model_id": "32b3960cfc3a464b8f92c2ca7c304e07",
       "version_major": 2,
       "version_minor": 0
      },
      "text/plain": [
       "GridspecLayout(children=(Button(description='Reset', layout=Layout(grid_area='widget001'), style=ButtonStyle()…"
      ]
     },
     "metadata": {},
     "output_type": "display_data"
    },
    {
     "data": {
      "application/vnd.jupyter.widget-view+json": {
       "model_id": "46128d7438c84f9abc4737ebca937b70",
       "version_major": 2,
       "version_minor": 0
      },
      "text/plain": [
       "Output()"
      ]
     },
     "metadata": {},
     "output_type": "display_data"
    }
   ],
   "source": [
    "inspector2 = GOLCNNInspector(ethan, init_state)"
   ]
  },
  {
   "cell_type": "code",
   "execution_count": 15,
   "id": "b2cad6f2",
   "metadata": {},
   "outputs": [
    {
     "data": {
      "application/vnd.jupyter.widget-view+json": {
       "model_id": "d3a9f1013f114c1489d459c5cf521328",
       "version_major": 2,
       "version_minor": 0
      },
      "text/plain": [
       "MultiCanvas(height=512, width=512)"
      ]
     },
     "metadata": {},
     "output_type": "display_data"
    },
    {
     "data": {
      "application/vnd.jupyter.widget-view+json": {
       "model_id": "8f84b4fea21e42d9ae5c0aecbd37460b",
       "version_major": 2,
       "version_minor": 0
      },
      "text/plain": [
       "GridspecLayout(children=(Button(description='Reset', layout=Layout(grid_area='widget001'), style=ButtonStyle()…"
      ]
     },
     "metadata": {},
     "output_type": "display_data"
    },
    {
     "data": {
      "application/vnd.jupyter.widget-view+json": {
       "model_id": "bc899229e60846d88f42e1fb682905a9",
       "version_major": 2,
       "version_minor": 0
      },
      "text/plain": [
       "Output()"
      ]
     },
     "metadata": {},
     "output_type": "display_data"
    }
   ],
   "source": [
    "inspector3 = GOLCNNInspector(irene, init_state)"
   ]
  },
  {
   "cell_type": "code",
   "execution_count": 16,
   "id": "65938927",
   "metadata": {},
   "outputs": [
    {
     "data": {
      "application/vnd.jupyter.widget-view+json": {
       "model_id": "4757385a8f89496883844f2c697757e9",
       "version_major": 2,
       "version_minor": 0
      },
      "text/plain": [
       "MultiCanvas(height=512, width=512)"
      ]
     },
     "metadata": {},
     "output_type": "display_data"
    },
    {
     "data": {
      "application/vnd.jupyter.widget-view+json": {
       "model_id": "99795592d49e423bbdd899b33c8cb82e",
       "version_major": 2,
       "version_minor": 0
      },
      "text/plain": [
       "GridspecLayout(children=(Button(description='Reset', layout=Layout(grid_area='widget001'), style=ButtonStyle()…"
      ]
     },
     "metadata": {},
     "output_type": "display_data"
    },
    {
     "data": {
      "application/vnd.jupyter.widget-view+json": {
       "model_id": "719202a4bbc64a57ba75956e19491495",
       "version_major": 2,
       "version_minor": 0
      },
      "text/plain": [
       "Output()"
      ]
     },
     "metadata": {},
     "output_type": "display_data"
    }
   ],
   "source": [
    "inspector4 = GOLCNNInspector(jeff, init_state)"
   ]
  },
  {
   "cell_type": "code",
   "execution_count": 17,
   "id": "da623447",
   "metadata": {},
   "outputs": [
    {
     "data": {
      "application/vnd.jupyter.widget-view+json": {
       "model_id": "07bc4806b77c4ef9958ed5f4d0b15aa9",
       "version_major": 2,
       "version_minor": 0
      },
      "text/plain": [
       "MultiCanvas(height=512, width=512)"
      ]
     },
     "metadata": {},
     "output_type": "display_data"
    },
    {
     "data": {
      "application/vnd.jupyter.widget-view+json": {
       "model_id": "ec53150e0deb484f8db2f642c12f75e4",
       "version_major": 2,
       "version_minor": 0
      },
      "text/plain": [
       "GridspecLayout(children=(Button(description='Reset', layout=Layout(grid_area='widget001'), style=ButtonStyle()…"
      ]
     },
     "metadata": {},
     "output_type": "display_data"
    },
    {
     "data": {
      "application/vnd.jupyter.widget-view+json": {
       "model_id": "2fe727eba43844cfb2c638b7fa8e68f0",
       "version_major": 2,
       "version_minor": 0
      },
      "text/plain": [
       "Output()"
      ]
     },
     "metadata": {},
     "output_type": "display_data"
    }
   ],
   "source": [
    "inspector5 = GOLCNNInspector(karol, init_state)"
   ]
  },
  {
   "cell_type": "code",
   "execution_count": null,
   "id": "a55d98aa-7689-46ea-8c91-379cddce9b8b",
   "metadata": {},
   "outputs": [],
   "source": []
  }
 ],
 "metadata": {
  "kernelspec": {
   "display_name": "gol_venv",
   "language": "python",
   "name": "gol_venv"
  },
  "language_info": {
   "codemirror_mode": {
    "name": "ipython",
    "version": 3
   },
   "file_extension": ".py",
   "mimetype": "text/x-python",
   "name": "python",
   "nbconvert_exporter": "python",
   "pygments_lexer": "ipython3",
   "version": "3.9.16"
  }
 },
 "nbformat": 4,
 "nbformat_minor": 5
}
