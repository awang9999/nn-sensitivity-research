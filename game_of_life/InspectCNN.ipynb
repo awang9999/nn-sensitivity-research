{
 "cells": [
  {
   "cell_type": "code",
   "execution_count": 1,
   "id": "de04823a",
   "metadata": {},
   "outputs": [],
   "source": [
    "import numpy as np\n",
    "import torch\n",
    "\n",
    "from GOLCNNInspector import GOLCNNInspector\n",
    "from MinimalSolution import MinNet\n",
    "from GOLCNN import OPNet"
   ]
  },
  {
   "cell_type": "code",
   "execution_count": 2,
   "id": "3b8508ad",
   "metadata": {},
   "outputs": [],
   "source": [
    "# Creates a 32x32 field to play Life on and populates it with a glider pattern\n",
    "glider = np.zeros((32,32))\n",
    "glider[1,3]=1\n",
    "glider[2,3]=1\n",
    "glider[3,3]=1\n",
    "glider[3,2]=1\n",
    "glider[2,1]=1"
   ]
  },
  {
   "cell_type": "code",
   "execution_count": 3,
   "id": "abf13838",
   "metadata": {},
   "outputs": [],
   "source": [
    "# Creates a 32x32 field to play Life on and populates it with a pulsar pattern\n",
    "pulsar = np.zeros((32,32))\n",
    "pulsar[7,6] = pulsar[8,6] = pulsar[9,6] = pulsar[13,6] = pulsar[14,6] = pulsar[15,6] = 1\n",
    "pulsar[7,11] = pulsar[8,11] = pulsar[9,11] = pulsar[13,11] = pulsar[14,11] = pulsar[15,11] = 1\n",
    "pulsar[7,13] = pulsar[8,13] = pulsar[9,13] = pulsar[13,13] = pulsar[14,13] = pulsar[15,13] = 1\n",
    "pulsar[7,18] = pulsar[8,18] = pulsar[9,18] = pulsar[13,18] = pulsar[14,18] = pulsar[15,18] = 1\n",
    "pulsar[5,8] = pulsar[5,9] = pulsar[5,10] = pulsar[5,14] = pulsar[5,15] = pulsar[5,16] = 1\n",
    "pulsar[10,8] = pulsar[10,9] = pulsar[10,10] = pulsar[10,14] = pulsar[10,15] = pulsar[10,16] = 1\n",
    "pulsar[12,8] = pulsar[12,9] = pulsar[12,10] = pulsar[12,14] = pulsar[12,15] = pulsar[12,16] = 1\n",
    "pulsar[17,8] = pulsar[17,9] = pulsar[17,10] = pulsar[17,14] = pulsar[17,15] = pulsar[17,16] = 1"
   ]
  },
  {
   "cell_type": "code",
   "execution_count": 4,
   "id": "63911115",
   "metadata": {},
   "outputs": [],
   "source": [
    "# Creates a 32x32 field to play Life on and populates it with a random pattern\n",
    "random = np.random.randint(0,2,(32,32))"
   ]
  },
  {
   "cell_type": "code",
   "execution_count": 5,
   "id": "7df7c57f",
   "metadata": {},
   "outputs": [
    {
     "name": "stdout",
     "output_type": "stream",
     "text": [
      "successfully loaded models\n"
     ]
    }
   ],
   "source": [
    "mynet = MinNet(2)\n",
    "testnet = torch.load(f'./models/op_m16_n2_model1.pt')\n",
    "testnet.to('cpu')\n",
    "\n",
    "# Neither amber or brian converged. The checkpoint stats for both are 1000/1000 wrong\n",
    "amber = torch.load(f'./models/amber_m16_n2_checkpoint2000.pt')\n",
    "amber.to('cpu')\n",
    "brian = torch.load(f'./models/brian_m16_n2_checkpoint2000.pt')\n",
    "brian.to('cpu')\n",
    "\n",
    "# carl never converged. The checkpoint stats for carl are 202/1000 wrong.\n",
    "carl = torch.load(f'./models/carl_m16_n2_checkpoint1900.pt')\n",
    "carl.to('cpu')\n",
    "denise = torch.load(f'./models/denise_m16_n2_checkpoint1900.pt')\n",
    "denise.to('cpu')\n",
    "\n",
    "ethan = torch.load(f'./models/ethan_m8_n2_checkpoint1500.pt')\n",
    "ethan.to('cpu')\n",
    "fred = torch.load(f'./models/fred_m8_n2_checkpoint1500.pt')\n",
    "fred.to('cpu')\n",
    "\n",
    "greg = torch.load(f'./models/greg_m8_n2_checkpoint1500.pt')\n",
    "greg.to('cpu')\n",
    "harold = torch.load(f'./models/harold_m8_n2_checkpoint1500.pt')\n",
    "harold.to('cpu')\n",
    "\n",
    "print('successfully loaded models')"
   ]
  },
  {
   "cell_type": "code",
   "execution_count": 6,
   "id": "f7f0dc4a",
   "metadata": {},
   "outputs": [],
   "source": [
    "init_state = random"
   ]
  },
  {
   "cell_type": "code",
   "execution_count": 7,
   "id": "b5977b58",
   "metadata": {},
   "outputs": [
    {
     "data": {
      "application/vnd.jupyter.widget-view+json": {
       "model_id": "f9563e6c572042f88c34b9062864e7b7",
       "version_major": 2,
       "version_minor": 0
      },
      "text/plain": [
       "MultiCanvas(height=512, width=512)"
      ]
     },
     "metadata": {},
     "output_type": "display_data"
    },
    {
     "data": {
      "application/vnd.jupyter.widget-view+json": {
       "model_id": "f2af25f72854400895fb41bfd16a5bea",
       "version_major": 2,
       "version_minor": 0
      },
      "text/plain": [
       "GridspecLayout(children=(Button(description='Reset', layout=Layout(grid_area='widget001'), style=ButtonStyle()…"
      ]
     },
     "metadata": {},
     "output_type": "display_data"
    },
    {
     "data": {
      "application/vnd.jupyter.widget-view+json": {
       "model_id": "168974e7cb6a4f66b699cbab57e1ddb5",
       "version_major": 2,
       "version_minor": 0
      },
      "text/plain": [
       "Output()"
      ]
     },
     "metadata": {},
     "output_type": "display_data"
    }
   ],
   "source": [
    "inspector = GOLCNNInspector(mynet, init_state)"
   ]
  },
  {
   "cell_type": "code",
   "execution_count": 8,
   "id": "e7268984",
   "metadata": {},
   "outputs": [
    {
     "data": {
      "application/vnd.jupyter.widget-view+json": {
       "model_id": "980889b69cf54628b12c8cd5391e4014",
       "version_major": 2,
       "version_minor": 0
      },
      "text/plain": [
       "MultiCanvas(height=512, width=512)"
      ]
     },
     "metadata": {},
     "output_type": "display_data"
    },
    {
     "data": {
      "application/vnd.jupyter.widget-view+json": {
       "model_id": "ceac71e578ca427e80b89bb7585a185f",
       "version_major": 2,
       "version_minor": 0
      },
      "text/plain": [
       "GridspecLayout(children=(Button(description='Reset', layout=Layout(grid_area='widget001'), style=ButtonStyle()…"
      ]
     },
     "metadata": {},
     "output_type": "display_data"
    },
    {
     "data": {
      "application/vnd.jupyter.widget-view+json": {
       "model_id": "fa8ef3e58be64553b5d05999e6f705d5",
       "version_major": 2,
       "version_minor": 0
      },
      "text/plain": [
       "Output()"
      ]
     },
     "metadata": {},
     "output_type": "display_data"
    }
   ],
   "source": [
    "inspector2 = GOLCNNInspector(testnet, init_state)"
   ]
  },
  {
   "cell_type": "code",
   "execution_count": 9,
   "id": "b2cad6f2",
   "metadata": {},
   "outputs": [
    {
     "data": {
      "application/vnd.jupyter.widget-view+json": {
       "model_id": "c91a941adaa040988cbd9ce0919bf753",
       "version_major": 2,
       "version_minor": 0
      },
      "text/plain": [
       "MultiCanvas(height=512, width=512)"
      ]
     },
     "metadata": {},
     "output_type": "display_data"
    },
    {
     "data": {
      "application/vnd.jupyter.widget-view+json": {
       "model_id": "406f6fe50db64689ad971d543601707d",
       "version_major": 2,
       "version_minor": 0
      },
      "text/plain": [
       "GridspecLayout(children=(Button(description='Reset', layout=Layout(grid_area='widget001'), style=ButtonStyle()…"
      ]
     },
     "metadata": {},
     "output_type": "display_data"
    },
    {
     "data": {
      "application/vnd.jupyter.widget-view+json": {
       "model_id": "3cf711160e2348148c2ae47707db7234",
       "version_major": 2,
       "version_minor": 0
      },
      "text/plain": [
       "Output()"
      ]
     },
     "metadata": {},
     "output_type": "display_data"
    }
   ],
   "source": [
    "inspector3 = GOLCNNInspector(carl, init_state)"
   ]
  },
  {
   "cell_type": "code",
   "execution_count": 15,
   "id": "65938927",
   "metadata": {},
   "outputs": [
    {
     "data": {
      "application/vnd.jupyter.widget-view+json": {
       "model_id": "4e2f4fd001c94208baa4212e0f2fd89b",
       "version_major": 2,
       "version_minor": 0
      },
      "text/plain": [
       "MultiCanvas(height=512, width=512)"
      ]
     },
     "metadata": {},
     "output_type": "display_data"
    },
    {
     "data": {
      "application/vnd.jupyter.widget-view+json": {
       "model_id": "ebccf64a19234d90aed366df196d78a5",
       "version_major": 2,
       "version_minor": 0
      },
      "text/plain": [
       "GridspecLayout(children=(Button(description='Reset', layout=Layout(grid_area='widget001'), style=ButtonStyle()…"
      ]
     },
     "metadata": {},
     "output_type": "display_data"
    },
    {
     "data": {
      "application/vnd.jupyter.widget-view+json": {
       "model_id": "f3f59859c4334b0a989f19068c9dfb50",
       "version_major": 2,
       "version_minor": 0
      },
      "text/plain": [
       "Output()"
      ]
     },
     "metadata": {},
     "output_type": "display_data"
    }
   ],
   "source": [
    "inspector4 = GOLCNNInspector(denise, init_state)"
   ]
  },
  {
   "cell_type": "code",
   "execution_count": 11,
   "id": "da623447",
   "metadata": {},
   "outputs": [
    {
     "data": {
      "application/vnd.jupyter.widget-view+json": {
       "model_id": "563c853f938e489d909590fd4f16ea7b",
       "version_major": 2,
       "version_minor": 0
      },
      "text/plain": [
       "MultiCanvas(height=512, width=512)"
      ]
     },
     "metadata": {},
     "output_type": "display_data"
    },
    {
     "data": {
      "application/vnd.jupyter.widget-view+json": {
       "model_id": "3aa25058aefe44d5861aab901bc03974",
       "version_major": 2,
       "version_minor": 0
      },
      "text/plain": [
       "GridspecLayout(children=(Button(description='Reset', layout=Layout(grid_area='widget001'), style=ButtonStyle()…"
      ]
     },
     "metadata": {},
     "output_type": "display_data"
    },
    {
     "data": {
      "application/vnd.jupyter.widget-view+json": {
       "model_id": "9ce50934cdad4aee807bf84a7455b07a",
       "version_major": 2,
       "version_minor": 0
      },
      "text/plain": [
       "Output()"
      ]
     },
     "metadata": {},
     "output_type": "display_data"
    }
   ],
   "source": [
    "inspector5 = GOLCNNInspector(ethan, init_state)"
   ]
  },
  {
   "cell_type": "code",
   "execution_count": 12,
   "id": "88f5fa92",
   "metadata": {},
   "outputs": [
    {
     "data": {
      "application/vnd.jupyter.widget-view+json": {
       "model_id": "b6732d8b3f264861be619e96c3950426",
       "version_major": 2,
       "version_minor": 0
      },
      "text/plain": [
       "MultiCanvas(height=512, width=512)"
      ]
     },
     "metadata": {},
     "output_type": "display_data"
    },
    {
     "data": {
      "application/vnd.jupyter.widget-view+json": {
       "model_id": "e5b3ed62dbdb4524a7c4c282cfdc6053",
       "version_major": 2,
       "version_minor": 0
      },
      "text/plain": [
       "GridspecLayout(children=(Button(description='Reset', layout=Layout(grid_area='widget001'), style=ButtonStyle()…"
      ]
     },
     "metadata": {},
     "output_type": "display_data"
    },
    {
     "data": {
      "application/vnd.jupyter.widget-view+json": {
       "model_id": "d1554279040040f69e4066e71dd9416c",
       "version_major": 2,
       "version_minor": 0
      },
      "text/plain": [
       "Output()"
      ]
     },
     "metadata": {},
     "output_type": "display_data"
    }
   ],
   "source": [
    "inspector6 = GOLCNNInspector(fred, init_state)"
   ]
  },
  {
   "cell_type": "code",
   "execution_count": 16,
   "id": "24f3c793",
   "metadata": {},
   "outputs": [
    {
     "data": {
      "application/vnd.jupyter.widget-view+json": {
       "model_id": "008eafc2ad6547df9955078bcdaeb71a",
       "version_major": 2,
       "version_minor": 0
      },
      "text/plain": [
       "MultiCanvas(height=512, width=512)"
      ]
     },
     "metadata": {},
     "output_type": "display_data"
    },
    {
     "data": {
      "application/vnd.jupyter.widget-view+json": {
       "model_id": "2074e1912fef4ce5917d864a16024553",
       "version_major": 2,
       "version_minor": 0
      },
      "text/plain": [
       "GridspecLayout(children=(Button(description='Reset', layout=Layout(grid_area='widget001'), style=ButtonStyle()…"
      ]
     },
     "metadata": {},
     "output_type": "display_data"
    },
    {
     "data": {
      "application/vnd.jupyter.widget-view+json": {
       "model_id": "65438f6d9bb041b8ba4b797f13d7ceba",
       "version_major": 2,
       "version_minor": 0
      },
      "text/plain": [
       "Output()"
      ]
     },
     "metadata": {},
     "output_type": "display_data"
    }
   ],
   "source": [
    "inspector7 = GOLCNNInspector(greg, glider)"
   ]
  },
  {
   "cell_type": "code",
   "execution_count": 14,
   "id": "e702f384",
   "metadata": {},
   "outputs": [
    {
     "data": {
      "application/vnd.jupyter.widget-view+json": {
       "model_id": "ebcb0c74086b4be5bbe89d3476bab0b5",
       "version_major": 2,
       "version_minor": 0
      },
      "text/plain": [
       "MultiCanvas(height=512, width=512)"
      ]
     },
     "metadata": {},
     "output_type": "display_data"
    },
    {
     "data": {
      "application/vnd.jupyter.widget-view+json": {
       "model_id": "908c9c2720484f58aeb5580ae8237ea4",
       "version_major": 2,
       "version_minor": 0
      },
      "text/plain": [
       "GridspecLayout(children=(Button(description='Reset', layout=Layout(grid_area='widget001'), style=ButtonStyle()…"
      ]
     },
     "metadata": {},
     "output_type": "display_data"
    },
    {
     "data": {
      "application/vnd.jupyter.widget-view+json": {
       "model_id": "483230ea277847dfa5b44729bb4b698c",
       "version_major": 2,
       "version_minor": 0
      },
      "text/plain": [
       "Output()"
      ]
     },
     "metadata": {},
     "output_type": "display_data"
    }
   ],
   "source": [
    "inspector8 = GOLCNNInspector(harold, init_state)"
   ]
  },
  {
   "cell_type": "code",
   "execution_count": null,
   "id": "511cacfc",
   "metadata": {},
   "outputs": [],
   "source": []
  }
 ],
 "metadata": {
  "kernelspec": {
   "display_name": "Python 3 (ipykernel)",
   "language": "python",
   "name": "python3"
  },
  "language_info": {
   "codemirror_mode": {
    "name": "ipython",
    "version": 3
   },
   "file_extension": ".py",
   "mimetype": "text/x-python",
   "name": "python",
   "nbconvert_exporter": "python",
   "pygments_lexer": "ipython3",
   "version": "3.8.16"
  }
 },
 "nbformat": 4,
 "nbformat_minor": 5
}
