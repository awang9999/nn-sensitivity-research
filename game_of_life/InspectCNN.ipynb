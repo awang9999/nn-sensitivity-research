{
 "cells": [
  {
   "cell_type": "code",
   "execution_count": 1,
   "id": "de04823a",
   "metadata": {},
   "outputs": [],
   "source": [
    "import numpy as np\n",
    "import torch\n",
    "\n",
    "from GOLCNNInspector import GOLCNNInspector\n",
    "from MinimalSolution import MinNet\n",
    "from GOLCNN import OPNet"
   ]
  },
  {
   "cell_type": "code",
   "execution_count": 2,
   "id": "3b8508ad",
   "metadata": {},
   "outputs": [],
   "source": [
    "# Creates a 32x32 field to play Life on and populates it with a glider pattern\n",
    "glider = np.zeros((32,32))\n",
    "glider[1,3]=1\n",
    "glider[2,3]=1\n",
    "glider[3,3]=1\n",
    "glider[3,2]=1\n",
    "glider[2,1]=1"
   ]
  },
  {
   "cell_type": "code",
   "execution_count": 3,
   "id": "abf13838",
   "metadata": {},
   "outputs": [],
   "source": [
    "# Creates a 32x32 field to play Life on and populates it with a pulsar pattern\n",
    "pulsar = np.zeros((32,32))\n",
    "pulsar[7,6] = pulsar[8,6] = pulsar[9,6] = pulsar[13,6] = pulsar[14,6] = pulsar[15,6] = 1\n",
    "pulsar[7,11] = pulsar[8,11] = pulsar[9,11] = pulsar[13,11] = pulsar[14,11] = pulsar[15,11] = 1\n",
    "pulsar[7,13] = pulsar[8,13] = pulsar[9,13] = pulsar[13,13] = pulsar[14,13] = pulsar[15,13] = 1\n",
    "pulsar[7,18] = pulsar[8,18] = pulsar[9,18] = pulsar[13,18] = pulsar[14,18] = pulsar[15,18] = 1\n",
    "pulsar[5,8] = pulsar[5,9] = pulsar[5,10] = pulsar[5,14] = pulsar[5,15] = pulsar[5,16] = 1\n",
    "pulsar[10,8] = pulsar[10,9] = pulsar[10,10] = pulsar[10,14] = pulsar[10,15] = pulsar[10,16] = 1\n",
    "pulsar[12,8] = pulsar[12,9] = pulsar[12,10] = pulsar[12,14] = pulsar[12,15] = pulsar[12,16] = 1\n",
    "pulsar[17,8] = pulsar[17,9] = pulsar[17,10] = pulsar[17,14] = pulsar[17,15] = pulsar[17,16] = 1"
   ]
  },
  {
   "cell_type": "code",
   "execution_count": 4,
   "id": "63911115",
   "metadata": {},
   "outputs": [],
   "source": [
    "# Creates a 32x32 field to play Life on and populates it with a random pattern\n",
    "random = np.random.randint(0,2,(32,32))"
   ]
  },
  {
   "cell_type": "code",
   "execution_count": 5,
   "id": "7df7c57f",
   "metadata": {},
   "outputs": [
    {
     "name": "stdout",
     "output_type": "stream",
     "text": [
      "successfully loaded models\n"
     ]
    }
   ],
   "source": [
    "mynet = MinNet(2)\n",
    "testnet = torch.load(f'./models/op_m16_n2_model1.pt')\n",
    "testnet.to('cpu')\n",
    "\n",
    "# carl never converged. The checkpoint stats for carl are 202/1000 wrong.\n",
    "carl = torch.load(f'./models/carl_m16_n2_checkpoint1900.pt')\n",
    "carl.to('cpu')\n",
    "denise = torch.load(f'./models/denise_m16_n2_checkpoint1900.pt')\n",
    "denise.to('cpu')\n",
    "\n",
    "ethan = torch.load(f'./models/ethan_m8_n2_checkpoint1500.pt')\n",
    "ethan.to('cpu')\n",
    "fred = torch.load(f'./models/fred_m8_n2_checkpoint1500.pt')\n",
    "fred.to('cpu')\n",
    "\n",
    "print('successfully loaded models')"
   ]
  },
  {
   "cell_type": "code",
   "execution_count": 6,
   "id": "b5977b58",
   "metadata": {},
   "outputs": [
    {
     "data": {
      "application/vnd.jupyter.widget-view+json": {
       "model_id": "99056663d3604ef0b728b495f346b36a",
       "version_major": 2,
       "version_minor": 0
      },
      "text/plain": [
       "MultiCanvas(height=512, width=512)"
      ]
     },
     "metadata": {},
     "output_type": "display_data"
    },
    {
     "data": {
      "application/vnd.jupyter.widget-view+json": {
       "model_id": "32c123f311dd4643b1db9b94f6dae4ed",
       "version_major": 2,
       "version_minor": 0
      },
      "text/plain": [
       "GridspecLayout(children=(Button(description='Reset', layout=Layout(grid_area='widget001'), style=ButtonStyle()…"
      ]
     },
     "metadata": {},
     "output_type": "display_data"
    },
    {
     "data": {
      "application/vnd.jupyter.widget-view+json": {
       "model_id": "bc6e4c130079468c9cd8f14921dd64e1",
       "version_major": 2,
       "version_minor": 0
      },
      "text/plain": [
       "Output()"
      ]
     },
     "metadata": {},
     "output_type": "display_data"
    }
   ],
   "source": [
    "inspector = GOLCNNInspector(mynet, glider)"
   ]
  },
  {
   "cell_type": "code",
   "execution_count": 7,
   "id": "e7268984",
   "metadata": {},
   "outputs": [
    {
     "data": {
      "application/vnd.jupyter.widget-view+json": {
       "model_id": "1a4f8d9bafd04abb97cd36d3891764ca",
       "version_major": 2,
       "version_minor": 0
      },
      "text/plain": [
       "MultiCanvas(height=512, width=512)"
      ]
     },
     "metadata": {},
     "output_type": "display_data"
    },
    {
     "data": {
      "application/vnd.jupyter.widget-view+json": {
       "model_id": "fc5b132c980d4a72b90011df862c608c",
       "version_major": 2,
       "version_minor": 0
      },
      "text/plain": [
       "GridspecLayout(children=(Button(description='Reset', layout=Layout(grid_area='widget001'), style=ButtonStyle()…"
      ]
     },
     "metadata": {},
     "output_type": "display_data"
    },
    {
     "data": {
      "application/vnd.jupyter.widget-view+json": {
       "model_id": "85713a34f9b94e8db3176b640642f6a0",
       "version_major": 2,
       "version_minor": 0
      },
      "text/plain": [
       "Output()"
      ]
     },
     "metadata": {},
     "output_type": "display_data"
    }
   ],
   "source": [
    "inspector2 = GOLCNNInspector(testnet, glider)"
   ]
  },
  {
   "cell_type": "code",
   "execution_count": 8,
   "id": "b2cad6f2",
   "metadata": {},
   "outputs": [
    {
     "data": {
      "application/vnd.jupyter.widget-view+json": {
       "model_id": "caf24b29426d4329a0e0d2041e375893",
       "version_major": 2,
       "version_minor": 0
      },
      "text/plain": [
       "MultiCanvas(height=512, width=512)"
      ]
     },
     "metadata": {},
     "output_type": "display_data"
    },
    {
     "data": {
      "application/vnd.jupyter.widget-view+json": {
       "model_id": "c7bb3377b27d4281aa19af191b83c14a",
       "version_major": 2,
       "version_minor": 0
      },
      "text/plain": [
       "GridspecLayout(children=(Button(description='Reset', layout=Layout(grid_area='widget001'), style=ButtonStyle()…"
      ]
     },
     "metadata": {},
     "output_type": "display_data"
    },
    {
     "data": {
      "application/vnd.jupyter.widget-view+json": {
       "model_id": "e8f16108b4974337986c15a8c39a221d",
       "version_major": 2,
       "version_minor": 0
      },
      "text/plain": [
       "Output()"
      ]
     },
     "metadata": {},
     "output_type": "display_data"
    }
   ],
   "source": [
    "inspector3 = GOLCNNInspector(carl, glider)"
   ]
  },
  {
   "cell_type": "code",
   "execution_count": 9,
   "id": "65938927",
   "metadata": {},
   "outputs": [
    {
     "data": {
      "application/vnd.jupyter.widget-view+json": {
       "model_id": "e3842552ee554c91ab3b48282905bf2c",
       "version_major": 2,
       "version_minor": 0
      },
      "text/plain": [
       "MultiCanvas(height=512, width=512)"
      ]
     },
     "metadata": {},
     "output_type": "display_data"
    },
    {
     "data": {
      "application/vnd.jupyter.widget-view+json": {
       "model_id": "84eb29da1a8647f7b4ecf543c0a44d4f",
       "version_major": 2,
       "version_minor": 0
      },
      "text/plain": [
       "GridspecLayout(children=(Button(description='Reset', layout=Layout(grid_area='widget001'), style=ButtonStyle()…"
      ]
     },
     "metadata": {},
     "output_type": "display_data"
    },
    {
     "data": {
      "application/vnd.jupyter.widget-view+json": {
       "model_id": "2f4cfd1446e64a1dbdd0bd97da646336",
       "version_major": 2,
       "version_minor": 0
      },
      "text/plain": [
       "Output()"
      ]
     },
     "metadata": {},
     "output_type": "display_data"
    }
   ],
   "source": [
    "inspector4 = GOLCNNInspector(denise, glider)"
   ]
  },
  {
   "cell_type": "code",
   "execution_count": 10,
   "id": "da623447",
   "metadata": {},
   "outputs": [
    {
     "data": {
      "application/vnd.jupyter.widget-view+json": {
       "model_id": "bbf713c3af2f4e979e3f1aaf047adacb",
       "version_major": 2,
       "version_minor": 0
      },
      "text/plain": [
       "MultiCanvas(height=512, width=512)"
      ]
     },
     "metadata": {},
     "output_type": "display_data"
    },
    {
     "data": {
      "application/vnd.jupyter.widget-view+json": {
       "model_id": "66ad9d8abbde41909520a8a9789dd916",
       "version_major": 2,
       "version_minor": 0
      },
      "text/plain": [
       "GridspecLayout(children=(Button(description='Reset', layout=Layout(grid_area='widget001'), style=ButtonStyle()…"
      ]
     },
     "metadata": {},
     "output_type": "display_data"
    },
    {
     "data": {
      "application/vnd.jupyter.widget-view+json": {
       "model_id": "ae0060113fa54ed0b67343ea8aa12a29",
       "version_major": 2,
       "version_minor": 0
      },
      "text/plain": [
       "Output()"
      ]
     },
     "metadata": {},
     "output_type": "display_data"
    }
   ],
   "source": [
    "inspector5 = GOLCNNInspector(ethan, glider)"
   ]
  },
  {
   "cell_type": "code",
   "execution_count": 11,
   "id": "88f5fa92",
   "metadata": {},
   "outputs": [
    {
     "data": {
      "application/vnd.jupyter.widget-view+json": {
       "model_id": "7491e1d23685436282edcaa61ead711e",
       "version_major": 2,
       "version_minor": 0
      },
      "text/plain": [
       "MultiCanvas(height=512, width=512)"
      ]
     },
     "metadata": {},
     "output_type": "display_data"
    },
    {
     "data": {
      "application/vnd.jupyter.widget-view+json": {
       "model_id": "00c7a4b74aec4dc79cfe87b53eaa1336",
       "version_major": 2,
       "version_minor": 0
      },
      "text/plain": [
       "GridspecLayout(children=(Button(description='Reset', layout=Layout(grid_area='widget001'), style=ButtonStyle()…"
      ]
     },
     "metadata": {},
     "output_type": "display_data"
    },
    {
     "data": {
      "application/vnd.jupyter.widget-view+json": {
       "model_id": "25ab2acf9cbf4e65af12823b18fa1058",
       "version_major": 2,
       "version_minor": 0
      },
      "text/plain": [
       "Output()"
      ]
     },
     "metadata": {},
     "output_type": "display_data"
    }
   ],
   "source": [
    "inspector6 = GOLCNNInspector(fred, glider)"
   ]
  },
  {
   "cell_type": "code",
   "execution_count": null,
   "id": "24f3c793",
   "metadata": {},
   "outputs": [],
   "source": []
  }
 ],
 "metadata": {
  "kernelspec": {
   "display_name": "Python 3 (ipykernel)",
   "language": "python",
   "name": "python3"
  },
  "language_info": {
   "codemirror_mode": {
    "name": "ipython",
    "version": 3
   },
   "file_extension": ".py",
   "mimetype": "text/x-python",
   "name": "python",
   "nbconvert_exporter": "python",
   "pygments_lexer": "ipython3",
   "version": "3.8.16"
  }
 },
 "nbformat": 4,
 "nbformat_minor": 5
}
