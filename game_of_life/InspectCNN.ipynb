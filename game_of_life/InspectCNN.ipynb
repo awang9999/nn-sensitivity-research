{
 "cells": [
  {
   "cell_type": "code",
   "execution_count": 1,
   "id": "de04823a",
   "metadata": {},
   "outputs": [],
   "source": [
    "import numpy as np\n",
    "import time\n",
    "from ipycanvas import MultiCanvas, hold_canvas\n",
    "from ipywidgets import Button, GridspecLayout, Output, IntSlider\n",
    "\n",
    "import torch\n",
    "from torch import nn\n",
    "from MinimalSolution import MinNet"
   ]
  },
  {
   "cell_type": "code",
   "execution_count": 2,
   "id": "3b8508ad",
   "metadata": {},
   "outputs": [],
   "source": [
    "# Creates a 32x32 field to play Life on and populates it with a glider pattern\n",
    "glider = np.zeros((32,32))\n",
    "glider[1,3]=1\n",
    "glider[2,3]=1\n",
    "glider[3,3]=1\n",
    "glider[3,2]=1\n",
    "glider[2,1]=1"
   ]
  },
  {
   "cell_type": "code",
   "execution_count": 8,
   "id": "abf13838",
   "metadata": {},
   "outputs": [],
   "source": [
    "pulsar = np.zeros((32,32))\n",
    "pulsar[7,6] = pulsar[8,6] = pulsar[9,6] = pulsar[13,6] = pulsar[14,6] = pulsar[15,6] = 1\n",
    "pulsar[7,11] = pulsar[8,11] = pulsar[9,11] = pulsar[13,11] = pulsar[14,11] = pulsar[15,11] = 1\n",
    "pulsar[7,13] = pulsar[8,13] = pulsar[9,13] = pulsar[13,13] = pulsar[14,13] = pulsar[15,13] = 1\n",
    "pulsar[7,18] = pulsar[8,18] = pulsar[9,18] = pulsar[13,18] = pulsar[14,18] = pulsar[15,18] = 1\n",
    "pulsar[5,8] = pulsar[5,9] = pulsar[5,10] = pulsar[5,14] = pulsar[5,15] = pulsar[5,16] = 1\n",
    "pulsar[10,8] = pulsar[10,9] = pulsar[10,10] = pulsar[10,14] = pulsar[10,15] = pulsar[10,16] = 1\n",
    "pulsar[12,8] = pulsar[12,9] = pulsar[12,10] = pulsar[12,14] = pulsar[12,15] = pulsar[12,16] = 1\n",
    "pulsar[17,8] = pulsar[17,9] = pulsar[17,10] = pulsar[17,14] = pulsar[17,15] = pulsar[17,16] = 1"
   ]
  },
  {
   "cell_type": "code",
   "execution_count": 3,
   "id": "63911115",
   "metadata": {},
   "outputs": [],
   "source": [
    "random = np.random.randint(0,2,(32,32))"
   ]
  },
  {
   "cell_type": "code",
   "execution_count": 4,
   "id": "d13f9fc9",
   "metadata": {},
   "outputs": [],
   "source": [
    "class GOLCNNInspector:\n",
    "    def __init__(self, golcnn, init_state_param, c_width=512, c_height=512):\n",
    "                \n",
    "        self.init_state = init_state_param.copy()\n",
    "        self.game_state = init_state_param.copy()\n",
    "        self.field_width, self.field_height = np.shape(self.init_state)\n",
    "        \n",
    "        self.model = golcnn\n",
    "        \n",
    "        self.step_list = []\n",
    "        self.compute_step_list()\n",
    "        \n",
    "        # Set up debug output\n",
    "        self.out = Output()\n",
    "        \n",
    "        # Set up canvas\n",
    "        self.canvas_width = c_width\n",
    "        self.canvas_height = c_height\n",
    "        self.multicanvas = MultiCanvas(2, width=self.canvas_width, height=self.canvas_height)\n",
    "        \n",
    "        self.multicanvas[0].fill_style = '#eceff4'\n",
    "        self.multicanvas[0].fill_rect(0, 0, self.multicanvas.width, self.multicanvas.height)\n",
    "        \n",
    "        @self.out.capture()\n",
    "        def handle_mouse_up(x, y):\n",
    "            self.handle_mouse_event(x, y)\n",
    "\n",
    "        self.multicanvas.on_mouse_up(handle_mouse_up)\n",
    "    \n",
    "        def reset_button_on_click(b):\n",
    "            self.reset();\n",
    "            \n",
    "        def handle_slider_change(b):\n",
    "            v = self.intslider.value\n",
    "            self.change_and_render(v)\n",
    "        \n",
    "        self.reset_button = Button(\n",
    "            description='Reset',\n",
    "            disabled=False,\n",
    "            tooltip='Reset',\n",
    "        )\n",
    "        self.reset_button.on_click(reset_button_on_click)\n",
    "        \n",
    "        self.intslider = IntSlider(\n",
    "            value = 0,\n",
    "            min = 0,\n",
    "            max = self.model.num_steps,\n",
    "            step = 1,\n",
    "            description = 'Step:',\n",
    "            disabled=False,\n",
    "            continuous_update=False,\n",
    "            orientation='horizontal',\n",
    "            readout=True,\n",
    "            readout_format='d'\n",
    "        )\n",
    "        \n",
    "        self.intslider.observe(handle_slider_change, names='value')\n",
    "           \n",
    "        self.ui = GridspecLayout(1,2)\n",
    "        self.ui[0,0] = self.reset_button\n",
    "        self.ui[0,1] = self.intslider\n",
    "    \n",
    "        self.render()\n",
    "        \n",
    "        display(self.multicanvas)\n",
    "        display(self.ui)\n",
    "        display(self.out)\n",
    "    \n",
    "    def render(self):\n",
    "        with hold_canvas(self.multicanvas[1]):\n",
    "            self.multicanvas[1].clear()\n",
    "            self.multicanvas[1].fill_style = '#3b4252'\n",
    "        \n",
    "            m, n = np.shape(self.game_state)\n",
    "            pixheight = self.multicanvas[1].height\n",
    "            pixwidth = self.multicanvas[1].width\n",
    "            m_pixels = pixheight / m\n",
    "            n_pixels = pixwidth / n\n",
    "\n",
    "            r = 0\n",
    "            for row in self.game_state:\n",
    "                c = 0\n",
    "                for value in row:\n",
    "                    if value:\n",
    "                        self.multicanvas[1].fill_rect(r * m_pixels, c * n_pixels, m_pixels, n_pixels)\n",
    "                    c += 1\n",
    "                r += 1\n",
    "                \n",
    "    '''\n",
    "    n must be <= the number of steps the CNN simulates\n",
    "    '''\n",
    "    def change_and_render(self, n):\n",
    "        self.game_state = self.step_list[n]\n",
    "        self.render()\n",
    "    \n",
    "    def reset(self):\n",
    "        self.game_state = self.init_state.copy()\n",
    "        self.intslider.value = 0\n",
    "        self.render()\n",
    "            \n",
    "    def handle_mouse_event(self, x, y):\n",
    "        field_x = int(np.floor(x / ( self.canvas_width / self.field_width)))\n",
    "        field_y = int(np.floor(y / (self.canvas_height / self.field_height)))\n",
    "        self.game_state[field_x, field_y] = (not self.game_state[field_x, field_y])\n",
    "        self.compute_step_list()\n",
    "        self.render()\n",
    "        \n",
    "    def compute_step_list(self):\n",
    "        self.step_list = [self.game_state.copy()]\n",
    "        for i in range(1,self.model.num_steps+1):\n",
    "            \n",
    "            state_prep = np.array([[self.game_state.copy()]])\n",
    "            model_in = torch.from_numpy(state_prep).type(torch.float32)\n",
    "            model_in = model_in.repeat(1,self.model.overcompleteness_factor,1,1)\n",
    "            model_out = self.model.inspect_step(model_in, i)\n",
    "            \n",
    "            self.step_list.append(model_out[0][0].detach().numpy().round())"
   ]
  },
  {
   "cell_type": "code",
   "execution_count": 5,
   "id": "7df7c57f",
   "metadata": {},
   "outputs": [
    {
     "data": {
      "text/plain": [
       "OPNet(\n",
       "  (type1_layers): ModuleList(\n",
       "    (0): Conv2d(16, 32, kernel_size=(3, 3), stride=(1, 1), padding=(1, 1), padding_mode=circular)\n",
       "    (1): Conv2d(16, 32, kernel_size=(3, 3), stride=(1, 1), padding=(1, 1), padding_mode=circular)\n",
       "  )\n",
       "  (type2_layers): ModuleList(\n",
       "    (0): Conv2d(32, 16, kernel_size=(1, 1), stride=(1, 1))\n",
       "    (1): Conv2d(32, 16, kernel_size=(1, 1), stride=(1, 1))\n",
       "  )\n",
       "  (relu1): ReLU()\n",
       "  (relu2): ReLU()\n",
       "  (final_conv_layer): Conv2d(16, 1, kernel_size=(1, 1), stride=(1, 1))\n",
       "  (sigmoid3): Sigmoid()\n",
       ")"
      ]
     },
     "execution_count": 5,
     "metadata": {},
     "output_type": "execute_result"
    }
   ],
   "source": [
    "mynet = MinNet(2)\n",
    "\n",
    "testnet = torch.load(f'./models/op_m16_n2_model1.pt')\n",
    "testnet.to('cpu')"
   ]
  },
  {
   "cell_type": "code",
   "execution_count": 9,
   "id": "b5977b58",
   "metadata": {},
   "outputs": [
    {
     "data": {
      "application/vnd.jupyter.widget-view+json": {
       "model_id": "152a483f89964672a4bc0e55c5877ec0",
       "version_major": 2,
       "version_minor": 0
      },
      "text/plain": [
       "MultiCanvas(height=512, width=512)"
      ]
     },
     "metadata": {},
     "output_type": "display_data"
    },
    {
     "data": {
      "application/vnd.jupyter.widget-view+json": {
       "model_id": "497a13065a634ced8c04c3ce07ef5056",
       "version_major": 2,
       "version_minor": 0
      },
      "text/plain": [
       "GridspecLayout(children=(Button(description='Reset', layout=Layout(grid_area='widget001'), style=ButtonStyle()…"
      ]
     },
     "metadata": {},
     "output_type": "display_data"
    },
    {
     "data": {
      "application/vnd.jupyter.widget-view+json": {
       "model_id": "398c00af435642c08dc4026f37f35d6e",
       "version_major": 2,
       "version_minor": 0
      },
      "text/plain": [
       "Output()"
      ]
     },
     "metadata": {},
     "output_type": "display_data"
    }
   ],
   "source": [
    "inspector = GOLCNNInspector(mynet, pulsar)"
   ]
  },
  {
   "cell_type": "code",
   "execution_count": 10,
   "id": "e7268984",
   "metadata": {},
   "outputs": [
    {
     "data": {
      "application/vnd.jupyter.widget-view+json": {
       "model_id": "00fcf2b777ce4d319b66b6a59bb6c5b0",
       "version_major": 2,
       "version_minor": 0
      },
      "text/plain": [
       "MultiCanvas(height=512, width=512)"
      ]
     },
     "metadata": {},
     "output_type": "display_data"
    },
    {
     "data": {
      "application/vnd.jupyter.widget-view+json": {
       "model_id": "5d41041df0dc4978b81a463e4c909fa7",
       "version_major": 2,
       "version_minor": 0
      },
      "text/plain": [
       "GridspecLayout(children=(Button(description='Reset', layout=Layout(grid_area='widget001'), style=ButtonStyle()…"
      ]
     },
     "metadata": {},
     "output_type": "display_data"
    },
    {
     "data": {
      "application/vnd.jupyter.widget-view+json": {
       "model_id": "79e64eb8bbdb467eb67e3c378cd57081",
       "version_major": 2,
       "version_minor": 0
      },
      "text/plain": [
       "Output()"
      ]
     },
     "metadata": {},
     "output_type": "display_data"
    }
   ],
   "source": [
    "inspector2 = GOLCNNInspector(testnet, pulsar)"
   ]
  },
  {
   "cell_type": "code",
   "execution_count": null,
   "id": "d5164e5e",
   "metadata": {},
   "outputs": [],
   "source": []
  }
 ],
 "metadata": {
  "kernelspec": {
   "display_name": "gol_venv",
   "language": "python",
   "name": "gol_venv"
  },
  "language_info": {
   "codemirror_mode": {
    "name": "ipython",
    "version": 3
   },
   "file_extension": ".py",
   "mimetype": "text/x-python",
   "name": "python",
   "nbconvert_exporter": "python",
   "pygments_lexer": "ipython3",
   "version": "3.9.16"
  }
 },
 "nbformat": 4,
 "nbformat_minor": 5
}
