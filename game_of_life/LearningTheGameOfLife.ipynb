{
 "cells": [
  {
   "cell_type": "code",
   "execution_count": 1,
   "id": "7a064907",
   "metadata": {},
   "outputs": [],
   "source": [
    "import numpy as np\n",
    "import matplotlib.pyplot as plt\n",
    "%matplotlib inline\n",
    "import torch\n",
    "import torch.nn as nn\n",
    "import torch.nn.functional as F\n",
    "import time\n",
    "from torch.utils.data import TensorDataset, DataLoader\n",
    "\n",
    "from GameOfLife import StandardEngine\n",
    "from GOLCNN import OPNet\n",
    "from MinimalSolution import MinNet\n",
    "\n",
    "device = \"cuda\""
   ]
  },
  {
   "cell_type": "code",
   "execution_count": 2,
   "id": "9ea92ff5",
   "metadata": {},
   "outputs": [],
   "source": [
    "def generateDataset(dataSetSize=1000, size=32, n_steps=2, returnTensor=False):\n",
    "    init_state = np.zeros((32,32))\n",
    "    engine = StandardEngine(init_state)\n",
    "    \n",
    "    inputs = []\n",
    "    outputs = []\n",
    "    \n",
    "    for i in range(dataSetSize):\n",
    "        start_state = np.random.randint(0,2,(size,size))\n",
    "        inputs.append(start_state)\n",
    "        \n",
    "        engine.game_state = start_state\n",
    "        engine.step_n(n_steps)\n",
    "        \n",
    "        output_state = engine.game_state\n",
    "        outputs.append(output_state)\n",
    "    \n",
    "    inputs = np.array(inputs)\n",
    "    inputs = inputs.reshape((dataSetSize, 1, size, size))\n",
    "    outputs = np.array(outputs)\n",
    "    ouputs = outputs.reshape((dataSetSize, 1, size, size))\n",
    "    \n",
    "    tensor_x = torch.Tensor(inputs)\n",
    "    tensor_y = torch.Tensor(outputs)\n",
    "    \n",
    "    dataSet = TensorDataset(tensor_x, tensor_y)\n",
    "    if returnTensor:\n",
    "        return dataSet\n",
    "    \n",
    "    dataLoader = DataLoader(dataSet)\n",
    "    return dataLoader"
   ]
  },
  {
   "cell_type": "code",
   "execution_count": 3,
   "id": "f313f636",
   "metadata": {},
   "outputs": [],
   "source": [
    "def train_epoch(model, opt, criterion, trainloader, filters, device=\"cuda\", batch_size=64):\n",
    "    model.train()\n",
    "    losses = []\n",
    "    \n",
    "    for x_batch, y_batch in trainloader:\n",
    "        x_batch = x_batch.repeat(1,filters,1,1)\n",
    "        x_batch = x_batch.to(device)\n",
    "        y_batch = y_batch.to(device)\n",
    "        y_batch = y_batch[None, :]\n",
    "        \n",
    "        opt.zero_grad()\n",
    "        y_hat = model(x_batch)\n",
    "        loss = criterion(y_hat, y_batch)\n",
    "        loss.backward()\n",
    "        opt.step()\n",
    "        losses.append(loss.cpu().data.numpy())\n",
    "    \n",
    "    return np.mean(losses)"
   ]
  },
  {
   "cell_type": "code",
   "execution_count": 4,
   "id": "a1e2129f",
   "metadata": {},
   "outputs": [],
   "source": [
    "def test_model(model, test_loader, filters, criterion, device=\"cuda\"):\n",
    "    model.eval()\n",
    "    size = len(dataloader.dataset)\n",
    "    losses = []\n",
    "    num_correct = 0\n",
    "    \n",
    "    for x_batch, y_batch in test_loader:\n",
    "        x_batch = x_batch.repeat(1,filters,1,1)\n",
    "        x_batch = x_batch.to(device)\n",
    "        y_batch = y_batch.to(device)\n",
    "        \n",
    "        batch_outputs = model(x_batch)\n",
    "        loss = criterion(batch_outputs[0], y_batch)\n",
    "        \n",
    "        batch_preds = batch_outputs[0][0].cpu().detach().numpy()\n",
    "        batch_preds = batch_preds.round()\n",
    "        y_batch = y_batch[0].cpu().detach().numpy()\n",
    "        \n",
    "        num_correct += np.all(np.equal(batch_preds, y_batch))\n",
    "        losses.append(loss.cpu().data.numpy())\n",
    "    \n",
    "    avg_loss = np.mean(losses)\n",
    "    acc = num_correct / size\n",
    "    num_wrong = size - num_correct\n",
    "    \n",
    "    return acc, loss, num_correct, num_wrong"
   ]
  },
  {
   "cell_type": "code",
   "execution_count": 5,
   "id": "6fbfc8f6",
   "metadata": {},
   "outputs": [
    {
     "name": "stdout",
     "output_type": "stream",
     "text": [
      "Accuracy: 1.0, Test Loss: 3.2734212768004914e-18, Correct: 1000/1000, Incorrect: 0/1000\n"
     ]
    }
   ],
   "source": [
    "# Ensure test_model() works on the minimal solution CNN\n",
    "dataset_size = 1000\n",
    "dataloader = generateDataset(dataSetSize=dataset_size, size=32, n_steps=3)\n",
    "min_model = MinNet(3)\n",
    "min_model.to(device)\n",
    "criterion = nn.MSELoss()\n",
    "acc, epoch_test_loss, num_correct, num_wrong = test_model(min_model, dataloader, 1, criterion)\n",
    "print(f'Accuracy: {acc}, Test Loss: {epoch_test_loss}, Correct: {num_correct}/{dataset_size}, Incorrect: {num_wrong}/{dataset_size}')"
   ]
  },
  {
   "cell_type": "code",
   "execution_count": 6,
   "id": "3241bcfd",
   "metadata": {},
   "outputs": [],
   "source": [
    "# Training Parameters\n",
    "learning_rate = 1e-3\n",
    "batch_size = 100\n",
    "epochs = 1000\n",
    "\n",
    "m = 16 # Overparameterization Factor\n",
    "n = 2  # Steps of GOL\n",
    "model = OPNet(m, n)\n",
    "criterion = nn.MSELoss()\n",
    "optimizer = torch.optim.SGD(model.parameters(), lr=learning_rate)"
   ]
  },
  {
   "cell_type": "code",
   "execution_count": 7,
   "id": "1d195285",
   "metadata": {},
   "outputs": [
    {
     "name": "stdout",
     "output_type": "stream",
     "text": [
      "Epoch: 1/1000, Test Loss: 0.24124956130981445, Incorrect: 1000/1000 examples\n",
      "Epoch: 101/1000, Test Loss: 0.1871577501296997, Incorrect: 1000/1000 examples\n",
      "Epoch: 201/1000, Test Loss: 0.18195250630378723, Incorrect: 1000/1000 examples\n",
      "Epoch: 301/1000, Test Loss: 0.16713085770606995, Incorrect: 1000/1000 examples\n",
      "Epoch: 401/1000, Test Loss: 0.13074202835559845, Incorrect: 1000/1000 examples\n",
      "Epoch: 501/1000, Test Loss: 0.13080167770385742, Incorrect: 1000/1000 examples\n",
      "Epoch: 601/1000, Test Loss: 0.10869193077087402, Incorrect: 1000/1000 examples\n",
      "Epoch: 701/1000, Test Loss: 0.08300051093101501, Incorrect: 1000/1000 examples\n",
      "Epoch: 801/1000, Test Loss: 0.040355950593948364, Incorrect: 1000/1000 examples\n",
      "Epoch: 901/1000, Test Loss: 0.00741781760007143, Incorrect: 677/1000 examples\n",
      "END OF ERA 1\n",
      "Epoch: 1/1000, Test Loss: 0.0008659190498292446, Incorrect: 5/1000 examples\n",
      "Epoch: 101/1000, Test Loss: 0.0006141755147837102, Incorrect: 5/1000 examples\n",
      "Epoch: 201/1000, Test Loss: 0.0006999216857366264, Incorrect: 5/1000 examples\n",
      "Epoch: 301/1000, Test Loss: 0.0006760944379493594, Incorrect: 3/1000 examples\n",
      "Epoch: 401/1000, Test Loss: 0.0009490161319263279, Incorrect: 2/1000 examples\n",
      "Epoch: 501/1000, Test Loss: 0.0006654147291556001, Incorrect: 1/1000 examples\n",
      "Epoch: 601/1000, Test Loss: 0.00037592859007418156, Incorrect: 0/1000 examples\n",
      "Epoch: 701/1000, Test Loss: 0.0004161334072705358, Incorrect: 0/1000 examples\n",
      "Epoch: 801/1000, Test Loss: 0.0005734660080634058, Incorrect: 0/1000 examples\n"
     ]
    },
    {
     "ename": "KeyboardInterrupt",
     "evalue": "",
     "output_type": "error",
     "traceback": [
      "\u001b[0;31m---------------------------------------------------------------------------\u001b[0m",
      "\u001b[0;31mKeyboardInterrupt\u001b[0m                         Traceback (most recent call last)",
      "Cell \u001b[0;32mIn[7], line 19\u001b[0m\n\u001b[1;32m     17\u001b[0m \u001b[38;5;28;01mfor\u001b[39;00m t \u001b[38;5;129;01min\u001b[39;00m \u001b[38;5;28mrange\u001b[39m(epochs):\n\u001b[1;32m     18\u001b[0m     dataloader \u001b[38;5;241m=\u001b[39m generateDataset(dataSetSize\u001b[38;5;241m=\u001b[39m\u001b[38;5;241m1000\u001b[39m, size\u001b[38;5;241m=\u001b[39m\u001b[38;5;241m32\u001b[39m, n_steps\u001b[38;5;241m=\u001b[39m\u001b[38;5;241m2\u001b[39m)\n\u001b[0;32m---> 19\u001b[0m     epoch_train_loss \u001b[38;5;241m=\u001b[39m \u001b[43mtrain_epoch\u001b[49m\u001b[43m(\u001b[49m\u001b[43mmodel\u001b[49m\u001b[43m,\u001b[49m\u001b[43m \u001b[49m\u001b[43moptimizer\u001b[49m\u001b[43m,\u001b[49m\u001b[43m \u001b[49m\u001b[43mcriterion\u001b[49m\u001b[43m,\u001b[49m\u001b[43m \u001b[49m\u001b[43mdataloader\u001b[49m\u001b[43m,\u001b[49m\u001b[43m \u001b[49m\u001b[43mm\u001b[49m\u001b[43m)\u001b[49m\n\u001b[1;32m     21\u001b[0m     \u001b[38;5;28;01mif\u001b[39;00m t \u001b[38;5;241m%\u001b[39m \u001b[38;5;241m100\u001b[39m \u001b[38;5;241m==\u001b[39m \u001b[38;5;241m0\u001b[39m:\n\u001b[1;32m     22\u001b[0m         acc, epoch_test_loss, num_correct, num_wrong \u001b[38;5;241m=\u001b[39m test_model(model, dataloader, m, criterion)\n",
      "Cell \u001b[0;32mIn[3], line 14\u001b[0m, in \u001b[0;36mtrain_epoch\u001b[0;34m(model, opt, criterion, trainloader, filters, device, batch_size)\u001b[0m\n\u001b[1;32m     12\u001b[0m y_hat \u001b[38;5;241m=\u001b[39m model(x_batch)\n\u001b[1;32m     13\u001b[0m loss \u001b[38;5;241m=\u001b[39m criterion(y_hat, y_batch)\n\u001b[0;32m---> 14\u001b[0m \u001b[43mloss\u001b[49m\u001b[38;5;241;43m.\u001b[39;49m\u001b[43mbackward\u001b[49m\u001b[43m(\u001b[49m\u001b[43m)\u001b[49m\n\u001b[1;32m     15\u001b[0m opt\u001b[38;5;241m.\u001b[39mstep()\n\u001b[1;32m     16\u001b[0m losses\u001b[38;5;241m.\u001b[39mappend(loss\u001b[38;5;241m.\u001b[39mcpu()\u001b[38;5;241m.\u001b[39mdata\u001b[38;5;241m.\u001b[39mnumpy())\n",
      "File \u001b[0;32m~/Desktop/everything/projects/nn-sensitivity-research/game_of_life/gol_venv/lib/python3.9/site-packages/torch/_tensor.py:488\u001b[0m, in \u001b[0;36mTensor.backward\u001b[0;34m(self, gradient, retain_graph, create_graph, inputs)\u001b[0m\n\u001b[1;32m    478\u001b[0m \u001b[38;5;28;01mif\u001b[39;00m has_torch_function_unary(\u001b[38;5;28mself\u001b[39m):\n\u001b[1;32m    479\u001b[0m     \u001b[38;5;28;01mreturn\u001b[39;00m handle_torch_function(\n\u001b[1;32m    480\u001b[0m         Tensor\u001b[38;5;241m.\u001b[39mbackward,\n\u001b[1;32m    481\u001b[0m         (\u001b[38;5;28mself\u001b[39m,),\n\u001b[0;32m   (...)\u001b[0m\n\u001b[1;32m    486\u001b[0m         inputs\u001b[38;5;241m=\u001b[39minputs,\n\u001b[1;32m    487\u001b[0m     )\n\u001b[0;32m--> 488\u001b[0m \u001b[43mtorch\u001b[49m\u001b[38;5;241;43m.\u001b[39;49m\u001b[43mautograd\u001b[49m\u001b[38;5;241;43m.\u001b[39;49m\u001b[43mbackward\u001b[49m\u001b[43m(\u001b[49m\n\u001b[1;32m    489\u001b[0m \u001b[43m    \u001b[49m\u001b[38;5;28;43mself\u001b[39;49m\u001b[43m,\u001b[49m\u001b[43m \u001b[49m\u001b[43mgradient\u001b[49m\u001b[43m,\u001b[49m\u001b[43m \u001b[49m\u001b[43mretain_graph\u001b[49m\u001b[43m,\u001b[49m\u001b[43m \u001b[49m\u001b[43mcreate_graph\u001b[49m\u001b[43m,\u001b[49m\u001b[43m \u001b[49m\u001b[43minputs\u001b[49m\u001b[38;5;241;43m=\u001b[39;49m\u001b[43minputs\u001b[49m\n\u001b[1;32m    490\u001b[0m \u001b[43m\u001b[49m\u001b[43m)\u001b[49m\n",
      "File \u001b[0;32m~/Desktop/everything/projects/nn-sensitivity-research/game_of_life/gol_venv/lib/python3.9/site-packages/torch/autograd/__init__.py:197\u001b[0m, in \u001b[0;36mbackward\u001b[0;34m(tensors, grad_tensors, retain_graph, create_graph, grad_variables, inputs)\u001b[0m\n\u001b[1;32m    192\u001b[0m     retain_graph \u001b[38;5;241m=\u001b[39m create_graph\n\u001b[1;32m    194\u001b[0m \u001b[38;5;66;03m# The reason we repeat same the comment below is that\u001b[39;00m\n\u001b[1;32m    195\u001b[0m \u001b[38;5;66;03m# some Python versions print out the first line of a multi-line function\u001b[39;00m\n\u001b[1;32m    196\u001b[0m \u001b[38;5;66;03m# calls in the traceback and some print out the last line\u001b[39;00m\n\u001b[0;32m--> 197\u001b[0m \u001b[43mVariable\u001b[49m\u001b[38;5;241;43m.\u001b[39;49m\u001b[43m_execution_engine\u001b[49m\u001b[38;5;241;43m.\u001b[39;49m\u001b[43mrun_backward\u001b[49m\u001b[43m(\u001b[49m\u001b[43m  \u001b[49m\u001b[38;5;66;43;03m# Calls into the C++ engine to run the backward pass\u001b[39;49;00m\n\u001b[1;32m    198\u001b[0m \u001b[43m    \u001b[49m\u001b[43mtensors\u001b[49m\u001b[43m,\u001b[49m\u001b[43m \u001b[49m\u001b[43mgrad_tensors_\u001b[49m\u001b[43m,\u001b[49m\u001b[43m \u001b[49m\u001b[43mretain_graph\u001b[49m\u001b[43m,\u001b[49m\u001b[43m \u001b[49m\u001b[43mcreate_graph\u001b[49m\u001b[43m,\u001b[49m\u001b[43m \u001b[49m\u001b[43minputs\u001b[49m\u001b[43m,\u001b[49m\n\u001b[1;32m    199\u001b[0m \u001b[43m    \u001b[49m\u001b[43mallow_unreachable\u001b[49m\u001b[38;5;241;43m=\u001b[39;49m\u001b[38;5;28;43;01mTrue\u001b[39;49;00m\u001b[43m,\u001b[49m\u001b[43m \u001b[49m\u001b[43maccumulate_grad\u001b[49m\u001b[38;5;241;43m=\u001b[39;49m\u001b[38;5;28;43;01mTrue\u001b[39;49;00m\u001b[43m)\u001b[49m\n",
      "\u001b[0;31mKeyboardInterrupt\u001b[0m: "
     ]
    }
   ],
   "source": [
    "loss = []\n",
    "\n",
    "model.to(device)\n",
    "\n",
    "for t in range(epochs):\n",
    "    dataloader = generateDataset(dataSetSize=1000, size=32, n_steps=2)\n",
    "    epoch_train_loss = train_epoch(model, optimizer, criterion, dataloader, m)\n",
    "    \n",
    "    if t % 100 == 0:\n",
    "        acc, epoch_test_loss, num_correct, num_wrong = test_model(model, dataloader, m, criterion)\n",
    "        loss.append(epoch_test_loss)\n",
    "        print(f'Epoch: {t+1}/{epochs}, Test Loss: {epoch_test_loss}, Incorrect: {num_wrong}/1000 examples')\n",
    "        \n",
    "print(\"END OF ERA 1\")\n",
    "optimizer = torch.optim.SGD(model.parameters(), lr=learning_rate*0.1)\n",
    "\n",
    "for t in range(epochs):\n",
    "    dataloader = generateDataset(dataSetSize=1000, size=32, n_steps=2)\n",
    "    epoch_train_loss = train_epoch(model, optimizer, criterion, dataloader, m)\n",
    "    \n",
    "    if t % 100 == 0:\n",
    "        acc, epoch_test_loss, num_correct, num_wrong = test_model(model, dataloader, m, criterion)\n",
    "        loss.append(epoch_test_loss)\n",
    "        print(f'Epoch: {t+1}/{epochs}, Test Loss: {epoch_test_loss}, Incorrect: {num_wrong}/1000 examples')\n",
    "        \n",
    "print(\"END OF ERA 2\")\n",
    "print(\"DONE!\")"
   ]
  },
  {
   "cell_type": "code",
   "execution_count": 8,
   "id": "481176c4",
   "metadata": {},
   "outputs": [],
   "source": [
    "torch.save(model, f'./models/op_m16_n2_model1.pt')"
   ]
  },
  {
   "cell_type": "code",
   "execution_count": null,
   "id": "e78646aa",
   "metadata": {},
   "outputs": [],
   "source": []
  }
 ],
 "metadata": {
  "kernelspec": {
   "display_name": "gol_venv",
   "language": "python",
   "name": "gol_venv"
  },
  "language_info": {
   "codemirror_mode": {
    "name": "ipython",
    "version": 3
   },
   "file_extension": ".py",
   "mimetype": "text/x-python",
   "name": "python",
   "nbconvert_exporter": "python",
   "pygments_lexer": "ipython3",
   "version": "3.9.16"
  }
 },
 "nbformat": 4,
 "nbformat_minor": 5
}
