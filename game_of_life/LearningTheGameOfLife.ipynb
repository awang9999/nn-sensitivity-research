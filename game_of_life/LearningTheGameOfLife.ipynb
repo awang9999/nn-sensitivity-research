{
 "cells": [
  {
   "cell_type": "code",
   "execution_count": 1,
   "id": "7a064907",
   "metadata": {},
   "outputs": [],
   "source": [
    "import numpy as np\n",
    "import torch\n",
    "import torch.nn as nn\n",
    "\n",
    "from GOLDataset import generateDataset\n",
    "from GOLCNN import OPNet, train_epoch, test_model\n",
    "from MinimalSolution import MinNet\n",
    "\n",
    "device = \"cuda\""
   ]
  },
  {
   "cell_type": "code",
   "execution_count": 2,
   "id": "6fbfc8f6",
   "metadata": {},
   "outputs": [
    {
     "name": "stdout",
     "output_type": "stream",
     "text": [
      "Accuracy: 1.0, Test Loss: 3.1864204879236953e-18, Correct: 1000/1000, Incorrect: 0/1000\n"
     ]
    }
   ],
   "source": [
    "# Ensure test_model() works on the minimal solution CNN\n",
    "dataset_size = 1000\n",
    "dataloader = generateDataset(dataSetSize=dataset_size, size=32, n_steps=3)\n",
    "min_model = MinNet(3)\n",
    "min_model.to(device)\n",
    "criterion = nn.MSELoss(reduction='mean')\n",
    "acc, epoch_test_loss, num_correct, num_wrong = test_model(min_model, dataloader, 1, criterion)\n",
    "print(f'Accuracy: {acc}, Test Loss: {epoch_test_loss}, Correct: {num_correct}/{dataset_size}, Incorrect: {num_wrong}/{dataset_size}')"
   ]
  },
  {
   "cell_type": "code",
   "execution_count": 4,
   "id": "3241bcfd",
   "metadata": {},
   "outputs": [],
   "source": [
    "# Training Parameters\n",
    "learning_rate = 1e-3\n",
    "batch_size_param = 64\n",
    "epochs = 10\n",
    "checkpoint_rate = 5\n",
    "\n",
    "m = 16 # Overparameterization Factor\n",
    "n = 3  # Steps of GOL simulation\n",
    "model = OPNet(m, n)\n",
    "criterion = nn.MSELoss(reduction='mean')\n",
    "optimizer = torch.optim.SGD(model.parameters(), lr=learning_rate)"
   ]
  },
  {
   "cell_type": "code",
   "execution_count": 5,
   "id": "1d195285",
   "metadata": {},
   "outputs": [
    {
     "name": "stdout",
     "output_type": "stream",
     "text": [
      "Epoch: 6/10, Test Loss: 0.24100607633590698, Incorrect: 1000/1000 examples\n",
      "Epoch: 11/10, Test Loss: 0.23955798149108887, Incorrect: 1000/1000 examples\n",
      "END OF ERA 1\n",
      "Epoch: 6/10, Test Loss: 0.23940441012382507, Incorrect: 1000/1000 examples\n",
      "Epoch: 11/10, Test Loss: 0.23923274874687195, Incorrect: 1000/1000 examples\n",
      "END OF ERA 2\n",
      "DONE!\n"
     ]
    }
   ],
   "source": [
    "loss = []\n",
    "\n",
    "model.to(device)\n",
    "\n",
    "for t in range(1, epochs + 1):\n",
    "    dataloader = generateDataset(dataSetSize=1000, size=32, n_steps=n, batch_size=batch_size_param)\n",
    "    epoch_train_loss = train_epoch(model, optimizer, criterion, dataloader, m)\n",
    "    \n",
    "    if t % checkpoint_rate == 0:\n",
    "        acc, epoch_test_loss, num_correct, num_wrong = test_model(model, dataloader, m, criterion)\n",
    "        loss.append(epoch_test_loss)\n",
    "        print(f'Epoch: {t}/{epochs}, Test Loss: {epoch_test_loss}, Incorrect: {num_wrong}/1000 examples')\n",
    "        \n",
    "print(\"END OF ERA 1\")\n",
    "\n",
    "optimizer = torch.optim.SGD(model.parameters(), lr=learning_rate*0.1)\n",
    "\n",
    "for t in range(1, epochs + 1):\n",
    "    dataloader = generateDataset(dataSetSize=1000, size=32, n_steps=n, batch_size=batch_size_param)\n",
    "    epoch_train_loss = train_epoch(model, optimizer, criterion, dataloader, m)\n",
    "    \n",
    "    if t % checkpoint_rate == 0:\n",
    "        acc, epoch_test_loss, num_correct, num_wrong = test_model(model, dataloader, m, criterion)\n",
    "        loss.append(epoch_test_loss)\n",
    "        print(f'Epoch: {t}/{epochs}, Test Loss: {epoch_test_loss}, Incorrect: {num_wrong}/1000 examples')\n",
    "        \n",
    "print(\"END OF ERA 2\")\n",
    "print(\"DONE!\")"
   ]
  },
  {
   "cell_type": "code",
   "execution_count": null,
   "id": "481176c4",
   "metadata": {},
   "outputs": [],
   "source": [
    "torch.save(model, f'./models/op_m16_n2_model2.pt')"
   ]
  }
 ],
 "metadata": {
  "kernelspec": {
   "display_name": "gol_venv",
   "language": "python",
   "name": "gol_venv"
  },
  "language_info": {
   "codemirror_mode": {
    "name": "ipython",
    "version": 3
   },
   "file_extension": ".py",
   "mimetype": "text/x-python",
   "name": "python",
   "nbconvert_exporter": "python",
   "pygments_lexer": "ipython3",
   "version": "3.9.16"
  }
 },
 "nbformat": 4,
 "nbformat_minor": 5
}
